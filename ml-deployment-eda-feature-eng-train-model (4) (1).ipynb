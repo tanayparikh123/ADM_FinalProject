{
 "cells": [
  {
   "cell_type": "markdown",
   "id": "8916ca69",
   "metadata": {
    "papermill": {
     "duration": 0.028859,
     "end_time": "2023-07-03T00:14:44.261783",
     "exception": false,
     "start_time": "2023-07-03T00:14:44.232924",
     "status": "completed"
    },
    "tags": []
   },
   "source": [
    "# Importing Libraries"
   ]
  },
  {
   "cell_type": "markdown",
   "id": "ec68200d",
   "metadata": {
    "papermill": {
     "duration": 0.027863,
     "end_time": "2023-07-03T00:14:44.318327",
     "exception": false,
     "start_time": "2023-07-03T00:14:44.290464",
     "status": "completed"
    },
    "tags": []
   },
   "source": [
    "## problem Defintion\n",
    " - Bike sharing systems are a means of renting bicycles where the process of obtaining membership, rental, and bike return is  automated via a network of kiosk locations throughout a city.\n",
    " - Using these systems, people are able rent a bike from a one location and return it to a different place on an as-needed basis. Currently, there are over 500 bike-sharing programs around the world."
   ]
  },
  {
   "cell_type": "code",
   "execution_count": 5,
   "id": "970e9b6a",
   "metadata": {
    "execution": {
     "iopub.execute_input": "2023-07-03T00:14:44.375913Z",
     "iopub.status.busy": "2023-07-03T00:14:44.375585Z",
     "iopub.status.idle": "2023-07-03T00:14:45.731519Z",
     "shell.execute_reply": "2023-07-03T00:14:45.730197Z"
    },
    "papermill": {
     "duration": 1.389093,
     "end_time": "2023-07-03T00:14:45.734609",
     "exception": false,
     "start_time": "2023-07-03T00:14:44.345516",
     "status": "completed"
    },
    "tags": []
   },
   "outputs": [],
   "source": [
    "import numpy as np \n",
    "import pandas as pd \n",
    "import matplotlib.pyplot as plt\n",
    "import seaborn as sns "
   ]
  },
  {
   "cell_type": "markdown",
   "id": "7c4588d7",
   "metadata": {
    "papermill": {
     "duration": 0.031257,
     "end_time": "2023-07-03T00:14:45.797613",
     "exception": false,
     "start_time": "2023-07-03T00:14:45.766356",
     "status": "completed"
    },
    "tags": []
   },
   "source": [
    "# About dataset\n",
    "**datetime :**  hourly date + timestamp\n",
    "\n",
    "**season :**   1 = spring, 2 = summer, 3 = fall, 4 = winter \n",
    "\n",
    "**holiday :**  whether the day is considered a holiday\n",
    "\n",
    "**workingday :**  whether the day is neither a weekend nor holiday\n",
    "\n",
    "**weather :**  1: Clear, Few clouds, Partly cloudy, Partly cloudy\n",
    "2: Mist + Cloudy, Mist + Broken clouds, Mist + Few clouds, Mist\n",
    "3: Light Snow, Light Rain + Thunderstorm + Scattered clouds, Light Rain + Scattered clouds\n",
    "4: Heavy Rain + Ice Pallets + Thunderstorm + Mist, Snow + Fog \n",
    "\n",
    "**temp :**  temperature in Celsius\n",
    "\n",
    "**atemp :**  \"feels like\" temperature in Celsius\n",
    "\n",
    "**humidity :**  relative humidity\n",
    "\n",
    "**windspeed :**  wind speed\n",
    "\n",
    "**casual :**  number of non-registered user rentals initiated\n",
    "\n",
    "**registered :**  number of registered user rentals initiated"
   ]
  },
  {
   "cell_type": "code",
   "execution_count": 6,
   "id": "758f22f7",
   "metadata": {
    "execution": {
     "iopub.execute_input": "2023-07-03T00:14:45.862477Z",
     "iopub.status.busy": "2023-07-03T00:14:45.862063Z",
     "iopub.status.idle": "2023-07-03T00:14:45.947201Z",
     "shell.execute_reply": "2023-07-03T00:14:45.946043Z"
    },
    "papermill": {
     "duration": 0.120941,
     "end_time": "2023-07-03T00:14:45.950114",
     "exception": false,
     "start_time": "2023-07-03T00:14:45.829173",
     "status": "completed"
    },
    "tags": []
   },
   "outputs": [
    {
     "data": {
      "text/html": [
       "<div>\n",
       "<style scoped>\n",
       "    .dataframe tbody tr th:only-of-type {\n",
       "        vertical-align: middle;\n",
       "    }\n",
       "\n",
       "    .dataframe tbody tr th {\n",
       "        vertical-align: top;\n",
       "    }\n",
       "\n",
       "    .dataframe thead th {\n",
       "        text-align: right;\n",
       "    }\n",
       "</style>\n",
       "<table border=\"1\" class=\"dataframe\">\n",
       "  <thead>\n",
       "    <tr style=\"text-align: right;\">\n",
       "      <th></th>\n",
       "      <th>datetime</th>\n",
       "      <th>season</th>\n",
       "      <th>holiday</th>\n",
       "      <th>workingday</th>\n",
       "      <th>weather</th>\n",
       "      <th>temp</th>\n",
       "      <th>atemp</th>\n",
       "      <th>humidity</th>\n",
       "      <th>windspeed</th>\n",
       "      <th>casual</th>\n",
       "      <th>registered</th>\n",
       "      <th>count</th>\n",
       "    </tr>\n",
       "  </thead>\n",
       "  <tbody>\n",
       "    <tr>\n",
       "      <th>0</th>\n",
       "      <td>2011-01-01 00:00:00</td>\n",
       "      <td>1</td>\n",
       "      <td>0</td>\n",
       "      <td>0</td>\n",
       "      <td>1</td>\n",
       "      <td>9.84</td>\n",
       "      <td>14.395</td>\n",
       "      <td>81</td>\n",
       "      <td>0.0</td>\n",
       "      <td>3</td>\n",
       "      <td>13</td>\n",
       "      <td>16</td>\n",
       "    </tr>\n",
       "    <tr>\n",
       "      <th>1</th>\n",
       "      <td>2011-01-01 01:00:00</td>\n",
       "      <td>1</td>\n",
       "      <td>0</td>\n",
       "      <td>0</td>\n",
       "      <td>1</td>\n",
       "      <td>9.02</td>\n",
       "      <td>13.635</td>\n",
       "      <td>80</td>\n",
       "      <td>0.0</td>\n",
       "      <td>8</td>\n",
       "      <td>32</td>\n",
       "      <td>40</td>\n",
       "    </tr>\n",
       "    <tr>\n",
       "      <th>2</th>\n",
       "      <td>2011-01-01 02:00:00</td>\n",
       "      <td>1</td>\n",
       "      <td>0</td>\n",
       "      <td>0</td>\n",
       "      <td>1</td>\n",
       "      <td>9.02</td>\n",
       "      <td>13.635</td>\n",
       "      <td>80</td>\n",
       "      <td>0.0</td>\n",
       "      <td>5</td>\n",
       "      <td>27</td>\n",
       "      <td>32</td>\n",
       "    </tr>\n",
       "    <tr>\n",
       "      <th>3</th>\n",
       "      <td>2011-01-01 03:00:00</td>\n",
       "      <td>1</td>\n",
       "      <td>0</td>\n",
       "      <td>0</td>\n",
       "      <td>1</td>\n",
       "      <td>9.84</td>\n",
       "      <td>14.395</td>\n",
       "      <td>75</td>\n",
       "      <td>0.0</td>\n",
       "      <td>3</td>\n",
       "      <td>10</td>\n",
       "      <td>13</td>\n",
       "    </tr>\n",
       "    <tr>\n",
       "      <th>4</th>\n",
       "      <td>2011-01-01 04:00:00</td>\n",
       "      <td>1</td>\n",
       "      <td>0</td>\n",
       "      <td>0</td>\n",
       "      <td>1</td>\n",
       "      <td>9.84</td>\n",
       "      <td>14.395</td>\n",
       "      <td>75</td>\n",
       "      <td>0.0</td>\n",
       "      <td>0</td>\n",
       "      <td>1</td>\n",
       "      <td>1</td>\n",
       "    </tr>\n",
       "  </tbody>\n",
       "</table>\n",
       "</div>"
      ],
      "text/plain": [
       "              datetime  season  holiday  workingday  weather  temp   atemp  \\\n",
       "0  2011-01-01 00:00:00       1        0           0        1  9.84  14.395   \n",
       "1  2011-01-01 01:00:00       1        0           0        1  9.02  13.635   \n",
       "2  2011-01-01 02:00:00       1        0           0        1  9.02  13.635   \n",
       "3  2011-01-01 03:00:00       1        0           0        1  9.84  14.395   \n",
       "4  2011-01-01 04:00:00       1        0           0        1  9.84  14.395   \n",
       "\n",
       "   humidity  windspeed  casual  registered  count  \n",
       "0        81        0.0       3          13     16  \n",
       "1        80        0.0       8          32     40  \n",
       "2        80        0.0       5          27     32  \n",
       "3        75        0.0       3          10     13  \n",
       "4        75        0.0       0           1      1  "
      ]
     },
     "execution_count": 6,
     "metadata": {},
     "output_type": "execute_result"
    }
   ],
   "source": [
    "df = pd.read_csv(r'/Users/tanayparikh/Desktop/ADM_Project/train.csv')\n",
    "df.head()"
   ]
  },
  {
   "cell_type": "markdown",
   "id": "43b3e875",
   "metadata": {
    "papermill": {
     "duration": 0.031435,
     "end_time": "2023-07-03T00:14:46.013009",
     "exception": false,
     "start_time": "2023-07-03T00:14:45.981574",
     "status": "completed"
    },
    "tags": []
   },
   "source": [
    "### First viwe in the dataset"
   ]
  },
  {
   "cell_type": "code",
   "execution_count": 7,
   "id": "8cd64b8e",
   "metadata": {
    "execution": {
     "iopub.execute_input": "2023-07-03T00:14:46.078818Z",
     "iopub.status.busy": "2023-07-03T00:14:46.078084Z",
     "iopub.status.idle": "2023-07-03T00:14:46.084753Z",
     "shell.execute_reply": "2023-07-03T00:14:46.083819Z"
    },
    "papermill": {
     "duration": 0.042365,
     "end_time": "2023-07-03T00:14:46.087022",
     "exception": false,
     "start_time": "2023-07-03T00:14:46.044657",
     "status": "completed"
    },
    "tags": []
   },
   "outputs": [
    {
     "data": {
      "text/plain": [
       "(10886, 12)"
      ]
     },
     "execution_count": 7,
     "metadata": {},
     "output_type": "execute_result"
    }
   ],
   "source": [
    "# Shape Of The Dataset\n",
    "df.shape"
   ]
  },
  {
   "cell_type": "code",
   "execution_count": 8,
   "id": "9985c9fe",
   "metadata": {
    "execution": {
     "iopub.execute_input": "2023-07-03T00:14:46.152290Z",
     "iopub.status.busy": "2023-07-03T00:14:46.151556Z",
     "iopub.status.idle": "2023-07-03T00:14:46.180101Z",
     "shell.execute_reply": "2023-07-03T00:14:46.178790Z"
    },
    "papermill": {
     "duration": 0.064254,
     "end_time": "2023-07-03T00:14:46.182956",
     "exception": false,
     "start_time": "2023-07-03T00:14:46.118702",
     "status": "completed"
    },
    "tags": []
   },
   "outputs": [
    {
     "name": "stdout",
     "output_type": "stream",
     "text": [
      "<class 'pandas.core.frame.DataFrame'>\n",
      "RangeIndex: 10886 entries, 0 to 10885\n",
      "Data columns (total 12 columns):\n",
      " #   Column      Non-Null Count  Dtype  \n",
      "---  ------      --------------  -----  \n",
      " 0   datetime    10886 non-null  object \n",
      " 1   season      10886 non-null  int64  \n",
      " 2   holiday     10886 non-null  int64  \n",
      " 3   workingday  10886 non-null  int64  \n",
      " 4   weather     10886 non-null  int64  \n",
      " 5   temp        10886 non-null  float64\n",
      " 6   atemp       10886 non-null  float64\n",
      " 7   humidity    10886 non-null  int64  \n",
      " 8   windspeed   10886 non-null  float64\n",
      " 9   casual      10886 non-null  int64  \n",
      " 10  registered  10886 non-null  int64  \n",
      " 11  count       10886 non-null  int64  \n",
      "dtypes: float64(3), int64(8), object(1)\n",
      "memory usage: 1020.7+ KB\n"
     ]
    }
   ],
   "source": [
    "# Some info of the Dataset\n",
    "df.info()"
   ]
  },
  {
   "cell_type": "code",
   "execution_count": 9,
   "id": "64a6b984",
   "metadata": {
    "execution": {
     "iopub.execute_input": "2023-07-03T00:14:46.248626Z",
     "iopub.status.busy": "2023-07-03T00:14:46.248182Z",
     "iopub.status.idle": "2023-07-03T00:14:46.261803Z",
     "shell.execute_reply": "2023-07-03T00:14:46.260823Z"
    },
    "papermill": {
     "duration": 0.048439,
     "end_time": "2023-07-03T00:14:46.263911",
     "exception": false,
     "start_time": "2023-07-03T00:14:46.215472",
     "status": "completed"
    },
    "tags": []
   },
   "outputs": [
    {
     "data": {
      "text/plain": [
       "datetime      0\n",
       "season        0\n",
       "holiday       0\n",
       "workingday    0\n",
       "weather       0\n",
       "temp          0\n",
       "atemp         0\n",
       "humidity      0\n",
       "windspeed     0\n",
       "casual        0\n",
       "registered    0\n",
       "count         0\n",
       "dtype: int64"
      ]
     },
     "execution_count": 9,
     "metadata": {},
     "output_type": "execute_result"
    }
   ],
   "source": [
    "# let’s see if there are null valuecs\n",
    "df.isnull().sum()"
   ]
  },
  {
   "cell_type": "code",
   "execution_count": 10,
   "id": "9903314f",
   "metadata": {
    "execution": {
     "iopub.execute_input": "2023-07-03T00:14:46.331070Z",
     "iopub.status.busy": "2023-07-03T00:14:46.330063Z",
     "iopub.status.idle": "2023-07-03T00:14:46.337194Z",
     "shell.execute_reply": "2023-07-03T00:14:46.336050Z"
    },
    "papermill": {
     "duration": 0.042852,
     "end_time": "2023-07-03T00:14:46.339451",
     "exception": false,
     "start_time": "2023-07-03T00:14:46.296599",
     "status": "completed"
    },
    "tags": []
   },
   "outputs": [
    {
     "data": {
      "text/plain": [
       "Index(['datetime', 'season', 'holiday', 'workingday', 'weather', 'temp',\n",
       "       'atemp', 'humidity', 'windspeed', 'casual', 'registered', 'count'],\n",
       "      dtype='object')"
      ]
     },
     "execution_count": 10,
     "metadata": {},
     "output_type": "execute_result"
    }
   ],
   "source": [
    "#Let's see what are the columns were given in the dataset\n",
    "df.columns"
   ]
  },
  {
   "cell_type": "code",
   "execution_count": 11,
   "id": "1df8f465",
   "metadata": {
    "execution": {
     "iopub.execute_input": "2023-07-03T00:14:46.405106Z",
     "iopub.status.busy": "2023-07-03T00:14:46.404625Z",
     "iopub.status.idle": "2023-07-03T00:14:46.457468Z",
     "shell.execute_reply": "2023-07-03T00:14:46.456363Z"
    },
    "papermill": {
     "duration": 0.089145,
     "end_time": "2023-07-03T00:14:46.460146",
     "exception": false,
     "start_time": "2023-07-03T00:14:46.371001",
     "status": "completed"
    },
    "scrolled": true,
    "tags": []
   },
   "outputs": [
    {
     "data": {
      "text/html": [
       "<div>\n",
       "<style scoped>\n",
       "    .dataframe tbody tr th:only-of-type {\n",
       "        vertical-align: middle;\n",
       "    }\n",
       "\n",
       "    .dataframe tbody tr th {\n",
       "        vertical-align: top;\n",
       "    }\n",
       "\n",
       "    .dataframe thead th {\n",
       "        text-align: right;\n",
       "    }\n",
       "</style>\n",
       "<table border=\"1\" class=\"dataframe\">\n",
       "  <thead>\n",
       "    <tr style=\"text-align: right;\">\n",
       "      <th></th>\n",
       "      <th>season</th>\n",
       "      <th>holiday</th>\n",
       "      <th>workingday</th>\n",
       "      <th>weather</th>\n",
       "      <th>temp</th>\n",
       "      <th>atemp</th>\n",
       "      <th>humidity</th>\n",
       "      <th>windspeed</th>\n",
       "      <th>casual</th>\n",
       "      <th>registered</th>\n",
       "      <th>count</th>\n",
       "    </tr>\n",
       "  </thead>\n",
       "  <tbody>\n",
       "    <tr>\n",
       "      <th>count</th>\n",
       "      <td>10886.000000</td>\n",
       "      <td>10886.000000</td>\n",
       "      <td>10886.000000</td>\n",
       "      <td>10886.000000</td>\n",
       "      <td>10886.00000</td>\n",
       "      <td>10886.000000</td>\n",
       "      <td>10886.000000</td>\n",
       "      <td>10886.000000</td>\n",
       "      <td>10886.000000</td>\n",
       "      <td>10886.000000</td>\n",
       "      <td>10886.000000</td>\n",
       "    </tr>\n",
       "    <tr>\n",
       "      <th>mean</th>\n",
       "      <td>2.506614</td>\n",
       "      <td>0.028569</td>\n",
       "      <td>0.680875</td>\n",
       "      <td>1.418427</td>\n",
       "      <td>20.23086</td>\n",
       "      <td>23.655084</td>\n",
       "      <td>61.886460</td>\n",
       "      <td>12.799395</td>\n",
       "      <td>36.021955</td>\n",
       "      <td>155.552177</td>\n",
       "      <td>191.574132</td>\n",
       "    </tr>\n",
       "    <tr>\n",
       "      <th>std</th>\n",
       "      <td>1.116174</td>\n",
       "      <td>0.166599</td>\n",
       "      <td>0.466159</td>\n",
       "      <td>0.633839</td>\n",
       "      <td>7.79159</td>\n",
       "      <td>8.474601</td>\n",
       "      <td>19.245033</td>\n",
       "      <td>8.164537</td>\n",
       "      <td>49.960477</td>\n",
       "      <td>151.039033</td>\n",
       "      <td>181.144454</td>\n",
       "    </tr>\n",
       "    <tr>\n",
       "      <th>min</th>\n",
       "      <td>1.000000</td>\n",
       "      <td>0.000000</td>\n",
       "      <td>0.000000</td>\n",
       "      <td>1.000000</td>\n",
       "      <td>0.82000</td>\n",
       "      <td>0.760000</td>\n",
       "      <td>0.000000</td>\n",
       "      <td>0.000000</td>\n",
       "      <td>0.000000</td>\n",
       "      <td>0.000000</td>\n",
       "      <td>1.000000</td>\n",
       "    </tr>\n",
       "    <tr>\n",
       "      <th>25%</th>\n",
       "      <td>2.000000</td>\n",
       "      <td>0.000000</td>\n",
       "      <td>0.000000</td>\n",
       "      <td>1.000000</td>\n",
       "      <td>13.94000</td>\n",
       "      <td>16.665000</td>\n",
       "      <td>47.000000</td>\n",
       "      <td>7.001500</td>\n",
       "      <td>4.000000</td>\n",
       "      <td>36.000000</td>\n",
       "      <td>42.000000</td>\n",
       "    </tr>\n",
       "    <tr>\n",
       "      <th>50%</th>\n",
       "      <td>3.000000</td>\n",
       "      <td>0.000000</td>\n",
       "      <td>1.000000</td>\n",
       "      <td>1.000000</td>\n",
       "      <td>20.50000</td>\n",
       "      <td>24.240000</td>\n",
       "      <td>62.000000</td>\n",
       "      <td>12.998000</td>\n",
       "      <td>17.000000</td>\n",
       "      <td>118.000000</td>\n",
       "      <td>145.000000</td>\n",
       "    </tr>\n",
       "    <tr>\n",
       "      <th>75%</th>\n",
       "      <td>4.000000</td>\n",
       "      <td>0.000000</td>\n",
       "      <td>1.000000</td>\n",
       "      <td>2.000000</td>\n",
       "      <td>26.24000</td>\n",
       "      <td>31.060000</td>\n",
       "      <td>77.000000</td>\n",
       "      <td>16.997900</td>\n",
       "      <td>49.000000</td>\n",
       "      <td>222.000000</td>\n",
       "      <td>284.000000</td>\n",
       "    </tr>\n",
       "    <tr>\n",
       "      <th>max</th>\n",
       "      <td>4.000000</td>\n",
       "      <td>1.000000</td>\n",
       "      <td>1.000000</td>\n",
       "      <td>4.000000</td>\n",
       "      <td>41.00000</td>\n",
       "      <td>45.455000</td>\n",
       "      <td>100.000000</td>\n",
       "      <td>56.996900</td>\n",
       "      <td>367.000000</td>\n",
       "      <td>886.000000</td>\n",
       "      <td>977.000000</td>\n",
       "    </tr>\n",
       "  </tbody>\n",
       "</table>\n",
       "</div>"
      ],
      "text/plain": [
       "             season       holiday    workingday       weather         temp  \\\n",
       "count  10886.000000  10886.000000  10886.000000  10886.000000  10886.00000   \n",
       "mean       2.506614      0.028569      0.680875      1.418427     20.23086   \n",
       "std        1.116174      0.166599      0.466159      0.633839      7.79159   \n",
       "min        1.000000      0.000000      0.000000      1.000000      0.82000   \n",
       "25%        2.000000      0.000000      0.000000      1.000000     13.94000   \n",
       "50%        3.000000      0.000000      1.000000      1.000000     20.50000   \n",
       "75%        4.000000      0.000000      1.000000      2.000000     26.24000   \n",
       "max        4.000000      1.000000      1.000000      4.000000     41.00000   \n",
       "\n",
       "              atemp      humidity     windspeed        casual    registered  \\\n",
       "count  10886.000000  10886.000000  10886.000000  10886.000000  10886.000000   \n",
       "mean      23.655084     61.886460     12.799395     36.021955    155.552177   \n",
       "std        8.474601     19.245033      8.164537     49.960477    151.039033   \n",
       "min        0.760000      0.000000      0.000000      0.000000      0.000000   \n",
       "25%       16.665000     47.000000      7.001500      4.000000     36.000000   \n",
       "50%       24.240000     62.000000     12.998000     17.000000    118.000000   \n",
       "75%       31.060000     77.000000     16.997900     49.000000    222.000000   \n",
       "max       45.455000    100.000000     56.996900    367.000000    886.000000   \n",
       "\n",
       "              count  \n",
       "count  10886.000000  \n",
       "mean     191.574132  \n",
       "std      181.144454  \n",
       "min        1.000000  \n",
       "25%       42.000000  \n",
       "50%      145.000000  \n",
       "75%      284.000000  \n",
       "max      977.000000  "
      ]
     },
     "execution_count": 11,
     "metadata": {},
     "output_type": "execute_result"
    }
   ],
   "source": [
    "df.describe()"
   ]
  },
  {
   "cell_type": "markdown",
   "id": "f03ddeb6",
   "metadata": {
    "papermill": {
     "duration": 0.031583,
     "end_time": "2023-07-03T00:14:46.524475",
     "exception": false,
     "start_time": "2023-07-03T00:14:46.492892",
     "status": "completed"
    },
    "tags": []
   },
   "source": [
    "# Exploratory Data Analysis (EDA)"
   ]
  },
  {
   "cell_type": "markdown",
   "id": "8a6e8be7",
   "metadata": {
    "papermill": {
     "duration": 0.032148,
     "end_time": "2023-07-03T00:14:46.588793",
     "exception": false,
     "start_time": "2023-07-03T00:14:46.556645",
     "status": "completed"
    },
    "tags": []
   },
   "source": [
    "#### Data Analysis & visualisation\n",
    " ** Question**\n",
    "1. Make profit feature.\n",
    " - Each registerd user rent bike for 5 USD/day\n",
    " - Casual user rent bike for 20 USD\n",
    " - Taxes 0.14%\n",
    " - Maintance 1500/year\n",
    "2. Distribution count & profit.\n",
    "3. Profit for each day.\n",
    "4. Which season that has more registered & profit.\n",
    "5. Which weather condition that has more registered & profit.\n",
    "6. Correlation between profit & bikes count with all features.\n",
    "7. Rentals during rush hours (7-9 am &3-5 pm).\n",
    "8. Rentals during workingday & holiday.\n",
    "9. registered of casual is more.\n",
    "10. Schools (9-12) & (2-6) profit"
   ]
  },
  {
   "cell_type": "code",
   "execution_count": 12,
   "id": "f5b6b2c3",
   "metadata": {
    "execution": {
     "iopub.execute_input": "2023-07-03T00:14:46.656855Z",
     "iopub.status.busy": "2023-07-03T00:14:46.656001Z",
     "iopub.status.idle": "2023-07-03T00:14:46.936204Z",
     "shell.execute_reply": "2023-07-03T00:14:46.935107Z"
    },
    "papermill": {
     "duration": 0.317618,
     "end_time": "2023-07-03T00:14:46.939034",
     "exception": false,
     "start_time": "2023-07-03T00:14:46.621416",
     "status": "completed"
    },
    "tags": []
   },
   "outputs": [
    {
     "data": {
      "text/html": [
       "<div>\n",
       "<style scoped>\n",
       "    .dataframe tbody tr th:only-of-type {\n",
       "        vertical-align: middle;\n",
       "    }\n",
       "\n",
       "    .dataframe tbody tr th {\n",
       "        vertical-align: top;\n",
       "    }\n",
       "\n",
       "    .dataframe thead th {\n",
       "        text-align: right;\n",
       "    }\n",
       "</style>\n",
       "<table border=\"1\" class=\"dataframe\">\n",
       "  <thead>\n",
       "    <tr style=\"text-align: right;\">\n",
       "      <th></th>\n",
       "      <th>datetime</th>\n",
       "      <th>season</th>\n",
       "      <th>holiday</th>\n",
       "      <th>workingday</th>\n",
       "      <th>weather</th>\n",
       "      <th>temp</th>\n",
       "      <th>atemp</th>\n",
       "      <th>humidity</th>\n",
       "      <th>windspeed</th>\n",
       "      <th>casual</th>\n",
       "      <th>registered</th>\n",
       "      <th>count</th>\n",
       "      <th>Profit</th>\n",
       "    </tr>\n",
       "  </thead>\n",
       "  <tbody>\n",
       "    <tr>\n",
       "      <th>0</th>\n",
       "      <td>2011-01-01 00:00:00</td>\n",
       "      <td>1</td>\n",
       "      <td>0</td>\n",
       "      <td>0</td>\n",
       "      <td>1</td>\n",
       "      <td>9.84</td>\n",
       "      <td>14.395</td>\n",
       "      <td>81</td>\n",
       "      <td>0.0000</td>\n",
       "      <td>3</td>\n",
       "      <td>13</td>\n",
       "      <td>16</td>\n",
       "      <td>107.328767</td>\n",
       "    </tr>\n",
       "    <tr>\n",
       "      <th>1</th>\n",
       "      <td>2011-01-01 01:00:00</td>\n",
       "      <td>1</td>\n",
       "      <td>0</td>\n",
       "      <td>0</td>\n",
       "      <td>1</td>\n",
       "      <td>9.02</td>\n",
       "      <td>13.635</td>\n",
       "      <td>80</td>\n",
       "      <td>0.0000</td>\n",
       "      <td>8</td>\n",
       "      <td>32</td>\n",
       "      <td>40</td>\n",
       "      <td>275.028767</td>\n",
       "    </tr>\n",
       "    <tr>\n",
       "      <th>2</th>\n",
       "      <td>2011-01-01 02:00:00</td>\n",
       "      <td>1</td>\n",
       "      <td>0</td>\n",
       "      <td>0</td>\n",
       "      <td>1</td>\n",
       "      <td>9.02</td>\n",
       "      <td>13.635</td>\n",
       "      <td>80</td>\n",
       "      <td>0.0000</td>\n",
       "      <td>5</td>\n",
       "      <td>27</td>\n",
       "      <td>32</td>\n",
       "      <td>201.928767</td>\n",
       "    </tr>\n",
       "    <tr>\n",
       "      <th>3</th>\n",
       "      <td>2011-01-01 03:00:00</td>\n",
       "      <td>1</td>\n",
       "      <td>0</td>\n",
       "      <td>0</td>\n",
       "      <td>1</td>\n",
       "      <td>9.84</td>\n",
       "      <td>14.395</td>\n",
       "      <td>75</td>\n",
       "      <td>0.0000</td>\n",
       "      <td>3</td>\n",
       "      <td>10</td>\n",
       "      <td>13</td>\n",
       "      <td>94.428767</td>\n",
       "    </tr>\n",
       "    <tr>\n",
       "      <th>4</th>\n",
       "      <td>2011-01-01 04:00:00</td>\n",
       "      <td>1</td>\n",
       "      <td>0</td>\n",
       "      <td>0</td>\n",
       "      <td>1</td>\n",
       "      <td>9.84</td>\n",
       "      <td>14.395</td>\n",
       "      <td>75</td>\n",
       "      <td>0.0000</td>\n",
       "      <td>0</td>\n",
       "      <td>1</td>\n",
       "      <td>1</td>\n",
       "      <td>4.128767</td>\n",
       "    </tr>\n",
       "    <tr>\n",
       "      <th>...</th>\n",
       "      <td>...</td>\n",
       "      <td>...</td>\n",
       "      <td>...</td>\n",
       "      <td>...</td>\n",
       "      <td>...</td>\n",
       "      <td>...</td>\n",
       "      <td>...</td>\n",
       "      <td>...</td>\n",
       "      <td>...</td>\n",
       "      <td>...</td>\n",
       "      <td>...</td>\n",
       "      <td>...</td>\n",
       "      <td>...</td>\n",
       "    </tr>\n",
       "    <tr>\n",
       "      <th>10881</th>\n",
       "      <td>2012-12-19 19:00:00</td>\n",
       "      <td>4</td>\n",
       "      <td>0</td>\n",
       "      <td>1</td>\n",
       "      <td>1</td>\n",
       "      <td>15.58</td>\n",
       "      <td>19.695</td>\n",
       "      <td>50</td>\n",
       "      <td>26.0027</td>\n",
       "      <td>7</td>\n",
       "      <td>329</td>\n",
       "      <td>336</td>\n",
       "      <td>1534.928767</td>\n",
       "    </tr>\n",
       "    <tr>\n",
       "      <th>10882</th>\n",
       "      <td>2012-12-19 20:00:00</td>\n",
       "      <td>4</td>\n",
       "      <td>0</td>\n",
       "      <td>1</td>\n",
       "      <td>1</td>\n",
       "      <td>14.76</td>\n",
       "      <td>17.425</td>\n",
       "      <td>57</td>\n",
       "      <td>15.0013</td>\n",
       "      <td>10</td>\n",
       "      <td>231</td>\n",
       "      <td>241</td>\n",
       "      <td>1165.128767</td>\n",
       "    </tr>\n",
       "    <tr>\n",
       "      <th>10883</th>\n",
       "      <td>2012-12-19 21:00:00</td>\n",
       "      <td>4</td>\n",
       "      <td>0</td>\n",
       "      <td>1</td>\n",
       "      <td>1</td>\n",
       "      <td>13.94</td>\n",
       "      <td>15.910</td>\n",
       "      <td>61</td>\n",
       "      <td>15.0013</td>\n",
       "      <td>4</td>\n",
       "      <td>164</td>\n",
       "      <td>168</td>\n",
       "      <td>773.828767</td>\n",
       "    </tr>\n",
       "    <tr>\n",
       "      <th>10884</th>\n",
       "      <td>2012-12-19 22:00:00</td>\n",
       "      <td>4</td>\n",
       "      <td>0</td>\n",
       "      <td>1</td>\n",
       "      <td>1</td>\n",
       "      <td>13.94</td>\n",
       "      <td>17.425</td>\n",
       "      <td>61</td>\n",
       "      <td>6.0032</td>\n",
       "      <td>12</td>\n",
       "      <td>117</td>\n",
       "      <td>129</td>\n",
       "      <td>709.328767</td>\n",
       "    </tr>\n",
       "    <tr>\n",
       "      <th>10885</th>\n",
       "      <td>2012-12-19 23:00:00</td>\n",
       "      <td>4</td>\n",
       "      <td>0</td>\n",
       "      <td>1</td>\n",
       "      <td>1</td>\n",
       "      <td>13.12</td>\n",
       "      <td>16.665</td>\n",
       "      <td>66</td>\n",
       "      <td>8.9981</td>\n",
       "      <td>4</td>\n",
       "      <td>84</td>\n",
       "      <td>88</td>\n",
       "      <td>429.828767</td>\n",
       "    </tr>\n",
       "  </tbody>\n",
       "</table>\n",
       "<p>10886 rows × 13 columns</p>\n",
       "</div>"
      ],
      "text/plain": [
       "                  datetime  season  holiday  workingday  weather   temp  \\\n",
       "0      2011-01-01 00:00:00       1        0           0        1   9.84   \n",
       "1      2011-01-01 01:00:00       1        0           0        1   9.02   \n",
       "2      2011-01-01 02:00:00       1        0           0        1   9.02   \n",
       "3      2011-01-01 03:00:00       1        0           0        1   9.84   \n",
       "4      2011-01-01 04:00:00       1        0           0        1   9.84   \n",
       "...                    ...     ...      ...         ...      ...    ...   \n",
       "10881  2012-12-19 19:00:00       4        0           1        1  15.58   \n",
       "10882  2012-12-19 20:00:00       4        0           1        1  14.76   \n",
       "10883  2012-12-19 21:00:00       4        0           1        1  13.94   \n",
       "10884  2012-12-19 22:00:00       4        0           1        1  13.94   \n",
       "10885  2012-12-19 23:00:00       4        0           1        1  13.12   \n",
       "\n",
       "        atemp  humidity  windspeed  casual  registered  count       Profit  \n",
       "0      14.395        81     0.0000       3          13     16   107.328767  \n",
       "1      13.635        80     0.0000       8          32     40   275.028767  \n",
       "2      13.635        80     0.0000       5          27     32   201.928767  \n",
       "3      14.395        75     0.0000       3          10     13    94.428767  \n",
       "4      14.395        75     0.0000       0           1      1     4.128767  \n",
       "...       ...       ...        ...     ...         ...    ...          ...  \n",
       "10881  19.695        50    26.0027       7         329    336  1534.928767  \n",
       "10882  17.425        57    15.0013      10         231    241  1165.128767  \n",
       "10883  15.910        61    15.0013       4         164    168   773.828767  \n",
       "10884  17.425        61     6.0032      12         117    129   709.328767  \n",
       "10885  16.665        66     8.9981       4          84     88   429.828767  \n",
       "\n",
       "[10886 rows x 13 columns]"
      ]
     },
     "execution_count": 12,
     "metadata": {},
     "output_type": "execute_result"
    }
   ],
   "source": [
    "# Make profit feature\n",
    "#Each registerd user rent bike for 5 USD/day\n",
    "#Casual user rent bike for 20 USD\n",
    "#Taxes 0.14%\n",
    "#Maintance 1500/year\n",
    "def calculate_profit(x):\n",
    "    \n",
    "    casual_customers = x['casual']\n",
    "    registered_customers =x['registered']\n",
    "    casual_price_per_Day = 20\n",
    "    registered_price_per_Day = 5\n",
    "    Taxes_percent = 0.14\n",
    "    Maintance_per_houre = 1500/(365*24)\n",
    "    profit_cach = casual_customers * casual_price_per_Day + registered_price_per_Day * registered_customers\n",
    "    prfit_with_Taxes = profit_cach-(profit_cach * Taxes_percent)\n",
    "    totle_profit = prfit_with_Taxes - Maintance_per_houre\n",
    "    return totle_profit\n",
    "\n",
    "\n",
    "df['Profit'] = df[['casual','registered']].apply(calculate_profit,axis =1)\n",
    "df"
   ]
  },
  {
   "cell_type": "code",
   "execution_count": 13,
   "id": "ae36fad1",
   "metadata": {
    "execution": {
     "iopub.execute_input": "2023-07-03T00:14:47.008069Z",
     "iopub.status.busy": "2023-07-03T00:14:47.007626Z",
     "iopub.status.idle": "2023-07-03T00:14:47.034878Z",
     "shell.execute_reply": "2023-07-03T00:14:47.033270Z"
    },
    "papermill": {
     "duration": 0.064232,
     "end_time": "2023-07-03T00:14:47.037388",
     "exception": false,
     "start_time": "2023-07-03T00:14:46.973156",
     "status": "completed"
    },
    "tags": []
   },
   "outputs": [
    {
     "name": "stdout",
     "output_type": "stream",
     "text": [
      "Count describe\n",
      " count    10886.000000\n",
      "mean       191.574132\n",
      "std        181.144454\n",
      "min          1.000000\n",
      "25%         42.000000\n",
      "50%        145.000000\n",
      "75%        284.000000\n",
      "max        977.000000\n",
      "Name: count, dtype: float64\n",
      "-----------------------------\n",
      "Profit describe\n",
      " count    10886.000000\n",
      "mean      1288.280751\n",
      "std       1309.683400\n",
      "min          4.128767\n",
      "25%        253.528767\n",
      "50%        889.928767\n",
      "75%       1891.828767\n",
      "max       7881.728767\n",
      "Name: Profit, dtype: float64\n"
     ]
    },
    {
     "data": {
      "text/html": [
       "<div>\n",
       "<style scoped>\n",
       "    .dataframe tbody tr th:only-of-type {\n",
       "        vertical-align: middle;\n",
       "    }\n",
       "\n",
       "    .dataframe tbody tr th {\n",
       "        vertical-align: top;\n",
       "    }\n",
       "\n",
       "    .dataframe thead th {\n",
       "        text-align: right;\n",
       "    }\n",
       "</style>\n",
       "<table border=\"1\" class=\"dataframe\">\n",
       "  <thead>\n",
       "    <tr style=\"text-align: right;\">\n",
       "      <th></th>\n",
       "      <th>datetime</th>\n",
       "      <th>season</th>\n",
       "      <th>holiday</th>\n",
       "      <th>workingday</th>\n",
       "      <th>weather</th>\n",
       "      <th>temp</th>\n",
       "      <th>atemp</th>\n",
       "      <th>humidity</th>\n",
       "      <th>windspeed</th>\n",
       "      <th>casual</th>\n",
       "      <th>registered</th>\n",
       "      <th>count</th>\n",
       "      <th>Profit</th>\n",
       "    </tr>\n",
       "  </thead>\n",
       "  <tbody>\n",
       "    <tr>\n",
       "      <th>9415</th>\n",
       "      <td>2012-09-15 16:00:00</td>\n",
       "      <td>3</td>\n",
       "      <td>0</td>\n",
       "      <td>0</td>\n",
       "      <td>2</td>\n",
       "      <td>27.06</td>\n",
       "      <td>31.06</td>\n",
       "      <td>36</td>\n",
       "      <td>15.0013</td>\n",
       "      <td>350</td>\n",
       "      <td>433</td>\n",
       "      <td>783</td>\n",
       "      <td>7881.728767</td>\n",
       "    </tr>\n",
       "  </tbody>\n",
       "</table>\n",
       "</div>"
      ],
      "text/plain": [
       "                 datetime  season  holiday  workingday  weather   temp  atemp  \\\n",
       "9415  2012-09-15 16:00:00       3        0           0        2  27.06  31.06   \n",
       "\n",
       "      humidity  windspeed  casual  registered  count       Profit  \n",
       "9415        36    15.0013     350         433    783  7881.728767  "
      ]
     },
     "execution_count": 13,
     "metadata": {},
     "output_type": "execute_result"
    }
   ],
   "source": [
    "#Distribution count & profit.\n",
    "print ('Count describe\\n',df['count'].describe())\n",
    "print('-----------------------------')\n",
    "print ('Profit describe\\n',df['Profit'].describe())\n",
    "#now let’s see max Profit & count\n",
    "df[df['Profit']==df['Profit'].max()]"
   ]
  },
  {
   "cell_type": "code",
   "execution_count": 14,
   "id": "dd665759",
   "metadata": {
    "execution": {
     "iopub.execute_input": "2023-07-03T00:14:47.107267Z",
     "iopub.status.busy": "2023-07-03T00:14:47.106836Z",
     "iopub.status.idle": "2023-07-03T00:14:47.125796Z",
     "shell.execute_reply": "2023-07-03T00:14:47.124284Z"
    },
    "papermill": {
     "duration": 0.057081,
     "end_time": "2023-07-03T00:14:47.128258",
     "exception": false,
     "start_time": "2023-07-03T00:14:47.071177",
     "status": "completed"
    },
    "tags": []
   },
   "outputs": [
    {
     "data": {
      "text/html": [
       "<div>\n",
       "<style scoped>\n",
       "    .dataframe tbody tr th:only-of-type {\n",
       "        vertical-align: middle;\n",
       "    }\n",
       "\n",
       "    .dataframe tbody tr th {\n",
       "        vertical-align: top;\n",
       "    }\n",
       "\n",
       "    .dataframe thead th {\n",
       "        text-align: right;\n",
       "    }\n",
       "</style>\n",
       "<table border=\"1\" class=\"dataframe\">\n",
       "  <thead>\n",
       "    <tr style=\"text-align: right;\">\n",
       "      <th></th>\n",
       "      <th>datetime</th>\n",
       "      <th>season</th>\n",
       "      <th>holiday</th>\n",
       "      <th>workingday</th>\n",
       "      <th>weather</th>\n",
       "      <th>temp</th>\n",
       "      <th>atemp</th>\n",
       "      <th>humidity</th>\n",
       "      <th>windspeed</th>\n",
       "      <th>casual</th>\n",
       "      <th>registered</th>\n",
       "      <th>count</th>\n",
       "      <th>Profit</th>\n",
       "    </tr>\n",
       "  </thead>\n",
       "  <tbody>\n",
       "    <tr>\n",
       "      <th>9345</th>\n",
       "      <td>2012-09-12 18:00:00</td>\n",
       "      <td>3</td>\n",
       "      <td>0</td>\n",
       "      <td>1</td>\n",
       "      <td>1</td>\n",
       "      <td>27.06</td>\n",
       "      <td>31.06</td>\n",
       "      <td>44</td>\n",
       "      <td>16.9979</td>\n",
       "      <td>91</td>\n",
       "      <td>886</td>\n",
       "      <td>977</td>\n",
       "      <td>5374.828767</td>\n",
       "    </tr>\n",
       "  </tbody>\n",
       "</table>\n",
       "</div>"
      ],
      "text/plain": [
       "                 datetime  season  holiday  workingday  weather   temp  atemp  \\\n",
       "9345  2012-09-12 18:00:00       3        0           1        1  27.06  31.06   \n",
       "\n",
       "      humidity  windspeed  casual  registered  count       Profit  \n",
       "9345        44    16.9979      91         886    977  5374.828767  "
      ]
     },
     "execution_count": 14,
     "metadata": {},
     "output_type": "execute_result"
    }
   ],
   "source": [
    "df[df['count']==df['count'].max()]"
   ]
  },
  {
   "cell_type": "code",
   "execution_count": 15,
   "id": "77a28b02",
   "metadata": {
    "execution": {
     "iopub.execute_input": "2023-07-03T00:14:47.200293Z",
     "iopub.status.busy": "2023-07-03T00:14:47.199914Z",
     "iopub.status.idle": "2023-07-03T00:14:47.721254Z",
     "shell.execute_reply": "2023-07-03T00:14:47.720391Z"
    },
    "papermill": {
     "duration": 0.559993,
     "end_time": "2023-07-03T00:14:47.723555",
     "exception": false,
     "start_time": "2023-07-03T00:14:47.163562",
     "status": "completed"
    },
    "tags": []
   },
   "outputs": [
    {
     "data": {
      "text/plain": [
       "<Axes: xlabel='Profit', ylabel='Count'>"
      ]
     },
     "execution_count": 15,
     "metadata": {},
     "output_type": "execute_result"
    },
    {
     "data": {
      "image/png": "[encoded data removed]",
      "text/plain": [
       "<Figure size 640x480 with 1 Axes>"
      ]
     },
     "metadata": {},
     "output_type": "display_data"
    }
   ],
   "source": [
    "sns.histplot(df['Profit'],kde=True,bins=5)"
   ]
  },
  {
   "cell_type": "code",
   "execution_count": 16,
   "id": "6b402826",
   "metadata": {
    "execution": {
     "iopub.execute_input": "2023-07-03T00:14:47.794875Z",
     "iopub.status.busy": "2023-07-03T00:14:47.793773Z",
     "iopub.status.idle": "2023-07-03T00:14:48.235161Z",
     "shell.execute_reply": "2023-07-03T00:14:48.233990Z"
    },
    "papermill": {
     "duration": 0.47976,
     "end_time": "2023-07-03T00:14:48.237874",
     "exception": false,
     "start_time": "2023-07-03T00:14:47.758114",
     "status": "completed"
    },
    "tags": []
   },
   "outputs": [
    {
     "data": {
      "text/plain": [
       "<Axes: xlabel='count', ylabel='Count'>"
      ]
     },
     "execution_count": 16,
     "metadata": {},
     "output_type": "execute_result"
    },
    {
     "data": {
      "image/png": "[encoded data removed]",
      "text/plain": [
       "<Figure size 640x480 with 1 Axes>"
      ]
     },
     "metadata": {},
     "output_type": "display_data"
    }
   ],
   "source": [
    "sns.histplot(df['count'],kde=True,bins=5)"
   ]
  },
  {
   "cell_type": "code",
   "execution_count": 17,
   "id": "05ea5cfe",
   "metadata": {
    "execution": {
     "iopub.execute_input": "2023-07-03T00:14:48.313149Z",
     "iopub.status.busy": "2023-07-03T00:14:48.312042Z",
     "iopub.status.idle": "2023-07-03T00:14:48.319333Z",
     "shell.execute_reply": "2023-07-03T00:14:48.318244Z"
    },
    "papermill": {
     "duration": 0.048247,
     "end_time": "2023-07-03T00:14:48.321764",
     "exception": false,
     "start_time": "2023-07-03T00:14:48.273517",
     "status": "completed"
    },
    "tags": []
   },
   "outputs": [
    {
     "data": {
      "text/plain": [
       "1288.2807513231776"
      ]
     },
     "execution_count": 17,
     "metadata": {},
     "output_type": "execute_result"
    }
   ],
   "source": [
    "df['Profit'].mean()"
   ]
  },
  {
   "cell_type": "markdown",
   "id": "0bdabfd9",
   "metadata": {
    "papermill": {
     "duration": 0.034933,
     "end_time": "2023-07-03T00:14:48.392045",
     "exception": false,
     "start_time": "2023-07-03T00:14:48.357112",
     "status": "completed"
    },
    "tags": []
   },
   "source": [
    "    - From the two plots we can see the Average bike who rents 200 bike , and the Average of profit 1200"
   ]
  },
  {
   "cell_type": "markdown",
   "id": "08563e71",
   "metadata": {
    "papermill": {
     "duration": 0.035049,
     "end_time": "2023-07-03T00:14:48.462197",
     "exception": false,
     "start_time": "2023-07-03T00:14:48.427148",
     "status": "completed"
    },
    "tags": []
   },
   "source": [
    "# Q- Profit for each day & month."
   ]
  },
  {
   "cell_type": "code",
   "execution_count": 18,
   "id": "9233f765",
   "metadata": {
    "execution": {
     "iopub.execute_input": "2023-07-03T00:14:48.533718Z",
     "iopub.status.busy": "2023-07-03T00:14:48.533065Z",
     "iopub.status.idle": "2023-07-03T00:14:48.545456Z",
     "shell.execute_reply": "2023-07-03T00:14:48.544287Z"
    },
    "papermill": {
     "duration": 0.050839,
     "end_time": "2023-07-03T00:14:48.547812",
     "exception": false,
     "start_time": "2023-07-03T00:14:48.496973",
     "status": "completed"
    },
    "tags": []
   },
   "outputs": [
    {
     "name": "stdout",
     "output_type": "stream",
     "text": [
      "datetime64[ns]\n"
     ]
    }
   ],
   "source": [
    "# convert datetime(dtype: object) to datetime(dtype: datetime64)\n",
    "df['datetime'] = pd.to_datetime(df['datetime'], format='%Y-%m-%d %H:%M:%S', errors='coerce')\n",
    "print(df['datetime'].dtypes)"
   ]
  },
  {
   "cell_type": "code",
   "execution_count": 19,
   "id": "1134aa24",
   "metadata": {
    "execution": {
     "iopub.execute_input": "2023-07-03T00:14:48.617671Z",
     "iopub.status.busy": "2023-07-03T00:14:48.616969Z",
     "iopub.status.idle": "2023-07-03T00:14:48.637454Z",
     "shell.execute_reply": "2023-07-03T00:14:48.636627Z"
    },
    "papermill": {
     "duration": 0.057806,
     "end_time": "2023-07-03T00:14:48.639902",
     "exception": false,
     "start_time": "2023-07-03T00:14:48.582096",
     "status": "completed"
    },
    "tags": []
   },
   "outputs": [],
   "source": [
    "# create now colm for Year,Month,Day\n",
    "df['Year']= df['datetime'].dt.year\n",
    "df['Month_name']= df['datetime'].dt.month_name()\n",
    "df['Day_of_week']= df['datetime'].dt.day_name()\n",
    "df['Hour']= df['datetime'].dt.hour"
   ]
  },
  {
   "cell_type": "code",
   "execution_count": 20,
   "id": "cba24d57",
   "metadata": {
    "execution": {
     "iopub.execute_input": "2023-07-03T00:14:48.709773Z",
     "iopub.status.busy": "2023-07-03T00:14:48.708645Z",
     "iopub.status.idle": "2023-07-03T00:14:48.735008Z",
     "shell.execute_reply": "2023-07-03T00:14:48.734041Z"
    },
    "papermill": {
     "duration": 0.063153,
     "end_time": "2023-07-03T00:14:48.737020",
     "exception": false,
     "start_time": "2023-07-03T00:14:48.673867",
     "status": "completed"
    },
    "tags": []
   },
   "outputs": [
    {
     "data": {
      "text/html": [
       "<div>\n",
       "<style scoped>\n",
       "    .dataframe tbody tr th:only-of-type {\n",
       "        vertical-align: middle;\n",
       "    }\n",
       "\n",
       "    .dataframe tbody tr th {\n",
       "        vertical-align: top;\n",
       "    }\n",
       "\n",
       "    .dataframe thead th {\n",
       "        text-align: right;\n",
       "    }\n",
       "</style>\n",
       "<table border=\"1\" class=\"dataframe\">\n",
       "  <thead>\n",
       "    <tr style=\"text-align: right;\">\n",
       "      <th></th>\n",
       "      <th>datetime</th>\n",
       "      <th>season</th>\n",
       "      <th>holiday</th>\n",
       "      <th>workingday</th>\n",
       "      <th>weather</th>\n",
       "      <th>temp</th>\n",
       "      <th>atemp</th>\n",
       "      <th>humidity</th>\n",
       "      <th>windspeed</th>\n",
       "      <th>casual</th>\n",
       "      <th>registered</th>\n",
       "      <th>count</th>\n",
       "      <th>Profit</th>\n",
       "      <th>Year</th>\n",
       "      <th>Month_name</th>\n",
       "      <th>Day_of_week</th>\n",
       "      <th>Hour</th>\n",
       "    </tr>\n",
       "  </thead>\n",
       "  <tbody>\n",
       "    <tr>\n",
       "      <th>0</th>\n",
       "      <td>2011-01-01 00:00:00</td>\n",
       "      <td>1</td>\n",
       "      <td>0</td>\n",
       "      <td>0</td>\n",
       "      <td>1</td>\n",
       "      <td>9.84</td>\n",
       "      <td>14.395</td>\n",
       "      <td>81</td>\n",
       "      <td>0.0000</td>\n",
       "      <td>3</td>\n",
       "      <td>13</td>\n",
       "      <td>16</td>\n",
       "      <td>107.328767</td>\n",
       "      <td>2011</td>\n",
       "      <td>January</td>\n",
       "      <td>Saturday</td>\n",
       "      <td>0</td>\n",
       "    </tr>\n",
       "    <tr>\n",
       "      <th>1</th>\n",
       "      <td>2011-01-01 01:00:00</td>\n",
       "      <td>1</td>\n",
       "      <td>0</td>\n",
       "      <td>0</td>\n",
       "      <td>1</td>\n",
       "      <td>9.02</td>\n",
       "      <td>13.635</td>\n",
       "      <td>80</td>\n",
       "      <td>0.0000</td>\n",
       "      <td>8</td>\n",
       "      <td>32</td>\n",
       "      <td>40</td>\n",
       "      <td>275.028767</td>\n",
       "      <td>2011</td>\n",
       "      <td>January</td>\n",
       "      <td>Saturday</td>\n",
       "      <td>1</td>\n",
       "    </tr>\n",
       "    <tr>\n",
       "      <th>2</th>\n",
       "      <td>2011-01-01 02:00:00</td>\n",
       "      <td>1</td>\n",
       "      <td>0</td>\n",
       "      <td>0</td>\n",
       "      <td>1</td>\n",
       "      <td>9.02</td>\n",
       "      <td>13.635</td>\n",
       "      <td>80</td>\n",
       "      <td>0.0000</td>\n",
       "      <td>5</td>\n",
       "      <td>27</td>\n",
       "      <td>32</td>\n",
       "      <td>201.928767</td>\n",
       "      <td>2011</td>\n",
       "      <td>January</td>\n",
       "      <td>Saturday</td>\n",
       "      <td>2</td>\n",
       "    </tr>\n",
       "    <tr>\n",
       "      <th>3</th>\n",
       "      <td>2011-01-01 03:00:00</td>\n",
       "      <td>1</td>\n",
       "      <td>0</td>\n",
       "      <td>0</td>\n",
       "      <td>1</td>\n",
       "      <td>9.84</td>\n",
       "      <td>14.395</td>\n",
       "      <td>75</td>\n",
       "      <td>0.0000</td>\n",
       "      <td>3</td>\n",
       "      <td>10</td>\n",
       "      <td>13</td>\n",
       "      <td>94.428767</td>\n",
       "      <td>2011</td>\n",
       "      <td>January</td>\n",
       "      <td>Saturday</td>\n",
       "      <td>3</td>\n",
       "    </tr>\n",
       "    <tr>\n",
       "      <th>4</th>\n",
       "      <td>2011-01-01 04:00:00</td>\n",
       "      <td>1</td>\n",
       "      <td>0</td>\n",
       "      <td>0</td>\n",
       "      <td>1</td>\n",
       "      <td>9.84</td>\n",
       "      <td>14.395</td>\n",
       "      <td>75</td>\n",
       "      <td>0.0000</td>\n",
       "      <td>0</td>\n",
       "      <td>1</td>\n",
       "      <td>1</td>\n",
       "      <td>4.128767</td>\n",
       "      <td>2011</td>\n",
       "      <td>January</td>\n",
       "      <td>Saturday</td>\n",
       "      <td>4</td>\n",
       "    </tr>\n",
       "    <tr>\n",
       "      <th>...</th>\n",
       "      <td>...</td>\n",
       "      <td>...</td>\n",
       "      <td>...</td>\n",
       "      <td>...</td>\n",
       "      <td>...</td>\n",
       "      <td>...</td>\n",
       "      <td>...</td>\n",
       "      <td>...</td>\n",
       "      <td>...</td>\n",
       "      <td>...</td>\n",
       "      <td>...</td>\n",
       "      <td>...</td>\n",
       "      <td>...</td>\n",
       "      <td>...</td>\n",
       "      <td>...</td>\n",
       "      <td>...</td>\n",
       "      <td>...</td>\n",
       "    </tr>\n",
       "    <tr>\n",
       "      <th>10881</th>\n",
       "      <td>2012-12-19 19:00:00</td>\n",
       "      <td>4</td>\n",
       "      <td>0</td>\n",
       "      <td>1</td>\n",
       "      <td>1</td>\n",
       "      <td>15.58</td>\n",
       "      <td>19.695</td>\n",
       "      <td>50</td>\n",
       "      <td>26.0027</td>\n",
       "      <td>7</td>\n",
       "      <td>329</td>\n",
       "      <td>336</td>\n",
       "      <td>1534.928767</td>\n",
       "      <td>2012</td>\n",
       "      <td>December</td>\n",
       "      <td>Wednesday</td>\n",
       "      <td>19</td>\n",
       "    </tr>\n",
       "    <tr>\n",
       "      <th>10882</th>\n",
       "      <td>2012-12-19 20:00:00</td>\n",
       "      <td>4</td>\n",
       "      <td>0</td>\n",
       "      <td>1</td>\n",
       "      <td>1</td>\n",
       "      <td>14.76</td>\n",
       "      <td>17.425</td>\n",
       "      <td>57</td>\n",
       "      <td>15.0013</td>\n",
       "      <td>10</td>\n",
       "      <td>231</td>\n",
       "      <td>241</td>\n",
       "      <td>1165.128767</td>\n",
       "      <td>2012</td>\n",
       "      <td>December</td>\n",
       "      <td>Wednesday</td>\n",
       "      <td>20</td>\n",
       "    </tr>\n",
       "    <tr>\n",
       "      <th>10883</th>\n",
       "      <td>2012-12-19 21:00:00</td>\n",
       "      <td>4</td>\n",
       "      <td>0</td>\n",
       "      <td>1</td>\n",
       "      <td>1</td>\n",
       "      <td>13.94</td>\n",
       "      <td>15.910</td>\n",
       "      <td>61</td>\n",
       "      <td>15.0013</td>\n",
       "      <td>4</td>\n",
       "      <td>164</td>\n",
       "      <td>168</td>\n",
       "      <td>773.828767</td>\n",
       "      <td>2012</td>\n",
       "      <td>December</td>\n",
       "      <td>Wednesday</td>\n",
       "      <td>21</td>\n",
       "    </tr>\n",
       "    <tr>\n",
       "      <th>10884</th>\n",
       "      <td>2012-12-19 22:00:00</td>\n",
       "      <td>4</td>\n",
       "      <td>0</td>\n",
       "      <td>1</td>\n",
       "      <td>1</td>\n",
       "      <td>13.94</td>\n",
       "      <td>17.425</td>\n",
       "      <td>61</td>\n",
       "      <td>6.0032</td>\n",
       "      <td>12</td>\n",
       "      <td>117</td>\n",
       "      <td>129</td>\n",
       "      <td>709.328767</td>\n",
       "      <td>2012</td>\n",
       "      <td>December</td>\n",
       "      <td>Wednesday</td>\n",
       "      <td>22</td>\n",
       "    </tr>\n",
       "    <tr>\n",
       "      <th>10885</th>\n",
       "      <td>2012-12-19 23:00:00</td>\n",
       "      <td>4</td>\n",
       "      <td>0</td>\n",
       "      <td>1</td>\n",
       "      <td>1</td>\n",
       "      <td>13.12</td>\n",
       "      <td>16.665</td>\n",
       "      <td>66</td>\n",
       "      <td>8.9981</td>\n",
       "      <td>4</td>\n",
       "      <td>84</td>\n",
       "      <td>88</td>\n",
       "      <td>429.828767</td>\n",
       "      <td>2012</td>\n",
       "      <td>December</td>\n",
       "      <td>Wednesday</td>\n",
       "      <td>23</td>\n",
       "    </tr>\n",
       "  </tbody>\n",
       "</table>\n",
       "<p>10886 rows × 17 columns</p>\n",
       "</div>"
      ],
      "text/plain": [
       "                 datetime  season  holiday  workingday  weather   temp  \\\n",
       "0     2011-01-01 00:00:00       1        0           0        1   9.84   \n",
       "1     2011-01-01 01:00:00       1        0           0        1   9.02   \n",
       "2     2011-01-01 02:00:00       1        0           0        1   9.02   \n",
       "3     2011-01-01 03:00:00       1        0           0        1   9.84   \n",
       "4     2011-01-01 04:00:00       1        0           0        1   9.84   \n",
       "...                   ...     ...      ...         ...      ...    ...   \n",
       "10881 2012-12-19 19:00:00       4        0           1        1  15.58   \n",
       "10882 2012-12-19 20:00:00       4        0           1        1  14.76   \n",
       "10883 2012-12-19 21:00:00       4        0           1        1  13.94   \n",
       "10884 2012-12-19 22:00:00       4        0           1        1  13.94   \n",
       "10885 2012-12-19 23:00:00       4        0           1        1  13.12   \n",
       "\n",
       "        atemp  humidity  windspeed  casual  registered  count       Profit  \\\n",
       "0      14.395        81     0.0000       3          13     16   107.328767   \n",
       "1      13.635        80     0.0000       8          32     40   275.028767   \n",
       "2      13.635        80     0.0000       5          27     32   201.928767   \n",
       "3      14.395        75     0.0000       3          10     13    94.428767   \n",
       "4      14.395        75     0.0000       0           1      1     4.128767   \n",
       "...       ...       ...        ...     ...         ...    ...          ...   \n",
       "10881  19.695        50    26.0027       7         329    336  1534.928767   \n",
       "10882  17.425        57    15.0013      10         231    241  1165.128767   \n",
       "10883  15.910        61    15.0013       4         164    168   773.828767   \n",
       "10884  17.425        61     6.0032      12         117    129   709.328767   \n",
       "10885  16.665        66     8.9981       4          84     88   429.828767   \n",
       "\n",
       "       Year Month_name Day_of_week  Hour  \n",
       "0      2011    January    Saturday     0  \n",
       "1      2011    January    Saturday     1  \n",
       "2      2011    January    Saturday     2  \n",
       "3      2011    January    Saturday     3  \n",
       "4      2011    January    Saturday     4  \n",
       "...     ...        ...         ...   ...  \n",
       "10881  2012   December   Wednesday    19  \n",
       "10882  2012   December   Wednesday    20  \n",
       "10883  2012   December   Wednesday    21  \n",
       "10884  2012   December   Wednesday    22  \n",
       "10885  2012   December   Wednesday    23  \n",
       "\n",
       "[10886 rows x 17 columns]"
      ]
     },
     "execution_count": 20,
     "metadata": {},
     "output_type": "execute_result"
    }
   ],
   "source": [
    "df"
   ]
  },
  {
   "cell_type": "code",
   "execution_count": 21,
   "id": "2403c611",
   "metadata": {
    "execution": {
     "iopub.execute_input": "2023-07-03T00:14:48.810000Z",
     "iopub.status.busy": "2023-07-03T00:14:48.808934Z",
     "iopub.status.idle": "2023-07-03T00:14:49.069629Z",
     "shell.execute_reply": "2023-07-03T00:14:49.068501Z"
    },
    "papermill": {
     "duration": 0.299604,
     "end_time": "2023-07-03T00:14:49.071811",
     "exception": false,
     "start_time": "2023-07-03T00:14:48.772207",
     "status": "completed"
    },
    "tags": []
   },
   "outputs": [
    {
     "data": {
      "text/html": [
       "<div>\n",
       "<style scoped>\n",
       "    .dataframe tbody tr th:only-of-type {\n",
       "        vertical-align: middle;\n",
       "    }\n",
       "\n",
       "    .dataframe tbody tr th {\n",
       "        vertical-align: top;\n",
       "    }\n",
       "\n",
       "    .dataframe thead th {\n",
       "        text-align: right;\n",
       "    }\n",
       "</style>\n",
       "<table border=\"1\" class=\"dataframe\">\n",
       "  <thead>\n",
       "    <tr style=\"text-align: right;\">\n",
       "      <th></th>\n",
       "      <th>count</th>\n",
       "      <th>mean</th>\n",
       "      <th>min</th>\n",
       "      <th>25%</th>\n",
       "      <th>50%</th>\n",
       "      <th>75%</th>\n",
       "      <th>max</th>\n",
       "      <th>std</th>\n",
       "    </tr>\n",
       "    <tr>\n",
       "      <th>Day_of_week</th>\n",
       "      <th></th>\n",
       "      <th></th>\n",
       "      <th></th>\n",
       "      <th></th>\n",
       "      <th></th>\n",
       "      <th></th>\n",
       "      <th></th>\n",
       "      <th></th>\n",
       "    </tr>\n",
       "  </thead>\n",
       "  <tbody>\n",
       "    <tr>\n",
       "      <th>Friday</th>\n",
       "      <td>1529.0</td>\n",
       "      <td>1250.484751</td>\n",
       "      <td>4.128767</td>\n",
       "      <td>300.828767</td>\n",
       "      <td>1036.128767</td>\n",
       "      <td>1891.828767</td>\n",
       "      <td>5908.028767</td>\n",
       "      <td>1110.019552</td>\n",
       "    </tr>\n",
       "    <tr>\n",
       "      <th>Monday</th>\n",
       "      <td>1551.0</td>\n",
       "      <td>1203.496079</td>\n",
       "      <td>4.128767</td>\n",
       "      <td>249.228767</td>\n",
       "      <td>954.428767</td>\n",
       "      <td>1827.328767</td>\n",
       "      <td>5594.128767</td>\n",
       "      <td>1129.727600</td>\n",
       "    </tr>\n",
       "    <tr>\n",
       "      <th>Saturday</th>\n",
       "      <td>1584.0</td>\n",
       "      <td>1666.252504</td>\n",
       "      <td>4.128767</td>\n",
       "      <td>283.628767</td>\n",
       "      <td>956.578767</td>\n",
       "      <td>2614.228767</td>\n",
       "      <td>7881.728767</td>\n",
       "      <td>1772.625088</td>\n",
       "    </tr>\n",
       "    <tr>\n",
       "      <th>Sunday</th>\n",
       "      <td>1579.0</td>\n",
       "      <td>1513.401535</td>\n",
       "      <td>4.128767</td>\n",
       "      <td>287.928767</td>\n",
       "      <td>812.528767</td>\n",
       "      <td>2429.328767</td>\n",
       "      <td>7034.628767</td>\n",
       "      <td>1571.404307</td>\n",
       "    </tr>\n",
       "    <tr>\n",
       "      <th>Thursday</th>\n",
       "      <td>1553.0</td>\n",
       "      <td>1157.893803</td>\n",
       "      <td>4.128767</td>\n",
       "      <td>236.328767</td>\n",
       "      <td>911.428767</td>\n",
       "      <td>1741.328767</td>\n",
       "      <td>5533.928767</td>\n",
       "      <td>1086.029849</td>\n",
       "    </tr>\n",
       "    <tr>\n",
       "      <th>Tuesday</th>\n",
       "      <td>1539.0</td>\n",
       "      <td>1112.073082</td>\n",
       "      <td>4.128767</td>\n",
       "      <td>210.528767</td>\n",
       "      <td>834.028767</td>\n",
       "      <td>1704.778767</td>\n",
       "      <td>6338.028767</td>\n",
       "      <td>1065.481400</td>\n",
       "    </tr>\n",
       "    <tr>\n",
       "      <th>Wednesday</th>\n",
       "      <td>1551.0</td>\n",
       "      <td>1100.526188</td>\n",
       "      <td>4.128767</td>\n",
       "      <td>210.528767</td>\n",
       "      <td>791.028767</td>\n",
       "      <td>1657.478767</td>\n",
       "      <td>5447.928767</td>\n",
       "      <td>1111.243780</td>\n",
       "    </tr>\n",
       "  </tbody>\n",
       "</table>\n",
       "</div>"
      ],
      "text/plain": [
       "              count         mean       min         25%          50%  \\\n",
       "Day_of_week                                                           \n",
       "Friday       1529.0  1250.484751  4.128767  300.828767  1036.128767   \n",
       "Monday       1551.0  1203.496079  4.128767  249.228767   954.428767   \n",
       "Saturday     1584.0  1666.252504  4.128767  283.628767   956.578767   \n",
       "Sunday       1579.0  1513.401535  4.128767  287.928767   812.528767   \n",
       "Thursday     1553.0  1157.893803  4.128767  236.328767   911.428767   \n",
       "Tuesday      1539.0  1112.073082  4.128767  210.528767   834.028767   \n",
       "Wednesday    1551.0  1100.526188  4.128767  210.528767   791.028767   \n",
       "\n",
       "                     75%          max          std  \n",
       "Day_of_week                                         \n",
       "Friday       1891.828767  5908.028767  1110.019552  \n",
       "Monday       1827.328767  5594.128767  1129.727600  \n",
       "Saturday     2614.228767  7881.728767  1772.625088  \n",
       "Sunday       2429.328767  7034.628767  1571.404307  \n",
       "Thursday     1741.328767  5533.928767  1086.029849  \n",
       "Tuesday      1704.778767  6338.028767  1065.481400  \n",
       "Wednesday    1657.478767  5447.928767  1111.243780  "
      ]
     },
     "execution_count": 21,
     "metadata": {},
     "output_type": "execute_result"
    }
   ],
   "source": [
    "# let’s see describe of profit for Day of week\n",
    "df.groupby('Day_of_week').describe()['Profit']"
   ]
  },
  {
   "cell_type": "markdown",
   "id": "76e736ab",
   "metadata": {
    "papermill": {
     "duration": 0.035245,
     "end_time": "2023-07-03T00:14:49.141569",
     "exception": false,
     "start_time": "2023-07-03T00:14:49.106324",
     "status": "completed"
    },
    "tags": []
   },
   "source": [
    "- Most of the days when the highest profit is made :  Saturday and Sunday\n",
    "- Most of the days when the lowest profit is made :  Wednesday and Thursday\n",
    "- Saturday has the highest profit and Wednesday has the lowest profit"
   ]
  },
  {
   "cell_type": "code",
   "execution_count": 22,
   "id": "1de4bc4f",
   "metadata": {
    "execution": {
     "iopub.execute_input": "2023-07-03T00:14:49.212954Z",
     "iopub.status.busy": "2023-07-03T00:14:49.212503Z",
     "iopub.status.idle": "2023-07-03T00:14:49.630128Z",
     "shell.execute_reply": "2023-07-03T00:14:49.629256Z"
    },
    "papermill": {
     "duration": 0.456861,
     "end_time": "2023-07-03T00:14:49.632376",
     "exception": false,
     "start_time": "2023-07-03T00:14:49.175515",
     "status": "completed"
    },
    "tags": []
   },
   "outputs": [
    {
     "data": {
      "text/html": [
       "<div>\n",
       "<style scoped>\n",
       "    .dataframe tbody tr th:only-of-type {\n",
       "        vertical-align: middle;\n",
       "    }\n",
       "\n",
       "    .dataframe tbody tr th {\n",
       "        vertical-align: top;\n",
       "    }\n",
       "\n",
       "    .dataframe thead th {\n",
       "        text-align: right;\n",
       "    }\n",
       "</style>\n",
       "<table border=\"1\" class=\"dataframe\">\n",
       "  <thead>\n",
       "    <tr style=\"text-align: right;\">\n",
       "      <th></th>\n",
       "      <th>count</th>\n",
       "      <th>mean</th>\n",
       "      <th>min</th>\n",
       "      <th>25%</th>\n",
       "      <th>50%</th>\n",
       "      <th>75%</th>\n",
       "      <th>max</th>\n",
       "      <th>std</th>\n",
       "    </tr>\n",
       "    <tr>\n",
       "      <th>Month_name</th>\n",
       "      <th></th>\n",
       "      <th></th>\n",
       "      <th></th>\n",
       "      <th></th>\n",
       "      <th></th>\n",
       "      <th></th>\n",
       "      <th></th>\n",
       "      <th></th>\n",
       "    </tr>\n",
       "  </thead>\n",
       "  <tbody>\n",
       "    <tr>\n",
       "      <th>April</th>\n",
       "      <td>909.0</td>\n",
       "      <td>1356.722386</td>\n",
       "      <td>4.128767</td>\n",
       "      <td>236.328767</td>\n",
       "      <td>868.428767</td>\n",
       "      <td>1969.228767</td>\n",
       "      <td>7344.228767</td>\n",
       "      <td>1458.515736</td>\n",
       "    </tr>\n",
       "    <tr>\n",
       "      <th>August</th>\n",
       "      <td>912.0</td>\n",
       "      <td>1655.357057</td>\n",
       "      <td>12.728767</td>\n",
       "      <td>461.003767</td>\n",
       "      <td>1433.878767</td>\n",
       "      <td>2385.253767</td>\n",
       "      <td>6497.128767</td>\n",
       "      <td>1377.196111</td>\n",
       "    </tr>\n",
       "    <tr>\n",
       "      <th>December</th>\n",
       "      <td>912.0</td>\n",
       "      <td>962.896750</td>\n",
       "      <td>4.128767</td>\n",
       "      <td>236.328767</td>\n",
       "      <td>750.178767</td>\n",
       "      <td>1440.328767</td>\n",
       "      <td>4480.428767</td>\n",
       "      <td>867.250141</td>\n",
       "    </tr>\n",
       "    <tr>\n",
       "      <th>February</th>\n",
       "      <td>901.0</td>\n",
       "      <td>605.952186</td>\n",
       "      <td>4.128767</td>\n",
       "      <td>137.428767</td>\n",
       "      <td>425.528767</td>\n",
       "      <td>868.428767</td>\n",
       "      <td>5099.628767</td>\n",
       "      <td>627.333003</td>\n",
       "    </tr>\n",
       "    <tr>\n",
       "      <th>January</th>\n",
       "      <td>884.0</td>\n",
       "      <td>494.231482</td>\n",
       "      <td>4.128767</td>\n",
       "      <td>107.328767</td>\n",
       "      <td>352.428767</td>\n",
       "      <td>671.703767</td>\n",
       "      <td>4213.828767</td>\n",
       "      <td>550.485928</td>\n",
       "    </tr>\n",
       "    <tr>\n",
       "      <th>July</th>\n",
       "      <td>912.0</td>\n",
       "      <td>1732.361004</td>\n",
       "      <td>4.128767</td>\n",
       "      <td>557.753767</td>\n",
       "      <td>1597.278767</td>\n",
       "      <td>2600.253767</td>\n",
       "      <td>6187.528767</td>\n",
       "      <td>1347.819769</td>\n",
       "    </tr>\n",
       "    <tr>\n",
       "      <th>June</th>\n",
       "      <td>912.0</td>\n",
       "      <td>1727.631947</td>\n",
       "      <td>4.128767</td>\n",
       "      <td>485.728767</td>\n",
       "      <td>1425.278767</td>\n",
       "      <td>2575.528767</td>\n",
       "      <td>6849.728767</td>\n",
       "      <td>1486.849128</td>\n",
       "    </tr>\n",
       "    <tr>\n",
       "      <th>March</th>\n",
       "      <td>901.0</td>\n",
       "      <td>995.696359</td>\n",
       "      <td>4.128767</td>\n",
       "      <td>150.328767</td>\n",
       "      <td>640.528767</td>\n",
       "      <td>1393.028767</td>\n",
       "      <td>7679.628767</td>\n",
       "      <td>1160.191715</td>\n",
       "    </tr>\n",
       "    <tr>\n",
       "      <th>May</th>\n",
       "      <td>912.0</td>\n",
       "      <td>1527.469776</td>\n",
       "      <td>4.128767</td>\n",
       "      <td>376.078767</td>\n",
       "      <td>1264.028767</td>\n",
       "      <td>2142.303767</td>\n",
       "      <td>7795.728767</td>\n",
       "      <td>1390.034599</td>\n",
       "    </tr>\n",
       "    <tr>\n",
       "      <th>November</th>\n",
       "      <td>911.0</td>\n",
       "      <td>1191.646220</td>\n",
       "      <td>4.128767</td>\n",
       "      <td>315.878767</td>\n",
       "      <td>967.328767</td>\n",
       "      <td>1687.578767</td>\n",
       "      <td>7034.628767</td>\n",
       "      <td>1116.707532</td>\n",
       "    </tr>\n",
       "    <tr>\n",
       "      <th>October</th>\n",
       "      <td>911.0</td>\n",
       "      <td>1518.257417</td>\n",
       "      <td>4.128767</td>\n",
       "      <td>382.528767</td>\n",
       "      <td>1130.728767</td>\n",
       "      <td>2203.578767</td>\n",
       "      <td>7864.528767</td>\n",
       "      <td>1437.866293</td>\n",
       "    </tr>\n",
       "    <tr>\n",
       "      <th>September</th>\n",
       "      <td>909.0</td>\n",
       "      <td>1656.591803</td>\n",
       "      <td>8.428767</td>\n",
       "      <td>373.928767</td>\n",
       "      <td>1259.728767</td>\n",
       "      <td>2390.628767</td>\n",
       "      <td>7881.728767</td>\n",
       "      <td>1550.121938</td>\n",
       "    </tr>\n",
       "  </tbody>\n",
       "</table>\n",
       "</div>"
      ],
      "text/plain": [
       "            count         mean        min         25%          50%  \\\n",
       "Month_name                                                           \n",
       "April       909.0  1356.722386   4.128767  236.328767   868.428767   \n",
       "August      912.0  1655.357057  12.728767  461.003767  1433.878767   \n",
       "December    912.0   962.896750   4.128767  236.328767   750.178767   \n",
       "February    901.0   605.952186   4.128767  137.428767   425.528767   \n",
       "January     884.0   494.231482   4.128767  107.328767   352.428767   \n",
       "July        912.0  1732.361004   4.128767  557.753767  1597.278767   \n",
       "June        912.0  1727.631947   4.128767  485.728767  1425.278767   \n",
       "March       901.0   995.696359   4.128767  150.328767   640.528767   \n",
       "May         912.0  1527.469776   4.128767  376.078767  1264.028767   \n",
       "November    911.0  1191.646220   4.128767  315.878767   967.328767   \n",
       "October     911.0  1518.257417   4.128767  382.528767  1130.728767   \n",
       "September   909.0  1656.591803   8.428767  373.928767  1259.728767   \n",
       "\n",
       "                    75%          max          std  \n",
       "Month_name                                         \n",
       "April       1969.228767  7344.228767  1458.515736  \n",
       "August      2385.253767  6497.128767  1377.196111  \n",
       "December    1440.328767  4480.428767   867.250141  \n",
       "February     868.428767  5099.628767   627.333003  \n",
       "January      671.703767  4213.828767   550.485928  \n",
       "July        2600.253767  6187.528767  1347.819769  \n",
       "June        2575.528767  6849.728767  1486.849128  \n",
       "March       1393.028767  7679.628767  1160.191715  \n",
       "May         2142.303767  7795.728767  1390.034599  \n",
       "November    1687.578767  7034.628767  1116.707532  \n",
       "October     2203.578767  7864.528767  1437.866293  \n",
       "September   2390.628767  7881.728767  1550.121938  "
      ]
     },
     "execution_count": 22,
     "metadata": {},
     "output_type": "execute_result"
    }
   ],
   "source": [
    "df.groupby('Month_name').describe()['Profit']"
   ]
  },
  {
   "cell_type": "markdown",
   "id": "ae4db0d1",
   "metadata": {
    "papermill": {
     "duration": 0.035804,
     "end_time": "2023-07-03T00:14:49.704140",
     "exception": false,
     "start_time": "2023-07-03T00:14:49.668336",
     "status": "completed"
    },
    "tags": []
   },
   "source": [
    "-  The most profit month : September\n",
    "- Least profit month : January"
   ]
  },
  {
   "cell_type": "code",
   "execution_count": 23,
   "id": "1e372a96",
   "metadata": {
    "execution": {
     "iopub.execute_input": "2023-07-03T00:14:49.780400Z",
     "iopub.status.busy": "2023-07-03T00:14:49.779662Z",
     "iopub.status.idle": "2023-07-03T00:14:50.038139Z",
     "shell.execute_reply": "2023-07-03T00:14:50.037071Z"
    },
    "papermill": {
     "duration": 0.298742,
     "end_time": "2023-07-03T00:14:50.040705",
     "exception": false,
     "start_time": "2023-07-03T00:14:49.741963",
     "status": "completed"
    },
    "tags": []
   },
   "outputs": [
    {
     "data": {
      "text/html": [
       "<div>\n",
       "<style scoped>\n",
       "    .dataframe tbody tr th:only-of-type {\n",
       "        vertical-align: middle;\n",
       "    }\n",
       "\n",
       "    .dataframe tbody tr th {\n",
       "        vertical-align: top;\n",
       "    }\n",
       "\n",
       "    .dataframe thead th {\n",
       "        text-align: right;\n",
       "    }\n",
       "</style>\n",
       "<table border=\"1\" class=\"dataframe\">\n",
       "  <thead>\n",
       "    <tr style=\"text-align: right;\">\n",
       "      <th></th>\n",
       "      <th>count</th>\n",
       "      <th>mean</th>\n",
       "      <th>min</th>\n",
       "      <th>25%</th>\n",
       "      <th>50%</th>\n",
       "      <th>75%</th>\n",
       "      <th>max</th>\n",
       "      <th>std</th>\n",
       "    </tr>\n",
       "    <tr>\n",
       "      <th>Day_of_week</th>\n",
       "      <th></th>\n",
       "      <th></th>\n",
       "      <th></th>\n",
       "      <th></th>\n",
       "      <th></th>\n",
       "      <th></th>\n",
       "      <th></th>\n",
       "      <th></th>\n",
       "    </tr>\n",
       "  </thead>\n",
       "  <tbody>\n",
       "    <tr>\n",
       "      <th>Friday</th>\n",
       "      <td>1529.0</td>\n",
       "      <td>197.844343</td>\n",
       "      <td>1.0</td>\n",
       "      <td>52.0</td>\n",
       "      <td>167.0</td>\n",
       "      <td>290.0</td>\n",
       "      <td>900.0</td>\n",
       "      <td>172.518208</td>\n",
       "    </tr>\n",
       "    <tr>\n",
       "      <th>Monday</th>\n",
       "      <td>1551.0</td>\n",
       "      <td>190.390716</td>\n",
       "      <td>1.0</td>\n",
       "      <td>39.0</td>\n",
       "      <td>146.0</td>\n",
       "      <td>277.5</td>\n",
       "      <td>968.0</td>\n",
       "      <td>180.943376</td>\n",
       "    </tr>\n",
       "    <tr>\n",
       "      <th>Saturday</th>\n",
       "      <td>1584.0</td>\n",
       "      <td>196.665404</td>\n",
       "      <td>1.0</td>\n",
       "      <td>45.0</td>\n",
       "      <td>141.5</td>\n",
       "      <td>309.5</td>\n",
       "      <td>783.0</td>\n",
       "      <td>180.917795</td>\n",
       "    </tr>\n",
       "    <tr>\n",
       "      <th>Sunday</th>\n",
       "      <td>1579.0</td>\n",
       "      <td>180.839772</td>\n",
       "      <td>1.0</td>\n",
       "      <td>43.0</td>\n",
       "      <td>119.0</td>\n",
       "      <td>298.0</td>\n",
       "      <td>757.0</td>\n",
       "      <td>167.022145</td>\n",
       "    </tr>\n",
       "    <tr>\n",
       "      <th>Thursday</th>\n",
       "      <td>1553.0</td>\n",
       "      <td>197.296201</td>\n",
       "      <td>1.0</td>\n",
       "      <td>44.0</td>\n",
       "      <td>155.0</td>\n",
       "      <td>280.0</td>\n",
       "      <td>901.0</td>\n",
       "      <td>187.606619</td>\n",
       "    </tr>\n",
       "    <tr>\n",
       "      <th>Tuesday</th>\n",
       "      <td>1539.0</td>\n",
       "      <td>189.723847</td>\n",
       "      <td>1.0</td>\n",
       "      <td>36.0</td>\n",
       "      <td>146.0</td>\n",
       "      <td>274.0</td>\n",
       "      <td>970.0</td>\n",
       "      <td>186.719673</td>\n",
       "    </tr>\n",
       "    <tr>\n",
       "      <th>Wednesday</th>\n",
       "      <td>1551.0</td>\n",
       "      <td>188.411348</td>\n",
       "      <td>1.0</td>\n",
       "      <td>38.0</td>\n",
       "      <td>136.0</td>\n",
       "      <td>270.5</td>\n",
       "      <td>977.0</td>\n",
       "      <td>190.942004</td>\n",
       "    </tr>\n",
       "  </tbody>\n",
       "</table>\n",
       "</div>"
      ],
      "text/plain": [
       "              count        mean  min   25%    50%    75%    max         std\n",
       "Day_of_week                                                                \n",
       "Friday       1529.0  197.844343  1.0  52.0  167.0  290.0  900.0  172.518208\n",
       "Monday       1551.0  190.390716  1.0  39.0  146.0  277.5  968.0  180.943376\n",
       "Saturday     1584.0  196.665404  1.0  45.0  141.5  309.5  783.0  180.917795\n",
       "Sunday       1579.0  180.839772  1.0  43.0  119.0  298.0  757.0  167.022145\n",
       "Thursday     1553.0  197.296201  1.0  44.0  155.0  280.0  901.0  187.606619\n",
       "Tuesday      1539.0  189.723847  1.0  36.0  146.0  274.0  970.0  186.719673\n",
       "Wednesday    1551.0  188.411348  1.0  38.0  136.0  270.5  977.0  190.942004"
      ]
     },
     "execution_count": 23,
     "metadata": {},
     "output_type": "execute_result"
    }
   ],
   "source": [
    "df.groupby('Day_of_week').describe()['count']"
   ]
  },
  {
   "cell_type": "markdown",
   "id": "0d4c74d1",
   "metadata": {
    "papermill": {
     "duration": 0.036693,
     "end_time": "2023-07-03T00:14:50.114939",
     "exception": false,
     "start_time": "2023-07-03T00:14:50.078246",
     "status": "completed"
    },
    "tags": []
   },
   "source": [
    "- Wednesday is the most popular day for renting a bike, but most of the days when the lowest profit!"
   ]
  },
  {
   "cell_type": "code",
   "execution_count": 24,
   "id": "f6e68c52",
   "metadata": {
    "execution": {
     "iopub.execute_input": "2023-07-03T00:14:50.191952Z",
     "iopub.status.busy": "2023-07-03T00:14:50.191272Z",
     "iopub.status.idle": "2023-07-03T00:14:50.613425Z",
     "shell.execute_reply": "2023-07-03T00:14:50.612329Z"
    },
    "papermill": {
     "duration": 0.463486,
     "end_time": "2023-07-03T00:14:50.615890",
     "exception": false,
     "start_time": "2023-07-03T00:14:50.152404",
     "status": "completed"
    },
    "tags": []
   },
   "outputs": [
    {
     "data": {
      "text/html": [
       "<div>\n",
       "<style scoped>\n",
       "    .dataframe tbody tr th:only-of-type {\n",
       "        vertical-align: middle;\n",
       "    }\n",
       "\n",
       "    .dataframe tbody tr th {\n",
       "        vertical-align: top;\n",
       "    }\n",
       "\n",
       "    .dataframe thead th {\n",
       "        text-align: right;\n",
       "    }\n",
       "</style>\n",
       "<table border=\"1\" class=\"dataframe\">\n",
       "  <thead>\n",
       "    <tr style=\"text-align: right;\">\n",
       "      <th></th>\n",
       "      <th>count</th>\n",
       "      <th>mean</th>\n",
       "      <th>min</th>\n",
       "      <th>25%</th>\n",
       "      <th>50%</th>\n",
       "      <th>75%</th>\n",
       "      <th>max</th>\n",
       "      <th>std</th>\n",
       "    </tr>\n",
       "    <tr>\n",
       "      <th>Month_name</th>\n",
       "      <th></th>\n",
       "      <th></th>\n",
       "      <th></th>\n",
       "      <th></th>\n",
       "      <th></th>\n",
       "      <th></th>\n",
       "      <th></th>\n",
       "      <th></th>\n",
       "    </tr>\n",
       "  </thead>\n",
       "  <tbody>\n",
       "    <tr>\n",
       "      <th>April</th>\n",
       "      <td>909.0</td>\n",
       "      <td>184.160616</td>\n",
       "      <td>1.0</td>\n",
       "      <td>35.00</td>\n",
       "      <td>133.0</td>\n",
       "      <td>277.00</td>\n",
       "      <td>822.0</td>\n",
       "      <td>182.417619</td>\n",
       "    </tr>\n",
       "    <tr>\n",
       "      <th>August</th>\n",
       "      <td>912.0</td>\n",
       "      <td>234.118421</td>\n",
       "      <td>1.0</td>\n",
       "      <td>67.75</td>\n",
       "      <td>193.0</td>\n",
       "      <td>337.25</td>\n",
       "      <td>897.0</td>\n",
       "      <td>197.198461</td>\n",
       "    </tr>\n",
       "    <tr>\n",
       "      <th>December</th>\n",
       "      <td>912.0</td>\n",
       "      <td>175.614035</td>\n",
       "      <td>1.0</td>\n",
       "      <td>45.00</td>\n",
       "      <td>138.0</td>\n",
       "      <td>257.00</td>\n",
       "      <td>759.0</td>\n",
       "      <td>155.926050</td>\n",
       "    </tr>\n",
       "    <tr>\n",
       "      <th>February</th>\n",
       "      <td>901.0</td>\n",
       "      <td>110.003330</td>\n",
       "      <td>1.0</td>\n",
       "      <td>26.00</td>\n",
       "      <td>78.0</td>\n",
       "      <td>157.00</td>\n",
       "      <td>539.0</td>\n",
       "      <td>109.802322</td>\n",
       "    </tr>\n",
       "    <tr>\n",
       "      <th>January</th>\n",
       "      <td>884.0</td>\n",
       "      <td>90.366516</td>\n",
       "      <td>1.0</td>\n",
       "      <td>20.00</td>\n",
       "      <td>65.0</td>\n",
       "      <td>123.00</td>\n",
       "      <td>512.0</td>\n",
       "      <td>95.302518</td>\n",
       "    </tr>\n",
       "    <tr>\n",
       "      <th>July</th>\n",
       "      <td>912.0</td>\n",
       "      <td>235.325658</td>\n",
       "      <td>1.0</td>\n",
       "      <td>77.25</td>\n",
       "      <td>209.5</td>\n",
       "      <td>358.50</td>\n",
       "      <td>872.0</td>\n",
       "      <td>184.857337</td>\n",
       "    </tr>\n",
       "    <tr>\n",
       "      <th>June</th>\n",
       "      <td>912.0</td>\n",
       "      <td>242.031798</td>\n",
       "      <td>1.0</td>\n",
       "      <td>73.75</td>\n",
       "      <td>206.0</td>\n",
       "      <td>363.00</td>\n",
       "      <td>869.0</td>\n",
       "      <td>199.628690</td>\n",
       "    </tr>\n",
       "    <tr>\n",
       "      <th>March</th>\n",
       "      <td>901.0</td>\n",
       "      <td>148.169811</td>\n",
       "      <td>1.0</td>\n",
       "      <td>26.00</td>\n",
       "      <td>100.0</td>\n",
       "      <td>219.00</td>\n",
       "      <td>801.0</td>\n",
       "      <td>155.352814</td>\n",
       "    </tr>\n",
       "    <tr>\n",
       "      <th>May</th>\n",
       "      <td>912.0</td>\n",
       "      <td>219.459430</td>\n",
       "      <td>1.0</td>\n",
       "      <td>56.00</td>\n",
       "      <td>182.0</td>\n",
       "      <td>323.50</td>\n",
       "      <td>873.0</td>\n",
       "      <td>189.320173</td>\n",
       "    </tr>\n",
       "    <tr>\n",
       "      <th>November</th>\n",
       "      <td>911.0</td>\n",
       "      <td>193.677278</td>\n",
       "      <td>1.0</td>\n",
       "      <td>53.50</td>\n",
       "      <td>162.0</td>\n",
       "      <td>284.00</td>\n",
       "      <td>724.0</td>\n",
       "      <td>165.420965</td>\n",
       "    </tr>\n",
       "    <tr>\n",
       "      <th>October</th>\n",
       "      <td>911.0</td>\n",
       "      <td>227.699232</td>\n",
       "      <td>1.0</td>\n",
       "      <td>57.00</td>\n",
       "      <td>180.0</td>\n",
       "      <td>342.00</td>\n",
       "      <td>948.0</td>\n",
       "      <td>204.079411</td>\n",
       "    </tr>\n",
       "    <tr>\n",
       "      <th>September</th>\n",
       "      <td>909.0</td>\n",
       "      <td>233.805281</td>\n",
       "      <td>1.0</td>\n",
       "      <td>58.00</td>\n",
       "      <td>188.0</td>\n",
       "      <td>349.00</td>\n",
       "      <td>977.0</td>\n",
       "      <td>208.915910</td>\n",
       "    </tr>\n",
       "  </tbody>\n",
       "</table>\n",
       "</div>"
      ],
      "text/plain": [
       "            count        mean  min    25%    50%     75%    max         std\n",
       "Month_name                                                                 \n",
       "April       909.0  184.160616  1.0  35.00  133.0  277.00  822.0  182.417619\n",
       "August      912.0  234.118421  1.0  67.75  193.0  337.25  897.0  197.198461\n",
       "December    912.0  175.614035  1.0  45.00  138.0  257.00  759.0  155.926050\n",
       "February    901.0  110.003330  1.0  26.00   78.0  157.00  539.0  109.802322\n",
       "January     884.0   90.366516  1.0  20.00   65.0  123.00  512.0   95.302518\n",
       "July        912.0  235.325658  1.0  77.25  209.5  358.50  872.0  184.857337\n",
       "June        912.0  242.031798  1.0  73.75  206.0  363.00  869.0  199.628690\n",
       "March       901.0  148.169811  1.0  26.00  100.0  219.00  801.0  155.352814\n",
       "May         912.0  219.459430  1.0  56.00  182.0  323.50  873.0  189.320173\n",
       "November    911.0  193.677278  1.0  53.50  162.0  284.00  724.0  165.420965\n",
       "October     911.0  227.699232  1.0  57.00  180.0  342.00  948.0  204.079411\n",
       "September   909.0  233.805281  1.0  58.00  188.0  349.00  977.0  208.915910"
      ]
     },
     "execution_count": 24,
     "metadata": {},
     "output_type": "execute_result"
    }
   ],
   "source": [
    "df.groupby('Month_name').describe()['count']"
   ]
  },
  {
   "cell_type": "markdown",
   "id": "adafabd1",
   "metadata": {
    "papermill": {
     "duration": 0.036921,
     "end_time": "2023-07-03T00:14:50.690569",
     "exception": false,
     "start_time": "2023-07-03T00:14:50.653648",
     "status": "completed"
    },
    "tags": []
   },
   "source": [
    "- December is the lowest popular months for renting a bike, but most of the months when the most profit !"
   ]
  },
  {
   "cell_type": "code",
   "execution_count": 25,
   "id": "7408d433",
   "metadata": {
    "execution": {
     "iopub.execute_input": "2023-07-03T00:14:50.767014Z",
     "iopub.status.busy": "2023-07-03T00:14:50.766590Z",
     "iopub.status.idle": "2023-07-03T00:14:50.794276Z",
     "shell.execute_reply": "2023-07-03T00:14:50.793172Z"
    },
    "papermill": {
     "duration": 0.06869,
     "end_time": "2023-07-03T00:14:50.796825",
     "exception": false,
     "start_time": "2023-07-03T00:14:50.728135",
     "status": "completed"
    },
    "tags": []
   },
   "outputs": [
    {
     "data": {
      "text/html": [
       "<div>\n",
       "<style scoped>\n",
       "    .dataframe tbody tr th:only-of-type {\n",
       "        vertical-align: middle;\n",
       "    }\n",
       "\n",
       "    .dataframe tbody tr th {\n",
       "        vertical-align: top;\n",
       "    }\n",
       "\n",
       "    .dataframe thead th {\n",
       "        text-align: right;\n",
       "    }\n",
       "</style>\n",
       "<table border=\"1\" class=\"dataframe\">\n",
       "  <thead>\n",
       "    <tr style=\"text-align: right;\">\n",
       "      <th></th>\n",
       "      <th>datetime</th>\n",
       "      <th>season</th>\n",
       "      <th>holiday</th>\n",
       "      <th>workingday</th>\n",
       "      <th>weather</th>\n",
       "      <th>temp</th>\n",
       "      <th>atemp</th>\n",
       "      <th>humidity</th>\n",
       "      <th>windspeed</th>\n",
       "      <th>casual</th>\n",
       "      <th>registered</th>\n",
       "      <th>count</th>\n",
       "      <th>Profit</th>\n",
       "      <th>Year</th>\n",
       "      <th>Month_name</th>\n",
       "      <th>Day_of_week</th>\n",
       "      <th>Hour</th>\n",
       "    </tr>\n",
       "  </thead>\n",
       "  <tbody>\n",
       "    <tr>\n",
       "      <th>0</th>\n",
       "      <td>2011-01-01 00:00:00</td>\n",
       "      <td>1</td>\n",
       "      <td>0</td>\n",
       "      <td>0</td>\n",
       "      <td>1</td>\n",
       "      <td>9.84</td>\n",
       "      <td>14.395</td>\n",
       "      <td>81</td>\n",
       "      <td>0.0000</td>\n",
       "      <td>3</td>\n",
       "      <td>13</td>\n",
       "      <td>16</td>\n",
       "      <td>107.328767</td>\n",
       "      <td>2011</td>\n",
       "      <td>January</td>\n",
       "      <td>Saturday</td>\n",
       "      <td>0</td>\n",
       "    </tr>\n",
       "    <tr>\n",
       "      <th>1</th>\n",
       "      <td>2011-01-01 01:00:00</td>\n",
       "      <td>1</td>\n",
       "      <td>0</td>\n",
       "      <td>0</td>\n",
       "      <td>1</td>\n",
       "      <td>9.02</td>\n",
       "      <td>13.635</td>\n",
       "      <td>80</td>\n",
       "      <td>0.0000</td>\n",
       "      <td>8</td>\n",
       "      <td>32</td>\n",
       "      <td>40</td>\n",
       "      <td>275.028767</td>\n",
       "      <td>2011</td>\n",
       "      <td>January</td>\n",
       "      <td>Saturday</td>\n",
       "      <td>1</td>\n",
       "    </tr>\n",
       "    <tr>\n",
       "      <th>2</th>\n",
       "      <td>2011-01-01 02:00:00</td>\n",
       "      <td>1</td>\n",
       "      <td>0</td>\n",
       "      <td>0</td>\n",
       "      <td>1</td>\n",
       "      <td>9.02</td>\n",
       "      <td>13.635</td>\n",
       "      <td>80</td>\n",
       "      <td>0.0000</td>\n",
       "      <td>5</td>\n",
       "      <td>27</td>\n",
       "      <td>32</td>\n",
       "      <td>201.928767</td>\n",
       "      <td>2011</td>\n",
       "      <td>January</td>\n",
       "      <td>Saturday</td>\n",
       "      <td>2</td>\n",
       "    </tr>\n",
       "    <tr>\n",
       "      <th>3</th>\n",
       "      <td>2011-01-01 03:00:00</td>\n",
       "      <td>1</td>\n",
       "      <td>0</td>\n",
       "      <td>0</td>\n",
       "      <td>1</td>\n",
       "      <td>9.84</td>\n",
       "      <td>14.395</td>\n",
       "      <td>75</td>\n",
       "      <td>0.0000</td>\n",
       "      <td>3</td>\n",
       "      <td>10</td>\n",
       "      <td>13</td>\n",
       "      <td>94.428767</td>\n",
       "      <td>2011</td>\n",
       "      <td>January</td>\n",
       "      <td>Saturday</td>\n",
       "      <td>3</td>\n",
       "    </tr>\n",
       "    <tr>\n",
       "      <th>4</th>\n",
       "      <td>2011-01-01 04:00:00</td>\n",
       "      <td>1</td>\n",
       "      <td>0</td>\n",
       "      <td>0</td>\n",
       "      <td>1</td>\n",
       "      <td>9.84</td>\n",
       "      <td>14.395</td>\n",
       "      <td>75</td>\n",
       "      <td>0.0000</td>\n",
       "      <td>0</td>\n",
       "      <td>1</td>\n",
       "      <td>1</td>\n",
       "      <td>4.128767</td>\n",
       "      <td>2011</td>\n",
       "      <td>January</td>\n",
       "      <td>Saturday</td>\n",
       "      <td>4</td>\n",
       "    </tr>\n",
       "    <tr>\n",
       "      <th>...</th>\n",
       "      <td>...</td>\n",
       "      <td>...</td>\n",
       "      <td>...</td>\n",
       "      <td>...</td>\n",
       "      <td>...</td>\n",
       "      <td>...</td>\n",
       "      <td>...</td>\n",
       "      <td>...</td>\n",
       "      <td>...</td>\n",
       "      <td>...</td>\n",
       "      <td>...</td>\n",
       "      <td>...</td>\n",
       "      <td>...</td>\n",
       "      <td>...</td>\n",
       "      <td>...</td>\n",
       "      <td>...</td>\n",
       "      <td>...</td>\n",
       "    </tr>\n",
       "    <tr>\n",
       "      <th>10881</th>\n",
       "      <td>2012-12-19 19:00:00</td>\n",
       "      <td>4</td>\n",
       "      <td>0</td>\n",
       "      <td>1</td>\n",
       "      <td>1</td>\n",
       "      <td>15.58</td>\n",
       "      <td>19.695</td>\n",
       "      <td>50</td>\n",
       "      <td>26.0027</td>\n",
       "      <td>7</td>\n",
       "      <td>329</td>\n",
       "      <td>336</td>\n",
       "      <td>1534.928767</td>\n",
       "      <td>2012</td>\n",
       "      <td>December</td>\n",
       "      <td>Wednesday</td>\n",
       "      <td>19</td>\n",
       "    </tr>\n",
       "    <tr>\n",
       "      <th>10882</th>\n",
       "      <td>2012-12-19 20:00:00</td>\n",
       "      <td>4</td>\n",
       "      <td>0</td>\n",
       "      <td>1</td>\n",
       "      <td>1</td>\n",
       "      <td>14.76</td>\n",
       "      <td>17.425</td>\n",
       "      <td>57</td>\n",
       "      <td>15.0013</td>\n",
       "      <td>10</td>\n",
       "      <td>231</td>\n",
       "      <td>241</td>\n",
       "      <td>1165.128767</td>\n",
       "      <td>2012</td>\n",
       "      <td>December</td>\n",
       "      <td>Wednesday</td>\n",
       "      <td>20</td>\n",
       "    </tr>\n",
       "    <tr>\n",
       "      <th>10883</th>\n",
       "      <td>2012-12-19 21:00:00</td>\n",
       "      <td>4</td>\n",
       "      <td>0</td>\n",
       "      <td>1</td>\n",
       "      <td>1</td>\n",
       "      <td>13.94</td>\n",
       "      <td>15.910</td>\n",
       "      <td>61</td>\n",
       "      <td>15.0013</td>\n",
       "      <td>4</td>\n",
       "      <td>164</td>\n",
       "      <td>168</td>\n",
       "      <td>773.828767</td>\n",
       "      <td>2012</td>\n",
       "      <td>December</td>\n",
       "      <td>Wednesday</td>\n",
       "      <td>21</td>\n",
       "    </tr>\n",
       "    <tr>\n",
       "      <th>10884</th>\n",
       "      <td>2012-12-19 22:00:00</td>\n",
       "      <td>4</td>\n",
       "      <td>0</td>\n",
       "      <td>1</td>\n",
       "      <td>1</td>\n",
       "      <td>13.94</td>\n",
       "      <td>17.425</td>\n",
       "      <td>61</td>\n",
       "      <td>6.0032</td>\n",
       "      <td>12</td>\n",
       "      <td>117</td>\n",
       "      <td>129</td>\n",
       "      <td>709.328767</td>\n",
       "      <td>2012</td>\n",
       "      <td>December</td>\n",
       "      <td>Wednesday</td>\n",
       "      <td>22</td>\n",
       "    </tr>\n",
       "    <tr>\n",
       "      <th>10885</th>\n",
       "      <td>2012-12-19 23:00:00</td>\n",
       "      <td>4</td>\n",
       "      <td>0</td>\n",
       "      <td>1</td>\n",
       "      <td>1</td>\n",
       "      <td>13.12</td>\n",
       "      <td>16.665</td>\n",
       "      <td>66</td>\n",
       "      <td>8.9981</td>\n",
       "      <td>4</td>\n",
       "      <td>84</td>\n",
       "      <td>88</td>\n",
       "      <td>429.828767</td>\n",
       "      <td>2012</td>\n",
       "      <td>December</td>\n",
       "      <td>Wednesday</td>\n",
       "      <td>23</td>\n",
       "    </tr>\n",
       "  </tbody>\n",
       "</table>\n",
       "<p>10886 rows × 17 columns</p>\n",
       "</div>"
      ],
      "text/plain": [
       "                 datetime  season  holiday  workingday  weather   temp  \\\n",
       "0     2011-01-01 00:00:00       1        0           0        1   9.84   \n",
       "1     2011-01-01 01:00:00       1        0           0        1   9.02   \n",
       "2     2011-01-01 02:00:00       1        0           0        1   9.02   \n",
       "3     2011-01-01 03:00:00       1        0           0        1   9.84   \n",
       "4     2011-01-01 04:00:00       1        0           0        1   9.84   \n",
       "...                   ...     ...      ...         ...      ...    ...   \n",
       "10881 2012-12-19 19:00:00       4        0           1        1  15.58   \n",
       "10882 2012-12-19 20:00:00       4        0           1        1  14.76   \n",
       "10883 2012-12-19 21:00:00       4        0           1        1  13.94   \n",
       "10884 2012-12-19 22:00:00       4        0           1        1  13.94   \n",
       "10885 2012-12-19 23:00:00       4        0           1        1  13.12   \n",
       "\n",
       "        atemp  humidity  windspeed  casual  registered  count       Profit  \\\n",
       "0      14.395        81     0.0000       3          13     16   107.328767   \n",
       "1      13.635        80     0.0000       8          32     40   275.028767   \n",
       "2      13.635        80     0.0000       5          27     32   201.928767   \n",
       "3      14.395        75     0.0000       3          10     13    94.428767   \n",
       "4      14.395        75     0.0000       0           1      1     4.128767   \n",
       "...       ...       ...        ...     ...         ...    ...          ...   \n",
       "10881  19.695        50    26.0027       7         329    336  1534.928767   \n",
       "10882  17.425        57    15.0013      10         231    241  1165.128767   \n",
       "10883  15.910        61    15.0013       4         164    168   773.828767   \n",
       "10884  17.425        61     6.0032      12         117    129   709.328767   \n",
       "10885  16.665        66     8.9981       4          84     88   429.828767   \n",
       "\n",
       "       Year Month_name Day_of_week  Hour  \n",
       "0      2011    January    Saturday     0  \n",
       "1      2011    January    Saturday     1  \n",
       "2      2011    January    Saturday     2  \n",
       "3      2011    January    Saturday     3  \n",
       "4      2011    January    Saturday     4  \n",
       "...     ...        ...         ...   ...  \n",
       "10881  2012   December   Wednesday    19  \n",
       "10882  2012   December   Wednesday    20  \n",
       "10883  2012   December   Wednesday    21  \n",
       "10884  2012   December   Wednesday    22  \n",
       "10885  2012   December   Wednesday    23  \n",
       "\n",
       "[10886 rows x 17 columns]"
      ]
     },
     "execution_count": 25,
     "metadata": {},
     "output_type": "execute_result"
    }
   ],
   "source": [
    "df"
   ]
  },
  {
   "cell_type": "markdown",
   "id": "28cd5eaa",
   "metadata": {
    "papermill": {
     "duration": 0.038064,
     "end_time": "2023-07-03T00:14:50.872902",
     "exception": false,
     "start_time": "2023-07-03T00:14:50.834838",
     "status": "completed"
    },
    "tags": []
   },
   "source": [
    "# Q- Which season that has more registered & profit."
   ]
  },
  {
   "cell_type": "code",
   "execution_count": 26,
   "id": "db424e76",
   "metadata": {
    "execution": {
     "iopub.execute_input": "2023-07-03T00:14:50.952879Z",
     "iopub.status.busy": "2023-07-03T00:14:50.952420Z",
     "iopub.status.idle": "2023-07-03T00:14:50.989674Z",
     "shell.execute_reply": "2023-07-03T00:14:50.988533Z"
    },
    "papermill": {
     "duration": 0.07994,
     "end_time": "2023-07-03T00:14:50.992554",
     "exception": false,
     "start_time": "2023-07-03T00:14:50.912614",
     "status": "completed"
    },
    "tags": []
   },
   "outputs": [],
   "source": [
    "# season : 1 = spring, 2 = summer, 3 = fall, 4 = winter \n",
    "df['season'] = df['season'].apply(lambda x: str(x).replace('1', 'spring') if '1' in str(x) else x)\n",
    "df['season'] = df['season'].apply(lambda x: str(x).replace('2', 'summer') if '2' in str(x) else x)\n",
    "df['season'] = df['season'].apply(lambda x: str(x).replace('3', 'fall') if '3' in str(x) else x)\n",
    "df['season'] = df['season'].apply(lambda x: str(x).replace('4', 'winter') if '4' in str(x) else x)"
   ]
  },
  {
   "cell_type": "code",
   "execution_count": 27,
   "id": "aa5097e3",
   "metadata": {
    "execution": {
     "iopub.execute_input": "2023-07-03T00:14:51.071105Z",
     "iopub.status.busy": "2023-07-03T00:14:51.070017Z",
     "iopub.status.idle": "2023-07-03T00:14:51.099417Z",
     "shell.execute_reply": "2023-07-03T00:14:51.098192Z"
    },
    "papermill": {
     "duration": 0.071195,
     "end_time": "2023-07-03T00:14:51.102069",
     "exception": false,
     "start_time": "2023-07-03T00:14:51.030874",
     "status": "completed"
    },
    "tags": []
   },
   "outputs": [
    {
     "data": {
      "text/html": [
       "<div>\n",
       "<style scoped>\n",
       "    .dataframe tbody tr th:only-of-type {\n",
       "        vertical-align: middle;\n",
       "    }\n",
       "\n",
       "    .dataframe tbody tr th {\n",
       "        vertical-align: top;\n",
       "    }\n",
       "\n",
       "    .dataframe thead th {\n",
       "        text-align: right;\n",
       "    }\n",
       "</style>\n",
       "<table border=\"1\" class=\"dataframe\">\n",
       "  <thead>\n",
       "    <tr style=\"text-align: right;\">\n",
       "      <th></th>\n",
       "      <th>datetime</th>\n",
       "      <th>season</th>\n",
       "      <th>holiday</th>\n",
       "      <th>workingday</th>\n",
       "      <th>weather</th>\n",
       "      <th>temp</th>\n",
       "      <th>atemp</th>\n",
       "      <th>humidity</th>\n",
       "      <th>windspeed</th>\n",
       "      <th>casual</th>\n",
       "      <th>registered</th>\n",
       "      <th>count</th>\n",
       "      <th>Profit</th>\n",
       "      <th>Year</th>\n",
       "      <th>Month_name</th>\n",
       "      <th>Day_of_week</th>\n",
       "      <th>Hour</th>\n",
       "    </tr>\n",
       "  </thead>\n",
       "  <tbody>\n",
       "    <tr>\n",
       "      <th>0</th>\n",
       "      <td>2011-01-01 00:00:00</td>\n",
       "      <td>spring</td>\n",
       "      <td>0</td>\n",
       "      <td>0</td>\n",
       "      <td>1</td>\n",
       "      <td>9.84</td>\n",
       "      <td>14.395</td>\n",
       "      <td>81</td>\n",
       "      <td>0.0000</td>\n",
       "      <td>3</td>\n",
       "      <td>13</td>\n",
       "      <td>16</td>\n",
       "      <td>107.328767</td>\n",
       "      <td>2011</td>\n",
       "      <td>January</td>\n",
       "      <td>Saturday</td>\n",
       "      <td>0</td>\n",
       "    </tr>\n",
       "    <tr>\n",
       "      <th>1</th>\n",
       "      <td>2011-01-01 01:00:00</td>\n",
       "      <td>spring</td>\n",
       "      <td>0</td>\n",
       "      <td>0</td>\n",
       "      <td>1</td>\n",
       "      <td>9.02</td>\n",
       "      <td>13.635</td>\n",
       "      <td>80</td>\n",
       "      <td>0.0000</td>\n",
       "      <td>8</td>\n",
       "      <td>32</td>\n",
       "      <td>40</td>\n",
       "      <td>275.028767</td>\n",
       "      <td>2011</td>\n",
       "      <td>January</td>\n",
       "      <td>Saturday</td>\n",
       "      <td>1</td>\n",
       "    </tr>\n",
       "    <tr>\n",
       "      <th>2</th>\n",
       "      <td>2011-01-01 02:00:00</td>\n",
       "      <td>spring</td>\n",
       "      <td>0</td>\n",
       "      <td>0</td>\n",
       "      <td>1</td>\n",
       "      <td>9.02</td>\n",
       "      <td>13.635</td>\n",
       "      <td>80</td>\n",
       "      <td>0.0000</td>\n",
       "      <td>5</td>\n",
       "      <td>27</td>\n",
       "      <td>32</td>\n",
       "      <td>201.928767</td>\n",
       "      <td>2011</td>\n",
       "      <td>January</td>\n",
       "      <td>Saturday</td>\n",
       "      <td>2</td>\n",
       "    </tr>\n",
       "    <tr>\n",
       "      <th>3</th>\n",
       "      <td>2011-01-01 03:00:00</td>\n",
       "      <td>spring</td>\n",
       "      <td>0</td>\n",
       "      <td>0</td>\n",
       "      <td>1</td>\n",
       "      <td>9.84</td>\n",
       "      <td>14.395</td>\n",
       "      <td>75</td>\n",
       "      <td>0.0000</td>\n",
       "      <td>3</td>\n",
       "      <td>10</td>\n",
       "      <td>13</td>\n",
       "      <td>94.428767</td>\n",
       "      <td>2011</td>\n",
       "      <td>January</td>\n",
       "      <td>Saturday</td>\n",
       "      <td>3</td>\n",
       "    </tr>\n",
       "    <tr>\n",
       "      <th>4</th>\n",
       "      <td>2011-01-01 04:00:00</td>\n",
       "      <td>spring</td>\n",
       "      <td>0</td>\n",
       "      <td>0</td>\n",
       "      <td>1</td>\n",
       "      <td>9.84</td>\n",
       "      <td>14.395</td>\n",
       "      <td>75</td>\n",
       "      <td>0.0000</td>\n",
       "      <td>0</td>\n",
       "      <td>1</td>\n",
       "      <td>1</td>\n",
       "      <td>4.128767</td>\n",
       "      <td>2011</td>\n",
       "      <td>January</td>\n",
       "      <td>Saturday</td>\n",
       "      <td>4</td>\n",
       "    </tr>\n",
       "    <tr>\n",
       "      <th>...</th>\n",
       "      <td>...</td>\n",
       "      <td>...</td>\n",
       "      <td>...</td>\n",
       "      <td>...</td>\n",
       "      <td>...</td>\n",
       "      <td>...</td>\n",
       "      <td>...</td>\n",
       "      <td>...</td>\n",
       "      <td>...</td>\n",
       "      <td>...</td>\n",
       "      <td>...</td>\n",
       "      <td>...</td>\n",
       "      <td>...</td>\n",
       "      <td>...</td>\n",
       "      <td>...</td>\n",
       "      <td>...</td>\n",
       "      <td>...</td>\n",
       "    </tr>\n",
       "    <tr>\n",
       "      <th>10881</th>\n",
       "      <td>2012-12-19 19:00:00</td>\n",
       "      <td>winter</td>\n",
       "      <td>0</td>\n",
       "      <td>1</td>\n",
       "      <td>1</td>\n",
       "      <td>15.58</td>\n",
       "      <td>19.695</td>\n",
       "      <td>50</td>\n",
       "      <td>26.0027</td>\n",
       "      <td>7</td>\n",
       "      <td>329</td>\n",
       "      <td>336</td>\n",
       "      <td>1534.928767</td>\n",
       "      <td>2012</td>\n",
       "      <td>December</td>\n",
       "      <td>Wednesday</td>\n",
       "      <td>19</td>\n",
       "    </tr>\n",
       "    <tr>\n",
       "      <th>10882</th>\n",
       "      <td>2012-12-19 20:00:00</td>\n",
       "      <td>winter</td>\n",
       "      <td>0</td>\n",
       "      <td>1</td>\n",
       "      <td>1</td>\n",
       "      <td>14.76</td>\n",
       "      <td>17.425</td>\n",
       "      <td>57</td>\n",
       "      <td>15.0013</td>\n",
       "      <td>10</td>\n",
       "      <td>231</td>\n",
       "      <td>241</td>\n",
       "      <td>1165.128767</td>\n",
       "      <td>2012</td>\n",
       "      <td>December</td>\n",
       "      <td>Wednesday</td>\n",
       "      <td>20</td>\n",
       "    </tr>\n",
       "    <tr>\n",
       "      <th>10883</th>\n",
       "      <td>2012-12-19 21:00:00</td>\n",
       "      <td>winter</td>\n",
       "      <td>0</td>\n",
       "      <td>1</td>\n",
       "      <td>1</td>\n",
       "      <td>13.94</td>\n",
       "      <td>15.910</td>\n",
       "      <td>61</td>\n",
       "      <td>15.0013</td>\n",
       "      <td>4</td>\n",
       "      <td>164</td>\n",
       "      <td>168</td>\n",
       "      <td>773.828767</td>\n",
       "      <td>2012</td>\n",
       "      <td>December</td>\n",
       "      <td>Wednesday</td>\n",
       "      <td>21</td>\n",
       "    </tr>\n",
       "    <tr>\n",
       "      <th>10884</th>\n",
       "      <td>2012-12-19 22:00:00</td>\n",
       "      <td>winter</td>\n",
       "      <td>0</td>\n",
       "      <td>1</td>\n",
       "      <td>1</td>\n",
       "      <td>13.94</td>\n",
       "      <td>17.425</td>\n",
       "      <td>61</td>\n",
       "      <td>6.0032</td>\n",
       "      <td>12</td>\n",
       "      <td>117</td>\n",
       "      <td>129</td>\n",
       "      <td>709.328767</td>\n",
       "      <td>2012</td>\n",
       "      <td>December</td>\n",
       "      <td>Wednesday</td>\n",
       "      <td>22</td>\n",
       "    </tr>\n",
       "    <tr>\n",
       "      <th>10885</th>\n",
       "      <td>2012-12-19 23:00:00</td>\n",
       "      <td>winter</td>\n",
       "      <td>0</td>\n",
       "      <td>1</td>\n",
       "      <td>1</td>\n",
       "      <td>13.12</td>\n",
       "      <td>16.665</td>\n",
       "      <td>66</td>\n",
       "      <td>8.9981</td>\n",
       "      <td>4</td>\n",
       "      <td>84</td>\n",
       "      <td>88</td>\n",
       "      <td>429.828767</td>\n",
       "      <td>2012</td>\n",
       "      <td>December</td>\n",
       "      <td>Wednesday</td>\n",
       "      <td>23</td>\n",
       "    </tr>\n",
       "  </tbody>\n",
       "</table>\n",
       "<p>10886 rows × 17 columns</p>\n",
       "</div>"
      ],
      "text/plain": [
       "                 datetime  season  holiday  workingday  weather   temp  \\\n",
       "0     2011-01-01 00:00:00  spring        0           0        1   9.84   \n",
       "1     2011-01-01 01:00:00  spring        0           0        1   9.02   \n",
       "2     2011-01-01 02:00:00  spring        0           0        1   9.02   \n",
       "3     2011-01-01 03:00:00  spring        0           0        1   9.84   \n",
       "4     2011-01-01 04:00:00  spring        0           0        1   9.84   \n",
       "...                   ...     ...      ...         ...      ...    ...   \n",
       "10881 2012-12-19 19:00:00  winter        0           1        1  15.58   \n",
       "10882 2012-12-19 20:00:00  winter        0           1        1  14.76   \n",
       "10883 2012-12-19 21:00:00  winter        0           1        1  13.94   \n",
       "10884 2012-12-19 22:00:00  winter        0           1        1  13.94   \n",
       "10885 2012-12-19 23:00:00  winter        0           1        1  13.12   \n",
       "\n",
       "        atemp  humidity  windspeed  casual  registered  count       Profit  \\\n",
       "0      14.395        81     0.0000       3          13     16   107.328767   \n",
       "1      13.635        80     0.0000       8          32     40   275.028767   \n",
       "2      13.635        80     0.0000       5          27     32   201.928767   \n",
       "3      14.395        75     0.0000       3          10     13    94.428767   \n",
       "4      14.395        75     0.0000       0           1      1     4.128767   \n",
       "...       ...       ...        ...     ...         ...    ...          ...   \n",
       "10881  19.695        50    26.0027       7         329    336  1534.928767   \n",
       "10882  17.425        57    15.0013      10         231    241  1165.128767   \n",
       "10883  15.910        61    15.0013       4         164    168   773.828767   \n",
       "10884  17.425        61     6.0032      12         117    129   709.328767   \n",
       "10885  16.665        66     8.9981       4          84     88   429.828767   \n",
       "\n",
       "       Year Month_name Day_of_week  Hour  \n",
       "0      2011    January    Saturday     0  \n",
       "1      2011    January    Saturday     1  \n",
       "2      2011    January    Saturday     2  \n",
       "3      2011    January    Saturday     3  \n",
       "4      2011    January    Saturday     4  \n",
       "...     ...        ...         ...   ...  \n",
       "10881  2012   December   Wednesday    19  \n",
       "10882  2012   December   Wednesday    20  \n",
       "10883  2012   December   Wednesday    21  \n",
       "10884  2012   December   Wednesday    22  \n",
       "10885  2012   December   Wednesday    23  \n",
       "\n",
       "[10886 rows x 17 columns]"
      ]
     },
     "execution_count": 27,
     "metadata": {},
     "output_type": "execute_result"
    }
   ],
   "source": [
    "df"
   ]
  },
  {
   "cell_type": "code",
   "execution_count": 28,
   "id": "d966cbd4",
   "metadata": {
    "execution": {
     "iopub.execute_input": "2023-07-03T00:14:51.180651Z",
     "iopub.status.busy": "2023-07-03T00:14:51.180276Z",
     "iopub.status.idle": "2023-07-03T00:14:51.326834Z",
     "shell.execute_reply": "2023-07-03T00:14:51.325656Z"
    },
    "papermill": {
     "duration": 0.188498,
     "end_time": "2023-07-03T00:14:51.329307",
     "exception": false,
     "start_time": "2023-07-03T00:14:51.140809",
     "status": "completed"
    },
    "tags": []
   },
   "outputs": [
    {
     "data": {
      "text/html": [
       "<div>\n",
       "<style scoped>\n",
       "    .dataframe tbody tr th:only-of-type {\n",
       "        vertical-align: middle;\n",
       "    }\n",
       "\n",
       "    .dataframe tbody tr th {\n",
       "        vertical-align: top;\n",
       "    }\n",
       "\n",
       "    .dataframe thead th {\n",
       "        text-align: right;\n",
       "    }\n",
       "</style>\n",
       "<table border=\"1\" class=\"dataframe\">\n",
       "  <thead>\n",
       "    <tr style=\"text-align: right;\">\n",
       "      <th></th>\n",
       "      <th>count</th>\n",
       "      <th>mean</th>\n",
       "      <th>min</th>\n",
       "      <th>25%</th>\n",
       "      <th>50%</th>\n",
       "      <th>75%</th>\n",
       "      <th>max</th>\n",
       "      <th>std</th>\n",
       "    </tr>\n",
       "    <tr>\n",
       "      <th>season</th>\n",
       "      <th></th>\n",
       "      <th></th>\n",
       "      <th></th>\n",
       "      <th></th>\n",
       "      <th></th>\n",
       "      <th></th>\n",
       "      <th></th>\n",
       "      <th></th>\n",
       "    </tr>\n",
       "  </thead>\n",
       "  <tbody>\n",
       "    <tr>\n",
       "      <th>fall</th>\n",
       "      <td>2733.0</td>\n",
       "      <td>1681.463893</td>\n",
       "      <td>4.128767</td>\n",
       "      <td>442.728767</td>\n",
       "      <td>1414.528767</td>\n",
       "      <td>2463.728767</td>\n",
       "      <td>7881.728767</td>\n",
       "      <td>1427.630038</td>\n",
       "    </tr>\n",
       "    <tr>\n",
       "      <th>spring</th>\n",
       "      <td>2686.0</td>\n",
       "      <td>699.920316</td>\n",
       "      <td>4.128767</td>\n",
       "      <td>128.828767</td>\n",
       "      <td>438.428767</td>\n",
       "      <td>920.028767</td>\n",
       "      <td>7679.628767</td>\n",
       "      <td>853.820568</td>\n",
       "    </tr>\n",
       "    <tr>\n",
       "      <th>summer</th>\n",
       "      <td>2733.0</td>\n",
       "      <td>1537.472894</td>\n",
       "      <td>4.128767</td>\n",
       "      <td>322.328767</td>\n",
       "      <td>1216.728767</td>\n",
       "      <td>2244.428767</td>\n",
       "      <td>7795.728767</td>\n",
       "      <td>1453.088262</td>\n",
       "    </tr>\n",
       "    <tr>\n",
       "      <th>winter</th>\n",
       "      <td>2734.0</td>\n",
       "      <td>1224.171196</td>\n",
       "      <td>4.128767</td>\n",
       "      <td>292.228767</td>\n",
       "      <td>937.228767</td>\n",
       "      <td>1754.228767</td>\n",
       "      <td>7864.528767</td>\n",
       "      <td>1185.870080</td>\n",
       "    </tr>\n",
       "  </tbody>\n",
       "</table>\n",
       "</div>"
      ],
      "text/plain": [
       "         count         mean       min         25%          50%          75%  \\\n",
       "season                                                                        \n",
       "fall    2733.0  1681.463893  4.128767  442.728767  1414.528767  2463.728767   \n",
       "spring  2686.0   699.920316  4.128767  128.828767   438.428767   920.028767   \n",
       "summer  2733.0  1537.472894  4.128767  322.328767  1216.728767  2244.428767   \n",
       "winter  2734.0  1224.171196  4.128767  292.228767   937.228767  1754.228767   \n",
       "\n",
       "                max          std  \n",
       "season                            \n",
       "fall    7881.728767  1427.630038  \n",
       "spring  7679.628767   853.820568  \n",
       "summer  7795.728767  1453.088262  \n",
       "winter  7864.528767  1185.870080  "
      ]
     },
     "execution_count": 28,
     "metadata": {},
     "output_type": "execute_result"
    }
   ],
   "source": [
    "df.groupby('season').describe()['Profit']"
   ]
  },
  {
   "cell_type": "code",
   "execution_count": 29,
   "id": "45cb6864",
   "metadata": {
    "execution": {
     "iopub.execute_input": "2023-07-03T00:14:51.408091Z",
     "iopub.status.busy": "2023-07-03T00:14:51.407628Z",
     "iopub.status.idle": "2023-07-03T00:14:51.999650Z",
     "shell.execute_reply": "2023-07-03T00:14:51.998519Z"
    },
    "papermill": {
     "duration": 0.634351,
     "end_time": "2023-07-03T00:14:52.001954",
     "exception": false,
     "start_time": "2023-07-03T00:14:51.367603",
     "status": "completed"
    },
    "scrolled": true,
    "tags": []
   },
   "outputs": [
    {
     "data": {
      "text/plain": [
       "Text(0.5, 1.0, 'Highest profit season ')"
      ]
     },
     "execution_count": 29,
     "metadata": {},
     "output_type": "execute_result"
    },
    {
     "data": {
      "image/png": "[encoded data removed]",
      "text/plain": [
       "<Figure size 1000x600 with 1 Axes>"
      ]
     },
     "metadata": {},
     "output_type": "display_data"
    }
   ],
   "source": [
    "plt.figure(figsize=(10,6))\n",
    "sns.barplot(x= df['season'] ,y = df['Profit'])\n",
    "plt.xlabel(\"season\")\n",
    "plt.ylabel(\"Profit\")\n",
    "plt.title(\"Highest profit season \")"
   ]
  },
  {
   "cell_type": "markdown",
   "id": "60e51f89",
   "metadata": {
    "papermill": {
     "duration": 0.045344,
     "end_time": "2023-07-03T00:14:52.095971",
     "exception": false,
     "start_time": "2023-07-03T00:14:52.050627",
     "status": "completed"
    },
    "tags": []
   },
   "source": [
    "- As we see from plot the season with the highest income : fall then summer \n",
    "-  the season with the lowest profit : spring"
   ]
  },
  {
   "cell_type": "code",
   "execution_count": 30,
   "id": "5c0348a8",
   "metadata": {
    "execution": {
     "iopub.execute_input": "2023-07-03T00:14:52.177051Z",
     "iopub.status.busy": "2023-07-03T00:14:52.176251Z",
     "iopub.status.idle": "2023-07-03T00:14:52.325013Z",
     "shell.execute_reply": "2023-07-03T00:14:52.323974Z"
    },
    "papermill": {
     "duration": 0.192143,
     "end_time": "2023-07-03T00:14:52.327383",
     "exception": false,
     "start_time": "2023-07-03T00:14:52.135240",
     "status": "completed"
    },
    "tags": []
   },
   "outputs": [
    {
     "data": {
      "text/html": [
       "<div>\n",
       "<style scoped>\n",
       "    .dataframe tbody tr th:only-of-type {\n",
       "        vertical-align: middle;\n",
       "    }\n",
       "\n",
       "    .dataframe tbody tr th {\n",
       "        vertical-align: top;\n",
       "    }\n",
       "\n",
       "    .dataframe thead th {\n",
       "        text-align: right;\n",
       "    }\n",
       "</style>\n",
       "<table border=\"1\" class=\"dataframe\">\n",
       "  <thead>\n",
       "    <tr style=\"text-align: right;\">\n",
       "      <th></th>\n",
       "      <th>count</th>\n",
       "      <th>mean</th>\n",
       "      <th>min</th>\n",
       "      <th>25%</th>\n",
       "      <th>50%</th>\n",
       "      <th>75%</th>\n",
       "      <th>max</th>\n",
       "      <th>std</th>\n",
       "    </tr>\n",
       "    <tr>\n",
       "      <th>season</th>\n",
       "      <th></th>\n",
       "      <th></th>\n",
       "      <th></th>\n",
       "      <th></th>\n",
       "      <th></th>\n",
       "      <th></th>\n",
       "      <th></th>\n",
       "      <th></th>\n",
       "    </tr>\n",
       "  </thead>\n",
       "  <tbody>\n",
       "    <tr>\n",
       "      <th>fall</th>\n",
       "      <td>2733.0</td>\n",
       "      <td>182.196853</td>\n",
       "      <td>0.0</td>\n",
       "      <td>53.0</td>\n",
       "      <td>151.0</td>\n",
       "      <td>252.00</td>\n",
       "      <td>886.0</td>\n",
       "      <td>164.386982</td>\n",
       "    </tr>\n",
       "    <tr>\n",
       "      <th>spring</th>\n",
       "      <td>2686.0</td>\n",
       "      <td>100.853686</td>\n",
       "      <td>0.0</td>\n",
       "      <td>22.0</td>\n",
       "      <td>69.0</td>\n",
       "      <td>141.00</td>\n",
       "      <td>681.0</td>\n",
       "      <td>108.082025</td>\n",
       "    </tr>\n",
       "    <tr>\n",
       "      <th>summer</th>\n",
       "      <td>2733.0</td>\n",
       "      <td>167.804610</td>\n",
       "      <td>0.0</td>\n",
       "      <td>39.0</td>\n",
       "      <td>133.0</td>\n",
       "      <td>243.00</td>\n",
       "      <td>782.0</td>\n",
       "      <td>156.156658</td>\n",
       "    </tr>\n",
       "    <tr>\n",
       "      <th>winter</th>\n",
       "      <td>2734.0</td>\n",
       "      <td>170.407462</td>\n",
       "      <td>1.0</td>\n",
       "      <td>46.0</td>\n",
       "      <td>139.0</td>\n",
       "      <td>238.75</td>\n",
       "      <td>857.0</td>\n",
       "      <td>154.828357</td>\n",
       "    </tr>\n",
       "  </tbody>\n",
       "</table>\n",
       "</div>"
      ],
      "text/plain": [
       "         count        mean  min   25%    50%     75%    max         std\n",
       "season                                                                 \n",
       "fall    2733.0  182.196853  0.0  53.0  151.0  252.00  886.0  164.386982\n",
       "spring  2686.0  100.853686  0.0  22.0   69.0  141.00  681.0  108.082025\n",
       "summer  2733.0  167.804610  0.0  39.0  133.0  243.00  782.0  156.156658\n",
       "winter  2734.0  170.407462  1.0  46.0  139.0  238.75  857.0  154.828357"
      ]
     },
     "execution_count": 30,
     "metadata": {},
     "output_type": "execute_result"
    }
   ],
   "source": [
    "df.groupby('season').describe()['registered']"
   ]
  },
  {
   "cell_type": "code",
   "execution_count": 31,
   "id": "d5ce86ba",
   "metadata": {
    "execution": {
     "iopub.execute_input": "2023-07-03T00:14:52.408204Z",
     "iopub.status.busy": "2023-07-03T00:14:52.407806Z",
     "iopub.status.idle": "2023-07-03T00:14:52.942694Z",
     "shell.execute_reply": "2023-07-03T00:14:52.941566Z"
    },
    "papermill": {
     "duration": 0.578244,
     "end_time": "2023-07-03T00:14:52.945428",
     "exception": false,
     "start_time": "2023-07-03T00:14:52.367184",
     "status": "completed"
    },
    "tags": []
   },
   "outputs": [
    {
     "data": {
      "text/plain": [
       "Text(0.5, 1.0, 'Highest registered season ')"
      ]
     },
     "execution_count": 31,
     "metadata": {},
     "output_type": "execute_result"
    },
    {
     "data": {
      "image/png": "[encoded data removed]",
      "text/plain": [
       "<Figure size 1000x600 with 1 Axes>"
      ]
     },
     "metadata": {},
     "output_type": "display_data"
    }
   ],
   "source": [
    "plt.figure(figsize=(10,6))\n",
    "sns.barplot(x= df['season'] ,y = df['registered'])\n",
    "plt.xlabel(\"season\")\n",
    "plt.ylabel(\"registered\")\n",
    "plt.title(\"Highest registered season \")"
   ]
  },
  {
   "cell_type": "markdown",
   "id": "dd27486b",
   "metadata": {
    "papermill": {
     "duration": 0.040192,
     "end_time": "2023-07-03T00:14:53.025338",
     "exception": false,
     "start_time": "2023-07-03T00:14:52.985146",
     "status": "completed"
    },
    "tags": []
   },
   "source": [
    " - As we see from plot the season with the highest registered : fall then winter\n",
    " - the season with  the lowest registered : spring \n",
    " - We have a problem in the spring in terms of profit and registered"
   ]
  },
  {
   "cell_type": "markdown",
   "id": "83c27778",
   "metadata": {
    "papermill": {
     "duration": 0.039543,
     "end_time": "2023-07-03T00:14:53.105186",
     "exception": false,
     "start_time": "2023-07-03T00:14:53.065643",
     "status": "completed"
    },
    "tags": []
   },
   "source": [
    "# Q- Which weather condition that has more profit."
   ]
  },
  {
   "cell_type": "code",
   "execution_count": 32,
   "id": "4e021f02",
   "metadata": {
    "execution": {
     "iopub.execute_input": "2023-07-03T00:14:53.186998Z",
     "iopub.status.busy": "2023-07-03T00:14:53.186346Z",
     "iopub.status.idle": "2023-07-03T00:14:53.220330Z",
     "shell.execute_reply": "2023-07-03T00:14:53.219142Z"
    },
    "papermill": {
     "duration": 0.078133,
     "end_time": "2023-07-03T00:14:53.223083",
     "exception": false,
     "start_time": "2023-07-03T00:14:53.144950",
     "status": "completed"
    },
    "tags": []
   },
   "outputs": [],
   "source": [
    "# counvet the weather from numerical(1,2,3,4) to object Clear , Mist , Rainy ,snowy\n",
    "df['weather'] = df['weather'].apply(lambda x: str(x).replace('1', 'Clear') if '1' in str(x) else x)\n",
    "df['weather'] = df['weather'].apply(lambda x: str(x).replace('2', 'Mist') if '2' in str(x) else x)\n",
    "df['weather'] = df['weather'].apply(lambda x: str(x).replace('3', 'Rainy') if '3' in str(x) else x)\n",
    "df['weather'] = df['weather'].apply(lambda x: str(x).replace('4', 'snowy') if '4' in str(x) else x)"
   ]
  },
  {
   "cell_type": "code",
   "execution_count": 33,
   "id": "d0d1c70b",
   "metadata": {
    "execution": {
     "iopub.execute_input": "2023-07-03T00:14:53.305483Z",
     "iopub.status.busy": "2023-07-03T00:14:53.305084Z",
     "iopub.status.idle": "2023-07-03T00:14:53.443308Z",
     "shell.execute_reply": "2023-07-03T00:14:53.441912Z"
    },
    "papermill": {
     "duration": 0.183142,
     "end_time": "2023-07-03T00:14:53.446886",
     "exception": false,
     "start_time": "2023-07-03T00:14:53.263744",
     "status": "completed"
    },
    "tags": []
   },
   "outputs": [
    {
     "data": {
      "text/html": [
       "<div>\n",
       "<style scoped>\n",
       "    .dataframe tbody tr th:only-of-type {\n",
       "        vertical-align: middle;\n",
       "    }\n",
       "\n",
       "    .dataframe tbody tr th {\n",
       "        vertical-align: top;\n",
       "    }\n",
       "\n",
       "    .dataframe thead th {\n",
       "        text-align: right;\n",
       "    }\n",
       "</style>\n",
       "<table border=\"1\" class=\"dataframe\">\n",
       "  <thead>\n",
       "    <tr style=\"text-align: right;\">\n",
       "      <th></th>\n",
       "      <th>count</th>\n",
       "      <th>mean</th>\n",
       "      <th>min</th>\n",
       "      <th>25%</th>\n",
       "      <th>50%</th>\n",
       "      <th>75%</th>\n",
       "      <th>max</th>\n",
       "      <th>std</th>\n",
       "    </tr>\n",
       "    <tr>\n",
       "      <th>weather</th>\n",
       "      <th></th>\n",
       "      <th></th>\n",
       "      <th></th>\n",
       "      <th></th>\n",
       "      <th></th>\n",
       "      <th></th>\n",
       "      <th></th>\n",
       "      <th></th>\n",
       "    </tr>\n",
       "  </thead>\n",
       "  <tbody>\n",
       "    <tr>\n",
       "      <th>Clear</th>\n",
       "      <td>7192.0</td>\n",
       "      <td>1402.328892</td>\n",
       "      <td>4.128767</td>\n",
       "      <td>287.928767</td>\n",
       "      <td>1014.628767</td>\n",
       "      <td>2055.228767</td>\n",
       "      <td>7864.528767</td>\n",
       "      <td>1381.640444</td>\n",
       "    </tr>\n",
       "    <tr>\n",
       "      <th>Mist</th>\n",
       "      <td>2834.0</td>\n",
       "      <td>1166.470052</td>\n",
       "      <td>4.128767</td>\n",
       "      <td>244.928767</td>\n",
       "      <td>825.428767</td>\n",
       "      <td>1745.628767</td>\n",
       "      <td>7881.728767</td>\n",
       "      <td>1159.674508</td>\n",
       "    </tr>\n",
       "    <tr>\n",
       "      <th>Rainy</th>\n",
       "      <td>859.0</td>\n",
       "      <td>735.874634</td>\n",
       "      <td>4.128767</td>\n",
       "      <td>124.528767</td>\n",
       "      <td>399.728767</td>\n",
       "      <td>956.578767</td>\n",
       "      <td>5542.528767</td>\n",
       "      <td>925.977295</td>\n",
       "    </tr>\n",
       "    <tr>\n",
       "      <th>snowy</th>\n",
       "      <td>1.0</td>\n",
       "      <td>782.428767</td>\n",
       "      <td>782.428767</td>\n",
       "      <td>782.428767</td>\n",
       "      <td>782.428767</td>\n",
       "      <td>782.428767</td>\n",
       "      <td>782.428767</td>\n",
       "      <td>NaN</td>\n",
       "    </tr>\n",
       "  </tbody>\n",
       "</table>\n",
       "</div>"
      ],
      "text/plain": [
       "          count         mean         min         25%          50%  \\\n",
       "weather                                                             \n",
       "Clear    7192.0  1402.328892    4.128767  287.928767  1014.628767   \n",
       "Mist     2834.0  1166.470052    4.128767  244.928767   825.428767   \n",
       "Rainy     859.0   735.874634    4.128767  124.528767   399.728767   \n",
       "snowy       1.0   782.428767  782.428767  782.428767   782.428767   \n",
       "\n",
       "                 75%          max          std  \n",
       "weather                                         \n",
       "Clear    2055.228767  7864.528767  1381.640444  \n",
       "Mist     1745.628767  7881.728767  1159.674508  \n",
       "Rainy     956.578767  5542.528767   925.977295  \n",
       "snowy     782.428767   782.428767          NaN  "
      ]
     },
     "execution_count": 33,
     "metadata": {},
     "output_type": "execute_result"
    }
   ],
   "source": [
    "df.groupby('weather').describe()['Profit']"
   ]
  },
  {
   "cell_type": "code",
   "execution_count": 34,
   "id": "60c6b6d1",
   "metadata": {
    "execution": {
     "iopub.execute_input": "2023-07-03T00:14:53.529007Z",
     "iopub.status.busy": "2023-07-03T00:14:53.528105Z",
     "iopub.status.idle": "2023-07-03T00:14:54.018441Z",
     "shell.execute_reply": "2023-07-03T00:14:54.017023Z"
    },
    "papermill": {
     "duration": 0.533439,
     "end_time": "2023-07-03T00:14:54.021085",
     "exception": false,
     "start_time": "2023-07-03T00:14:53.487646",
     "status": "completed"
    },
    "tags": []
   },
   "outputs": [
    {
     "data": {
      "text/plain": [
       "Text(0.5, 1.0, 'The effect of weather on profit')"
      ]
     },
     "execution_count": 34,
     "metadata": {},
     "output_type": "execute_result"
    },
    {
     "data": {
      "image/png": "[encoded data removed]",
      "text/plain": [
       "<Figure size 1000x600 with 1 Axes>"
      ]
     },
     "metadata": {},
     "output_type": "display_data"
    }
   ],
   "source": [
    "plt.figure(figsize=(10,6))\n",
    "sns.barplot(x= df['weather'] ,y = df['Profit'])\n",
    "plt.xlabel(\"weather\")\n",
    "plt.ylabel(\"Profit\")\n",
    "plt.title(\"The effect of weather on profit\")"
   ]
  },
  {
   "cell_type": "markdown",
   "id": "f3c8d1cd",
   "metadata": {
    "papermill": {
     "duration": 0.04083,
     "end_time": "2023-07-03T00:14:54.103359",
     "exception": false,
     "start_time": "2023-07-03T00:14:54.062529",
     "status": "completed"
    },
    "tags": []
   },
   "source": [
    "- Most of the profits come from the days when the weather is clear"
   ]
  },
  {
   "cell_type": "markdown",
   "id": "0acf5583",
   "metadata": {
    "papermill": {
     "duration": 0.040696,
     "end_time": "2023-07-03T00:14:54.184670",
     "exception": false,
     "start_time": "2023-07-03T00:14:54.143974",
     "status": "completed"
    },
    "tags": []
   },
   "source": [
    "# Q- Correlation between profit & bikes count with all features.\n"
   ]
  },
  {
   "cell_type": "code",
   "execution_count": 35,
   "id": "0f98d772",
   "metadata": {
    "execution": {
     "iopub.execute_input": "2023-07-03T00:14:54.271684Z",
     "iopub.status.busy": "2023-07-03T00:14:54.270197Z",
     "iopub.status.idle": "2023-07-03T00:14:54.771499Z",
     "shell.execute_reply": "2023-07-03T00:14:54.770405Z"
    },
    "papermill": {
     "duration": 0.547296,
     "end_time": "2023-07-03T00:14:54.774170",
     "exception": false,
     "start_time": "2023-07-03T00:14:54.226874",
     "status": "completed"
    },
    "tags": []
   },
   "outputs": [
    {
     "ename": "ValueError",
     "evalue": "could not convert string to float: 'January'",
     "output_type": "error",
     "traceback": [
      "\u001b[0;31m---------------------------------------------------------------------------\u001b[0m",
      "\u001b[0;31mValueError\u001b[0m                                Traceback (most recent call last)",
      "\u001b[1;32m/Users/tanayparikh/Desktop/ADM_Project/ml-deployment-eda-feature-eng-train-model (4).ipynb Cell 49\u001b[0m line \u001b[0;36m3\n\u001b[1;32m      <a href='vscode-notebook-cell:/Users/tanayparikh/Desktop/ADM_Project/ml-deployment-eda-feature-eng-train-model%20%284%29.ipynb#X66sZmlsZQ%3D%3D?line=0'>1</a>\u001b[0m \u001b[39m#Correlation between profit & bikes count with all features.\u001b[39;00m\n\u001b[1;32m      <a href='vscode-notebook-cell:/Users/tanayparikh/Desktop/ADM_Project/ml-deployment-eda-feature-eng-train-model%20%284%29.ipynb#X66sZmlsZQ%3D%3D?line=1'>2</a>\u001b[0m plt\u001b[39m.\u001b[39mfigure(figsize\u001b[39m=\u001b[39m (\u001b[39m10\u001b[39m,\u001b[39m6\u001b[39m))\n\u001b[0;32m----> <a href='vscode-notebook-cell:/Users/tanayparikh/Desktop/ADM_Project/ml-deployment-eda-feature-eng-train-model%20%284%29.ipynb#X66sZmlsZQ%3D%3D?line=2'>3</a>\u001b[0m sns\u001b[39m.\u001b[39mheatmap(df\u001b[39m.\u001b[39;49mcorr()[[\u001b[39m'\u001b[39m\u001b[39mProfit\u001b[39m\u001b[39m'\u001b[39m,\u001b[39m'\u001b[39m\u001b[39mcount\u001b[39m\u001b[39m'\u001b[39m]],annot\u001b[39m=\u001b[39m\u001b[39mTrue\u001b[39;00m)\n",
      "File \u001b[0;32m~/Library/Python/3.9/lib/python/site-packages/pandas/core/frame.py:10704\u001b[0m, in \u001b[0;36mDataFrame.corr\u001b[0;34m(self, method, min_periods, numeric_only)\u001b[0m\n\u001b[1;32m  10702\u001b[0m cols \u001b[39m=\u001b[39m data\u001b[39m.\u001b[39mcolumns\n\u001b[1;32m  10703\u001b[0m idx \u001b[39m=\u001b[39m cols\u001b[39m.\u001b[39mcopy()\n\u001b[0;32m> 10704\u001b[0m mat \u001b[39m=\u001b[39m data\u001b[39m.\u001b[39;49mto_numpy(dtype\u001b[39m=\u001b[39;49m\u001b[39mfloat\u001b[39;49m, na_value\u001b[39m=\u001b[39;49mnp\u001b[39m.\u001b[39;49mnan, copy\u001b[39m=\u001b[39;49m\u001b[39mFalse\u001b[39;49;00m)\n\u001b[1;32m  10706\u001b[0m \u001b[39mif\u001b[39;00m method \u001b[39m==\u001b[39m \u001b[39m\"\u001b[39m\u001b[39mpearson\u001b[39m\u001b[39m\"\u001b[39m:\n\u001b[1;32m  10707\u001b[0m     correl \u001b[39m=\u001b[39m libalgos\u001b[39m.\u001b[39mnancorr(mat, minp\u001b[39m=\u001b[39mmin_periods)\n",
      "File \u001b[0;32m~/Library/Python/3.9/lib/python/site-packages/pandas/core/frame.py:1889\u001b[0m, in \u001b[0;36mDataFrame.to_numpy\u001b[0;34m(self, dtype, copy, na_value)\u001b[0m\n\u001b[1;32m   1887\u001b[0m \u001b[39mif\u001b[39;00m dtype \u001b[39mis\u001b[39;00m \u001b[39mnot\u001b[39;00m \u001b[39mNone\u001b[39;00m:\n\u001b[1;32m   1888\u001b[0m     dtype \u001b[39m=\u001b[39m np\u001b[39m.\u001b[39mdtype(dtype)\n\u001b[0;32m-> 1889\u001b[0m result \u001b[39m=\u001b[39m \u001b[39mself\u001b[39;49m\u001b[39m.\u001b[39;49m_mgr\u001b[39m.\u001b[39;49mas_array(dtype\u001b[39m=\u001b[39;49mdtype, copy\u001b[39m=\u001b[39;49mcopy, na_value\u001b[39m=\u001b[39;49mna_value)\n\u001b[1;32m   1890\u001b[0m \u001b[39mif\u001b[39;00m result\u001b[39m.\u001b[39mdtype \u001b[39mis\u001b[39;00m \u001b[39mnot\u001b[39;00m dtype:\n\u001b[1;32m   1891\u001b[0m     result \u001b[39m=\u001b[39m np\u001b[39m.\u001b[39marray(result, dtype\u001b[39m=\u001b[39mdtype, copy\u001b[39m=\u001b[39m\u001b[39mFalse\u001b[39;00m)\n",
      "File \u001b[0;32m~/Library/Python/3.9/lib/python/site-packages/pandas/core/internals/managers.py:1656\u001b[0m, in \u001b[0;36mBlockManager.as_array\u001b[0;34m(self, dtype, copy, na_value)\u001b[0m\n\u001b[1;32m   1654\u001b[0m         arr\u001b[39m.\u001b[39mflags\u001b[39m.\u001b[39mwriteable \u001b[39m=\u001b[39m \u001b[39mFalse\u001b[39;00m\n\u001b[1;32m   1655\u001b[0m \u001b[39melse\u001b[39;00m:\n\u001b[0;32m-> 1656\u001b[0m     arr \u001b[39m=\u001b[39m \u001b[39mself\u001b[39;49m\u001b[39m.\u001b[39;49m_interleave(dtype\u001b[39m=\u001b[39;49mdtype, na_value\u001b[39m=\u001b[39;49mna_value)\n\u001b[1;32m   1657\u001b[0m     \u001b[39m# The underlying data was copied within _interleave, so no need\u001b[39;00m\n\u001b[1;32m   1658\u001b[0m     \u001b[39m# to further copy if copy=True or setting na_value\u001b[39;00m\n\u001b[1;32m   1660\u001b[0m \u001b[39mif\u001b[39;00m na_value \u001b[39mis\u001b[39;00m lib\u001b[39m.\u001b[39mno_default:\n",
      "File \u001b[0;32m~/Library/Python/3.9/lib/python/site-packages/pandas/core/internals/managers.py:1715\u001b[0m, in \u001b[0;36mBlockManager._interleave\u001b[0;34m(self, dtype, na_value)\u001b[0m\n\u001b[1;32m   1713\u001b[0m     \u001b[39melse\u001b[39;00m:\n\u001b[1;32m   1714\u001b[0m         arr \u001b[39m=\u001b[39m blk\u001b[39m.\u001b[39mget_values(dtype)\n\u001b[0;32m-> 1715\u001b[0m     result[rl\u001b[39m.\u001b[39;49mindexer] \u001b[39m=\u001b[39m arr\n\u001b[1;32m   1716\u001b[0m     itemmask[rl\u001b[39m.\u001b[39mindexer] \u001b[39m=\u001b[39m \u001b[39m1\u001b[39m\n\u001b[1;32m   1718\u001b[0m \u001b[39mif\u001b[39;00m \u001b[39mnot\u001b[39;00m itemmask\u001b[39m.\u001b[39mall():\n",
      "\u001b[0;31mValueError\u001b[0m: could not convert string to float: 'January'"
     ]
    },
    {
     "data": {
      "text/plain": [
       "<Figure size 1000x600 with 0 Axes>"
      ]
     },
     "metadata": {},
     "output_type": "display_data"
    }
   ],
   "source": [
    "#Correlation between profit & bikes count with all features.\n",
    "plt.figure(figsize= (10,6))\n",
    "sns.heatmap(df.corr()[['Profit','count']],annot=True)"
   ]
  },
  {
   "cell_type": "code",
   "execution_count": null,
   "id": "639c3083",
   "metadata": {
    "execution": {
     "iopub.execute_input": "2023-07-03T00:14:54.862440Z",
     "iopub.status.busy": "2023-07-03T00:14:54.862039Z",
     "iopub.status.idle": "2023-07-03T00:14:55.474587Z",
     "shell.execute_reply": "2023-07-03T00:14:55.473390Z"
    },
    "papermill": {
     "duration": 0.661397,
     "end_time": "2023-07-03T00:14:55.477774",
     "exception": false,
     "start_time": "2023-07-03T00:14:54.816377",
     "status": "completed"
    },
    "tags": []
   },
   "outputs": [
    {
     "name": "stderr",
     "output_type": "stream",
     "text": [
      "/tmp/ipykernel_20/2194923666.py:3: FutureWarning: The default value of numeric_only in DataFrame.corr is deprecated. In a future version, it will default to False. Select only valid columns or specify the value of numeric_only to silence this warning.\n",
      "  sns.heatmap(df.drop(['holiday','workingday','Year','Hour'],axis=1).corr(),annot=True)\n"
     ]
    },
    {
     "data": {
      "text/plain": [
       "<Axes: >"
      ]
     },
     "execution_count": 32,
     "metadata": {},
     "output_type": "execute_result"
    },
    {
     "data": {
      "image/png": "[encoded data removed]",
      "text/plain": [
       "<Figure size 1000x600 with 2 Axes>"
      ]
     },
     "metadata": {},
     "output_type": "display_data"
    }
   ],
   "source": [
    "#Correlation between all features.\n",
    "plt.figure(figsize= (10,6))\n",
    "sns.heatmap(df.drop(['holiday','workingday','Year','Hour'],axis=1).corr(),annot=True)"
   ]
  },
  {
   "cell_type": "markdown",
   "id": "f0662201",
   "metadata": {
    "papermill": {
     "duration": 0.043146,
     "end_time": "2023-07-03T00:14:55.564821",
     "exception": false,
     "start_time": "2023-07-03T00:14:55.521675",
     "status": "completed"
    },
    "tags": []
   },
   "source": [
    "# Rentals & Profit during rush hours (7-9 am &3-5 pm).\n"
   ]
  },
  {
   "cell_type": "code",
   "execution_count": 36,
   "id": "3d38be64",
   "metadata": {
    "execution": {
     "iopub.execute_input": "2023-07-03T00:14:55.653624Z",
     "iopub.status.busy": "2023-07-03T00:14:55.652995Z",
     "iopub.status.idle": "2023-07-03T00:14:55.668719Z",
     "shell.execute_reply": "2023-07-03T00:14:55.667884Z"
    },
    "papermill": {
     "duration": 0.063374,
     "end_time": "2023-07-03T00:14:55.671292",
     "exception": false,
     "start_time": "2023-07-03T00:14:55.607918",
     "status": "completed"
    },
    "tags": []
   },
   "outputs": [],
   "source": [
    "# create new col for rush hour\n",
    "def is_rush_hour (hour):\n",
    "    return 1  if hour in [7,8,9,15,16,17]  else  0      \n",
    "\n",
    "df['is_rush_hour'] =df['Hour'].apply(is_rush_hour)"
   ]
  },
  {
   "cell_type": "code",
   "execution_count": 37,
   "id": "0dd578a2",
   "metadata": {
    "execution": {
     "iopub.execute_input": "2023-07-03T00:14:55.761174Z",
     "iopub.status.busy": "2023-07-03T00:14:55.760529Z",
     "iopub.status.idle": "2023-07-03T00:14:55.843789Z",
     "shell.execute_reply": "2023-07-03T00:14:55.842679Z"
    },
    "papermill": {
     "duration": 0.131591,
     "end_time": "2023-07-03T00:14:55.846305",
     "exception": false,
     "start_time": "2023-07-03T00:14:55.714714",
     "status": "completed"
    },
    "tags": []
   },
   "outputs": [
    {
     "data": {
      "text/html": [
       "<div>\n",
       "<style scoped>\n",
       "    .dataframe tbody tr th:only-of-type {\n",
       "        vertical-align: middle;\n",
       "    }\n",
       "\n",
       "    .dataframe tbody tr th {\n",
       "        vertical-align: top;\n",
       "    }\n",
       "\n",
       "    .dataframe thead th {\n",
       "        text-align: right;\n",
       "    }\n",
       "</style>\n",
       "<table border=\"1\" class=\"dataframe\">\n",
       "  <thead>\n",
       "    <tr style=\"text-align: right;\">\n",
       "      <th></th>\n",
       "      <th>count</th>\n",
       "      <th>mean</th>\n",
       "      <th>min</th>\n",
       "      <th>25%</th>\n",
       "      <th>50%</th>\n",
       "      <th>75%</th>\n",
       "      <th>max</th>\n",
       "      <th>std</th>\n",
       "    </tr>\n",
       "    <tr>\n",
       "      <th>is_rush_hour</th>\n",
       "      <th></th>\n",
       "      <th></th>\n",
       "      <th></th>\n",
       "      <th></th>\n",
       "      <th></th>\n",
       "      <th></th>\n",
       "      <th></th>\n",
       "      <th></th>\n",
       "    </tr>\n",
       "  </thead>\n",
       "  <tbody>\n",
       "    <tr>\n",
       "      <th>0</th>\n",
       "      <td>8153.0</td>\n",
       "      <td>1069.674358</td>\n",
       "      <td>4.128767</td>\n",
       "      <td>158.928767</td>\n",
       "      <td>644.828767</td>\n",
       "      <td>1547.828767</td>\n",
       "      <td>7864.528767</td>\n",
       "      <td>1217.987206</td>\n",
       "    </tr>\n",
       "    <tr>\n",
       "      <th>1</th>\n",
       "      <td>2733.0</td>\n",
       "      <td>1940.420498</td>\n",
       "      <td>4.128767</td>\n",
       "      <td>937.228767</td>\n",
       "      <td>1689.728767</td>\n",
       "      <td>2622.828767</td>\n",
       "      <td>7881.728767</td>\n",
       "      <td>1356.260623</td>\n",
       "    </tr>\n",
       "  </tbody>\n",
       "</table>\n",
       "</div>"
      ],
      "text/plain": [
       "               count         mean       min         25%          50%  \\\n",
       "is_rush_hour                                                           \n",
       "0             8153.0  1069.674358  4.128767  158.928767   644.828767   \n",
       "1             2733.0  1940.420498  4.128767  937.228767  1689.728767   \n",
       "\n",
       "                      75%          max          std  \n",
       "is_rush_hour                                         \n",
       "0             1547.828767  7864.528767  1217.987206  \n",
       "1             2622.828767  7881.728767  1356.260623  "
      ]
     },
     "execution_count": 37,
     "metadata": {},
     "output_type": "execute_result"
    }
   ],
   "source": [
    "df.groupby('is_rush_hour').describe()['Profit']"
   ]
  },
  {
   "cell_type": "code",
   "execution_count": 38,
   "id": "4e79f2fb",
   "metadata": {
    "execution": {
     "iopub.execute_input": "2023-07-03T00:14:55.938697Z",
     "iopub.status.busy": "2023-07-03T00:14:55.938256Z",
     "iopub.status.idle": "2023-07-03T00:14:56.021983Z",
     "shell.execute_reply": "2023-07-03T00:14:56.020787Z"
    },
    "papermill": {
     "duration": 0.133512,
     "end_time": "2023-07-03T00:14:56.024497",
     "exception": false,
     "start_time": "2023-07-03T00:14:55.890985",
     "status": "completed"
    },
    "tags": []
   },
   "outputs": [
    {
     "data": {
      "text/html": [
       "<div>\n",
       "<style scoped>\n",
       "    .dataframe tbody tr th:only-of-type {\n",
       "        vertical-align: middle;\n",
       "    }\n",
       "\n",
       "    .dataframe tbody tr th {\n",
       "        vertical-align: top;\n",
       "    }\n",
       "\n",
       "    .dataframe thead th {\n",
       "        text-align: right;\n",
       "    }\n",
       "</style>\n",
       "<table border=\"1\" class=\"dataframe\">\n",
       "  <thead>\n",
       "    <tr style=\"text-align: right;\">\n",
       "      <th></th>\n",
       "      <th>count</th>\n",
       "      <th>mean</th>\n",
       "      <th>min</th>\n",
       "      <th>25%</th>\n",
       "      <th>50%</th>\n",
       "      <th>75%</th>\n",
       "      <th>max</th>\n",
       "      <th>std</th>\n",
       "    </tr>\n",
       "    <tr>\n",
       "      <th>is_rush_hour</th>\n",
       "      <th></th>\n",
       "      <th></th>\n",
       "      <th></th>\n",
       "      <th></th>\n",
       "      <th></th>\n",
       "      <th></th>\n",
       "      <th></th>\n",
       "      <th></th>\n",
       "    </tr>\n",
       "  </thead>\n",
       "  <tbody>\n",
       "    <tr>\n",
       "      <th>0</th>\n",
       "      <td>8153.0</td>\n",
       "      <td>153.140562</td>\n",
       "      <td>1.0</td>\n",
       "      <td>26.0</td>\n",
       "      <td>108.0</td>\n",
       "      <td>225.0</td>\n",
       "      <td>977.0</td>\n",
       "      <td>158.808647</td>\n",
       "    </tr>\n",
       "    <tr>\n",
       "      <th>1</th>\n",
       "      <td>2733.0</td>\n",
       "      <td>306.227955</td>\n",
       "      <td>1.0</td>\n",
       "      <td>157.0</td>\n",
       "      <td>276.0</td>\n",
       "      <td>420.0</td>\n",
       "      <td>970.0</td>\n",
       "      <td>194.740685</td>\n",
       "    </tr>\n",
       "  </tbody>\n",
       "</table>\n",
       "</div>"
      ],
      "text/plain": [
       "               count        mean  min    25%    50%    75%    max         std\n",
       "is_rush_hour                                                                 \n",
       "0             8153.0  153.140562  1.0   26.0  108.0  225.0  977.0  158.808647\n",
       "1             2733.0  306.227955  1.0  157.0  276.0  420.0  970.0  194.740685"
      ]
     },
     "execution_count": 38,
     "metadata": {},
     "output_type": "execute_result"
    }
   ],
   "source": [
    "df.groupby('is_rush_hour').describe()['count']"
   ]
  },
  {
   "cell_type": "code",
   "execution_count": 39,
   "id": "c69061e4",
   "metadata": {
    "execution": {
     "iopub.execute_input": "2023-07-03T00:14:56.114677Z",
     "iopub.status.busy": "2023-07-03T00:14:56.114284Z",
     "iopub.status.idle": "2023-07-03T00:14:56.560713Z",
     "shell.execute_reply": "2023-07-03T00:14:56.559762Z"
    },
    "papermill": {
     "duration": 0.494403,
     "end_time": "2023-07-03T00:14:56.563380",
     "exception": false,
     "start_time": "2023-07-03T00:14:56.068977",
     "status": "completed"
    },
    "tags": []
   },
   "outputs": [
    {
     "data": {
      "text/plain": [
       "Text(0, 0.5, 'Profit')"
      ]
     },
     "execution_count": 39,
     "metadata": {},
     "output_type": "execute_result"
    },
    {
     "data": {
      "image/png": "[encoded data removed]",
      "text/plain": [
       "<Figure size 1000x600 with 1 Axes>"
      ]
     },
     "metadata": {},
     "output_type": "display_data"
    }
   ],
   "source": [
    "plt.figure(figsize=(10,6))\n",
    "sns.barplot(x= df['is_rush_hour'] ,y = df['Profit'])\n",
    "plt.xlabel(\"Rush hour\")\n",
    "plt.ylabel(\"Profit\")"
   ]
  },
  {
   "cell_type": "markdown",
   "id": "fe738023",
   "metadata": {
    "papermill": {
     "duration": 0.044284,
     "end_time": "2023-07-03T00:14:56.652282",
     "exception": false,
     "start_time": "2023-07-03T00:14:56.607998",
     "status": "completed"
    },
    "tags": []
   },
   "source": [
    "- Most of the profit is not in rush hour"
   ]
  },
  {
   "cell_type": "markdown",
   "id": "54952d4d",
   "metadata": {
    "papermill": {
     "duration": 0.044189,
     "end_time": "2023-07-03T00:14:56.741196",
     "exception": false,
     "start_time": "2023-07-03T00:14:56.697007",
     "status": "completed"
    },
    "tags": []
   },
   "source": [
    "# Rentals during workingday.\n",
    "\n"
   ]
  },
  {
   "cell_type": "code",
   "execution_count": 40,
   "id": "0e42725a",
   "metadata": {
    "execution": {
     "iopub.execute_input": "2023-07-03T00:14:56.832667Z",
     "iopub.status.busy": "2023-07-03T00:14:56.832287Z",
     "iopub.status.idle": "2023-07-03T00:14:56.916266Z",
     "shell.execute_reply": "2023-07-03T00:14:56.915240Z"
    },
    "papermill": {
     "duration": 0.132915,
     "end_time": "2023-07-03T00:14:56.919162",
     "exception": false,
     "start_time": "2023-07-03T00:14:56.786247",
     "status": "completed"
    },
    "tags": []
   },
   "outputs": [
    {
     "data": {
      "text/html": [
       "<div>\n",
       "<style scoped>\n",
       "    .dataframe tbody tr th:only-of-type {\n",
       "        vertical-align: middle;\n",
       "    }\n",
       "\n",
       "    .dataframe tbody tr th {\n",
       "        vertical-align: top;\n",
       "    }\n",
       "\n",
       "    .dataframe thead th {\n",
       "        text-align: right;\n",
       "    }\n",
       "</style>\n",
       "<table border=\"1\" class=\"dataframe\">\n",
       "  <thead>\n",
       "    <tr style=\"text-align: right;\">\n",
       "      <th></th>\n",
       "      <th>count</th>\n",
       "      <th>mean</th>\n",
       "      <th>min</th>\n",
       "      <th>25%</th>\n",
       "      <th>50%</th>\n",
       "      <th>75%</th>\n",
       "      <th>max</th>\n",
       "      <th>std</th>\n",
       "    </tr>\n",
       "    <tr>\n",
       "      <th>workingday</th>\n",
       "      <th></th>\n",
       "      <th></th>\n",
       "      <th></th>\n",
       "      <th></th>\n",
       "      <th></th>\n",
       "      <th></th>\n",
       "      <th></th>\n",
       "      <th></th>\n",
       "    </tr>\n",
       "  </thead>\n",
       "  <tbody>\n",
       "    <tr>\n",
       "      <th>0</th>\n",
       "      <td>3474.0</td>\n",
       "      <td>188.506621</td>\n",
       "      <td>1.0</td>\n",
       "      <td>44.0</td>\n",
       "      <td>128.0</td>\n",
       "      <td>304.0</td>\n",
       "      <td>783.0</td>\n",
       "      <td>173.724015</td>\n",
       "    </tr>\n",
       "    <tr>\n",
       "      <th>1</th>\n",
       "      <td>7412.0</td>\n",
       "      <td>193.011873</td>\n",
       "      <td>1.0</td>\n",
       "      <td>41.0</td>\n",
       "      <td>151.0</td>\n",
       "      <td>277.0</td>\n",
       "      <td>977.0</td>\n",
       "      <td>184.513659</td>\n",
       "    </tr>\n",
       "  </tbody>\n",
       "</table>\n",
       "</div>"
      ],
      "text/plain": [
       "             count        mean  min   25%    50%    75%    max         std\n",
       "workingday                                                                \n",
       "0           3474.0  188.506621  1.0  44.0  128.0  304.0  783.0  173.724015\n",
       "1           7412.0  193.011873  1.0  41.0  151.0  277.0  977.0  184.513659"
      ]
     },
     "execution_count": 40,
     "metadata": {},
     "output_type": "execute_result"
    }
   ],
   "source": [
    "df.groupby('workingday').describe()['count']"
   ]
  },
  {
   "cell_type": "code",
   "execution_count": 41,
   "id": "39f9d0db",
   "metadata": {
    "execution": {
     "iopub.execute_input": "2023-07-03T00:14:57.011673Z",
     "iopub.status.busy": "2023-07-03T00:14:57.011035Z",
     "iopub.status.idle": "2023-07-03T00:14:57.093727Z",
     "shell.execute_reply": "2023-07-03T00:14:57.092591Z"
    },
    "papermill": {
     "duration": 0.131202,
     "end_time": "2023-07-03T00:14:57.096138",
     "exception": false,
     "start_time": "2023-07-03T00:14:56.964936",
     "status": "completed"
    },
    "tags": []
   },
   "outputs": [
    {
     "data": {
      "text/html": [
       "<div>\n",
       "<style scoped>\n",
       "    .dataframe tbody tr th:only-of-type {\n",
       "        vertical-align: middle;\n",
       "    }\n",
       "\n",
       "    .dataframe tbody tr th {\n",
       "        vertical-align: top;\n",
       "    }\n",
       "\n",
       "    .dataframe thead th {\n",
       "        text-align: right;\n",
       "    }\n",
       "</style>\n",
       "<table border=\"1\" class=\"dataframe\">\n",
       "  <thead>\n",
       "    <tr style=\"text-align: right;\">\n",
       "      <th></th>\n",
       "      <th>count</th>\n",
       "      <th>mean</th>\n",
       "      <th>min</th>\n",
       "      <th>25%</th>\n",
       "      <th>50%</th>\n",
       "      <th>75%</th>\n",
       "      <th>max</th>\n",
       "      <th>std</th>\n",
       "    </tr>\n",
       "    <tr>\n",
       "      <th>workingday</th>\n",
       "      <th></th>\n",
       "      <th></th>\n",
       "      <th></th>\n",
       "      <th></th>\n",
       "      <th></th>\n",
       "      <th></th>\n",
       "      <th></th>\n",
       "      <th></th>\n",
       "    </tr>\n",
       "  </thead>\n",
       "  <tbody>\n",
       "    <tr>\n",
       "      <th>0</th>\n",
       "      <td>3474.0</td>\n",
       "      <td>1575.484179</td>\n",
       "      <td>4.128767</td>\n",
       "      <td>283.628767</td>\n",
       "      <td>887.778767</td>\n",
       "      <td>2493.828767</td>\n",
       "      <td>7881.728767</td>\n",
       "      <td>1657.985547</td>\n",
       "    </tr>\n",
       "    <tr>\n",
       "      <th>1</th>\n",
       "      <td>7412.0</td>\n",
       "      <td>1153.668675</td>\n",
       "      <td>4.128767</td>\n",
       "      <td>236.328767</td>\n",
       "      <td>889.928767</td>\n",
       "      <td>1758.528767</td>\n",
       "      <td>6338.028767</td>\n",
       "      <td>1083.659550</td>\n",
       "    </tr>\n",
       "  </tbody>\n",
       "</table>\n",
       "</div>"
      ],
      "text/plain": [
       "             count         mean       min         25%         50%  \\\n",
       "workingday                                                          \n",
       "0           3474.0  1575.484179  4.128767  283.628767  887.778767   \n",
       "1           7412.0  1153.668675  4.128767  236.328767  889.928767   \n",
       "\n",
       "                    75%          max          std  \n",
       "workingday                                         \n",
       "0           2493.828767  7881.728767  1657.985547  \n",
       "1           1758.528767  6338.028767  1083.659550  "
      ]
     },
     "execution_count": 41,
     "metadata": {},
     "output_type": "execute_result"
    }
   ],
   "source": [
    "df.groupby('workingday').describe()['Profit']"
   ]
  },
  {
   "cell_type": "code",
   "execution_count": 42,
   "id": "7ed91ad5",
   "metadata": {
    "execution": {
     "iopub.execute_input": "2023-07-03T00:14:57.187816Z",
     "iopub.status.busy": "2023-07-03T00:14:57.187140Z",
     "iopub.status.idle": "2023-07-03T00:14:57.632047Z",
     "shell.execute_reply": "2023-07-03T00:14:57.630894Z"
    },
    "papermill": {
     "duration": 0.493885,
     "end_time": "2023-07-03T00:14:57.634465",
     "exception": false,
     "start_time": "2023-07-03T00:14:57.140580",
     "status": "completed"
    },
    "tags": []
   },
   "outputs": [
    {
     "data": {
      "text/plain": [
       "Text(0, 0.5, 'Profit')"
      ]
     },
     "execution_count": 42,
     "metadata": {},
     "output_type": "execute_result"
    },
    {
     "data": {
      "image/png": "[encoded data removed]",
      "text/plain": [
       "<Figure size 1000x600 with 1 Axes>"
      ]
     },
     "metadata": {},
     "output_type": "display_data"
    }
   ],
   "source": [
    "plt.figure(figsize=(10,6))\n",
    "sns.barplot(x= df['workingday'] ,y = df['Profit'])\n",
    "plt.xlabel(\"workingday\")\n",
    "plt.ylabel(\"Profit\")"
   ]
  },
  {
   "cell_type": "markdown",
   "id": "b3068bc8",
   "metadata": {
    "papermill": {
     "duration": 0.045743,
     "end_time": "2023-07-03T00:14:57.728128",
     "exception": false,
     "start_time": "2023-07-03T00:14:57.682385",
     "status": "completed"
    },
    "tags": []
   },
   "source": [
    "- The workingday don't achieves the highest profit"
   ]
  },
  {
   "cell_type": "markdown",
   "id": "a8df6716",
   "metadata": {
    "papermill": {
     "duration": 0.046107,
     "end_time": "2023-07-03T00:14:57.821037",
     "exception": false,
     "start_time": "2023-07-03T00:14:57.774930",
     "status": "completed"
    },
    "tags": []
   },
   "source": [
    "# registered of casual is more."
   ]
  },
  {
   "cell_type": "code",
   "execution_count": null,
   "id": "199951fa",
   "metadata": {
    "execution": {
     "iopub.execute_input": "2023-07-03T00:14:57.915561Z",
     "iopub.status.busy": "2023-07-03T00:14:57.914599Z",
     "iopub.status.idle": "2023-07-03T00:14:57.936295Z",
     "shell.execute_reply": "2023-07-03T00:14:57.934976Z"
    },
    "papermill": {
     "duration": 0.071639,
     "end_time": "2023-07-03T00:14:57.938516",
     "exception": false,
     "start_time": "2023-07-03T00:14:57.866877",
     "status": "completed"
    },
    "tags": []
   },
   "outputs": [],
   "source": []
  },
  {
   "cell_type": "markdown",
   "id": "0dc33f05",
   "metadata": {
    "papermill": {
     "duration": 0.045778,
     "end_time": "2023-07-03T00:14:58.031316",
     "exception": false,
     "start_time": "2023-07-03T00:14:57.985538",
     "status": "completed"
    },
    "tags": []
   },
   "source": [
    "- The casual achieves the highest profit"
   ]
  },
  {
   "cell_type": "code",
   "execution_count": null,
   "id": "2b8850e1",
   "metadata": {
    "papermill": {
     "duration": 0.046232,
     "end_time": "2023-07-03T00:14:58.124417",
     "exception": false,
     "start_time": "2023-07-03T00:14:58.078185",
     "status": "completed"
    },
    "tags": []
   },
   "outputs": [],
   "source": []
  },
  {
   "cell_type": "markdown",
   "id": "3ea00458",
   "metadata": {
    "papermill": {
     "duration": 0.046481,
     "end_time": "2023-07-03T00:14:58.216982",
     "exception": false,
     "start_time": "2023-07-03T00:14:58.170501",
     "status": "completed"
    },
    "tags": []
   },
   "source": [
    "# Schools (9-12) & (2-6) profit"
   ]
  },
  {
   "cell_type": "code",
   "execution_count": 44,
   "id": "7c640c9f",
   "metadata": {
    "execution": {
     "iopub.execute_input": "2023-07-03T00:14:58.313223Z",
     "iopub.status.busy": "2023-07-03T00:14:58.312359Z",
     "iopub.status.idle": "2023-07-03T00:14:58.321061Z",
     "shell.execute_reply": "2023-07-03T00:14:58.319959Z"
    },
    "papermill": {
     "duration": 0.060092,
     "end_time": "2023-07-03T00:14:58.323315",
     "exception": false,
     "start_time": "2023-07-03T00:14:58.263223",
     "status": "completed"
    },
    "tags": []
   },
   "outputs": [
    {
     "data": {
      "text/plain": [
       "array(['January', 'February', 'March', 'April', 'May', 'June', 'July',\n",
       "       'August', 'September', 'October', 'November', 'December'],\n",
       "      dtype=object)"
      ]
     },
     "execution_count": 44,
     "metadata": {},
     "output_type": "execute_result"
    }
   ],
   "source": [
    "df['Month_name'].unique()"
   ]
  },
  {
   "cell_type": "code",
   "execution_count": 45,
   "id": "6ed2bfef",
   "metadata": {
    "execution": {
     "iopub.execute_input": "2023-07-03T00:14:58.416448Z",
     "iopub.status.busy": "2023-07-03T00:14:58.415796Z",
     "iopub.status.idle": "2023-07-03T00:14:58.431810Z",
     "shell.execute_reply": "2023-07-03T00:14:58.430998Z"
    },
    "papermill": {
     "duration": 0.065455,
     "end_time": "2023-07-03T00:14:58.434143",
     "exception": false,
     "start_time": "2023-07-03T00:14:58.368688",
     "status": "completed"
    },
    "tags": []
   },
   "outputs": [],
   "source": [
    "#create new col for school day\n",
    "def check_is_school_day(month) :\n",
    "    return 1 if month in ['September', 'October', 'November', 'December','January','February', 'March', 'April', 'May', 'June'] else 0\n",
    "\n",
    "df['is_school_day']= df['Month_name'].apply(check_is_school_day)\n"
   ]
  },
  {
   "cell_type": "code",
   "execution_count": 46,
   "id": "56b66e95",
   "metadata": {
    "execution": {
     "iopub.execute_input": "2023-07-03T00:14:58.529308Z",
     "iopub.status.busy": "2023-07-03T00:14:58.528645Z",
     "iopub.status.idle": "2023-07-03T00:14:58.617556Z",
     "shell.execute_reply": "2023-07-03T00:14:58.616409Z"
    },
    "papermill": {
     "duration": 0.139318,
     "end_time": "2023-07-03T00:14:58.619909",
     "exception": false,
     "start_time": "2023-07-03T00:14:58.480591",
     "status": "completed"
    },
    "tags": []
   },
   "outputs": [
    {
     "data": {
      "text/html": [
       "<div>\n",
       "<style scoped>\n",
       "    .dataframe tbody tr th:only-of-type {\n",
       "        vertical-align: middle;\n",
       "    }\n",
       "\n",
       "    .dataframe tbody tr th {\n",
       "        vertical-align: top;\n",
       "    }\n",
       "\n",
       "    .dataframe thead th {\n",
       "        text-align: right;\n",
       "    }\n",
       "</style>\n",
       "<table border=\"1\" class=\"dataframe\">\n",
       "  <thead>\n",
       "    <tr style=\"text-align: right;\">\n",
       "      <th></th>\n",
       "      <th>count</th>\n",
       "      <th>mean</th>\n",
       "      <th>min</th>\n",
       "      <th>25%</th>\n",
       "      <th>50%</th>\n",
       "      <th>75%</th>\n",
       "      <th>max</th>\n",
       "      <th>std</th>\n",
       "    </tr>\n",
       "    <tr>\n",
       "      <th>is_school_day</th>\n",
       "      <th></th>\n",
       "      <th></th>\n",
       "      <th></th>\n",
       "      <th></th>\n",
       "      <th></th>\n",
       "      <th></th>\n",
       "      <th></th>\n",
       "      <th></th>\n",
       "    </tr>\n",
       "  </thead>\n",
       "  <tbody>\n",
       "    <tr>\n",
       "      <th>0</th>\n",
       "      <td>1824.0</td>\n",
       "      <td>1693.859030</td>\n",
       "      <td>4.128767</td>\n",
       "      <td>494.328767</td>\n",
       "      <td>1502.678767</td>\n",
       "      <td>2489.528767</td>\n",
       "      <td>6497.128767</td>\n",
       "      <td>1362.757641</td>\n",
       "    </tr>\n",
       "    <tr>\n",
       "      <th>1</th>\n",
       "      <td>9062.0</td>\n",
       "      <td>1206.645927</td>\n",
       "      <td>4.128767</td>\n",
       "      <td>232.028767</td>\n",
       "      <td>795.328767</td>\n",
       "      <td>1741.328767</td>\n",
       "      <td>7881.728767</td>\n",
       "      <td>1283.411605</td>\n",
       "    </tr>\n",
       "  </tbody>\n",
       "</table>\n",
       "</div>"
      ],
      "text/plain": [
       "                count         mean       min         25%          50%  \\\n",
       "is_school_day                                                           \n",
       "0              1824.0  1693.859030  4.128767  494.328767  1502.678767   \n",
       "1              9062.0  1206.645927  4.128767  232.028767   795.328767   \n",
       "\n",
       "                       75%          max          std  \n",
       "is_school_day                                         \n",
       "0              2489.528767  6497.128767  1362.757641  \n",
       "1              1741.328767  7881.728767  1283.411605  "
      ]
     },
     "execution_count": 46,
     "metadata": {},
     "output_type": "execute_result"
    }
   ],
   "source": [
    "df.groupby('is_school_day').describe()['Profit']"
   ]
  },
  {
   "cell_type": "code",
   "execution_count": 47,
   "id": "aec162b6",
   "metadata": {
    "execution": {
     "iopub.execute_input": "2023-07-03T00:14:58.714754Z",
     "iopub.status.busy": "2023-07-03T00:14:58.714075Z",
     "iopub.status.idle": "2023-07-03T00:14:59.324590Z",
     "shell.execute_reply": "2023-07-03T00:14:59.323535Z"
    },
    "papermill": {
     "duration": 0.661089,
     "end_time": "2023-07-03T00:14:59.327125",
     "exception": false,
     "start_time": "2023-07-03T00:14:58.666036",
     "status": "completed"
    },
    "tags": []
   },
   "outputs": [
    {
     "data": {
      "text/plain": [
       "Text(0, 0.5, 'Profit')"
      ]
     },
     "execution_count": 47,
     "metadata": {},
     "output_type": "execute_result"
    },
    {
     "data": {
      "image/png": "[encoded data removed]",
      "text/plain": [
       "<Figure size 1000x600 with 1 Axes>"
      ]
     },
     "metadata": {},
     "output_type": "display_data"
    }
   ],
   "source": [
    "plt.figure(figsize=(10,6))\n",
    "sns.barplot(x= df['is_school_day'] ,y = df['Profit'])\n",
    "plt.xlabel(\"school days\")\n",
    "plt.ylabel(\"Profit\")"
   ]
  },
  {
   "cell_type": "markdown",
   "id": "d2fb0c8b",
   "metadata": {
    "papermill": {
     "duration": 0.046459,
     "end_time": "2023-07-03T00:14:59.420677",
     "exception": false,
     "start_time": "2023-07-03T00:14:59.374218",
     "status": "completed"
    },
    "tags": []
   },
   "source": [
    "- normal months(not school months) achieves the highest profit"
   ]
  },
  {
   "cell_type": "markdown",
   "id": "8a31e818",
   "metadata": {
    "papermill": {
     "duration": 0.046722,
     "end_time": "2023-07-03T00:14:59.514664",
     "exception": false,
     "start_time": "2023-07-03T00:14:59.467942",
     "status": "completed"
    },
    "tags": []
   },
   "source": [
    "# Matrix plot"
   ]
  },
  {
   "cell_type": "code",
   "execution_count": 48,
   "id": "7129e029",
   "metadata": {
    "execution": {
     "iopub.execute_input": "2023-07-03T00:14:59.610564Z",
     "iopub.status.busy": "2023-07-03T00:14:59.610169Z",
     "iopub.status.idle": "2023-07-03T00:14:59.642837Z",
     "shell.execute_reply": "2023-07-03T00:14:59.641720Z"
    },
    "papermill": {
     "duration": 0.083629,
     "end_time": "2023-07-03T00:14:59.645253",
     "exception": false,
     "start_time": "2023-07-03T00:14:59.561624",
     "status": "completed"
    },
    "tags": []
   },
   "outputs": [
    {
     "data": {
      "text/html": [
       "<div>\n",
       "<style scoped>\n",
       "    .dataframe tbody tr th:only-of-type {\n",
       "        vertical-align: middle;\n",
       "    }\n",
       "\n",
       "    .dataframe tbody tr th {\n",
       "        vertical-align: top;\n",
       "    }\n",
       "\n",
       "    .dataframe thead th {\n",
       "        text-align: right;\n",
       "    }\n",
       "</style>\n",
       "<table border=\"1\" class=\"dataframe\">\n",
       "  <thead>\n",
       "    <tr style=\"text-align: right;\">\n",
       "      <th>Day_of_week</th>\n",
       "      <th>Friday</th>\n",
       "      <th>Monday</th>\n",
       "      <th>Saturday</th>\n",
       "      <th>Sunday</th>\n",
       "      <th>Thursday</th>\n",
       "      <th>Tuesday</th>\n",
       "      <th>Wednesday</th>\n",
       "    </tr>\n",
       "    <tr>\n",
       "      <th>Month_name</th>\n",
       "      <th></th>\n",
       "      <th></th>\n",
       "      <th></th>\n",
       "      <th></th>\n",
       "      <th></th>\n",
       "      <th></th>\n",
       "      <th></th>\n",
       "    </tr>\n",
       "  </thead>\n",
       "  <tbody>\n",
       "    <tr>\n",
       "      <th>April</th>\n",
       "      <td>1154.450434</td>\n",
       "      <td>1347.061161</td>\n",
       "      <td>1564.097100</td>\n",
       "      <td>1901.682934</td>\n",
       "      <td>1298.500434</td>\n",
       "      <td>1145.928073</td>\n",
       "      <td>1017.447255</td>\n",
       "    </tr>\n",
       "    <tr>\n",
       "      <th>August</th>\n",
       "      <td>1620.510712</td>\n",
       "      <td>1476.018767</td>\n",
       "      <td>2177.205434</td>\n",
       "      <td>1696.931267</td>\n",
       "      <td>1571.299600</td>\n",
       "      <td>1531.130434</td>\n",
       "      <td>1557.712795</td>\n",
       "    </tr>\n",
       "    <tr>\n",
       "      <th>December</th>\n",
       "      <td>939.056267</td>\n",
       "      <td>946.694739</td>\n",
       "      <td>1147.241962</td>\n",
       "      <td>884.553767</td>\n",
       "      <td>913.542934</td>\n",
       "      <td>1018.283767</td>\n",
       "      <td>872.943767</td>\n",
       "    </tr>\n",
       "    <tr>\n",
       "      <th>February</th>\n",
       "      <td>720.246498</td>\n",
       "      <td>575.349820</td>\n",
       "      <td>663.462100</td>\n",
       "      <td>565.585910</td>\n",
       "      <td>561.281584</td>\n",
       "      <td>537.583852</td>\n",
       "      <td>589.928063</td>\n",
       "    </tr>\n",
       "    <tr>\n",
       "      <th>January</th>\n",
       "      <td>562.122384</td>\n",
       "      <td>391.098271</td>\n",
       "      <td>583.123767</td>\n",
       "      <td>507.168627</td>\n",
       "      <td>565.983389</td>\n",
       "      <td>471.271287</td>\n",
       "      <td>422.948767</td>\n",
       "    </tr>\n",
       "    <tr>\n",
       "      <th>July</th>\n",
       "      <td>1685.607934</td>\n",
       "      <td>1704.002378</td>\n",
       "      <td>2129.260434</td>\n",
       "      <td>1874.837795</td>\n",
       "      <td>1607.132934</td>\n",
       "      <td>1472.459323</td>\n",
       "      <td>1682.382934</td>\n",
       "    </tr>\n",
       "    <tr>\n",
       "      <th>June</th>\n",
       "      <td>1575.002378</td>\n",
       "      <td>1474.728767</td>\n",
       "      <td>2399.467656</td>\n",
       "      <td>2142.542656</td>\n",
       "      <td>1422.161267</td>\n",
       "      <td>1441.439600</td>\n",
       "      <td>1451.257934</td>\n",
       "    </tr>\n",
       "    <tr>\n",
       "      <th>March</th>\n",
       "      <td>819.221021</td>\n",
       "      <td>968.421987</td>\n",
       "      <td>1401.718350</td>\n",
       "      <td>1258.993724</td>\n",
       "      <td>873.243556</td>\n",
       "      <td>759.302717</td>\n",
       "      <td>865.646414</td>\n",
       "    </tr>\n",
       "    <tr>\n",
       "      <th>May</th>\n",
       "      <td>1654.002934</td>\n",
       "      <td>1172.976267</td>\n",
       "      <td>2287.966267</td>\n",
       "      <td>1791.423767</td>\n",
       "      <td>1477.266962</td>\n",
       "      <td>1251.994739</td>\n",
       "      <td>1189.405850</td>\n",
       "    </tr>\n",
       "    <tr>\n",
       "      <th>November</th>\n",
       "      <td>1111.886406</td>\n",
       "      <td>1226.188767</td>\n",
       "      <td>1563.864184</td>\n",
       "      <td>1544.281267</td>\n",
       "      <td>962.818278</td>\n",
       "      <td>1015.058767</td>\n",
       "      <td>902.792934</td>\n",
       "    </tr>\n",
       "    <tr>\n",
       "      <th>October</th>\n",
       "      <td>1573.342100</td>\n",
       "      <td>1380.905156</td>\n",
       "      <td>2071.712100</td>\n",
       "      <td>1665.541267</td>\n",
       "      <td>1471.539600</td>\n",
       "      <td>1290.306545</td>\n",
       "      <td>1291.061634</td>\n",
       "    </tr>\n",
       "    <tr>\n",
       "      <th>September</th>\n",
       "      <td>1501.890434</td>\n",
       "      <td>1599.458837</td>\n",
       "      <td>2141.885712</td>\n",
       "      <td>2215.463489</td>\n",
       "      <td>1217.921204</td>\n",
       "      <td>1294.020364</td>\n",
       "      <td>1420.942934</td>\n",
       "    </tr>\n",
       "  </tbody>\n",
       "</table>\n",
       "</div>"
      ],
      "text/plain": [
       "Day_of_week       Friday       Monday     Saturday       Sunday     Thursday  \\\n",
       "Month_name                                                                     \n",
       "April        1154.450434  1347.061161  1564.097100  1901.682934  1298.500434   \n",
       "August       1620.510712  1476.018767  2177.205434  1696.931267  1571.299600   \n",
       "December      939.056267   946.694739  1147.241962   884.553767   913.542934   \n",
       "February      720.246498   575.349820   663.462100   565.585910   561.281584   \n",
       "January       562.122384   391.098271   583.123767   507.168627   565.983389   \n",
       "July         1685.607934  1704.002378  2129.260434  1874.837795  1607.132934   \n",
       "June         1575.002378  1474.728767  2399.467656  2142.542656  1422.161267   \n",
       "March         819.221021   968.421987  1401.718350  1258.993724   873.243556   \n",
       "May          1654.002934  1172.976267  2287.966267  1791.423767  1477.266962   \n",
       "November     1111.886406  1226.188767  1563.864184  1544.281267   962.818278   \n",
       "October      1573.342100  1380.905156  2071.712100  1665.541267  1471.539600   \n",
       "September    1501.890434  1599.458837  2141.885712  2215.463489  1217.921204   \n",
       "\n",
       "Day_of_week      Tuesday    Wednesday  \n",
       "Month_name                             \n",
       "April        1145.928073  1017.447255  \n",
       "August       1531.130434  1557.712795  \n",
       "December     1018.283767   872.943767  \n",
       "February      537.583852   589.928063  \n",
       "January       471.271287   422.948767  \n",
       "July         1472.459323  1682.382934  \n",
       "June         1441.439600  1451.257934  \n",
       "March         759.302717   865.646414  \n",
       "May          1251.994739  1189.405850  \n",
       "November     1015.058767   902.792934  \n",
       "October      1290.306545  1291.061634  \n",
       "September    1294.020364  1420.942934  "
      ]
     },
     "execution_count": 48,
     "metadata": {},
     "output_type": "execute_result"
    }
   ],
   "source": [
    "new_df = pd.pivot_table(data = df, values= 'Profit',columns= 'Day_of_week',index='Month_name')\n",
    "new_df"
   ]
  },
  {
   "cell_type": "code",
   "execution_count": 49,
   "id": "2288cea7",
   "metadata": {
    "execution": {
     "iopub.execute_input": "2023-07-03T00:14:59.742253Z",
     "iopub.status.busy": "2023-07-03T00:14:59.741271Z",
     "iopub.status.idle": "2023-07-03T00:15:00.462177Z",
     "shell.execute_reply": "2023-07-03T00:15:00.461069Z"
    },
    "papermill": {
     "duration": 0.772758,
     "end_time": "2023-07-03T00:15:00.465541",
     "exception": false,
     "start_time": "2023-07-03T00:14:59.692783",
     "status": "completed"
    },
    "scrolled": true,
    "tags": []
   },
   "outputs": [
    {
     "data": {
      "text/plain": [
       "<Axes: xlabel='Day_of_week', ylabel='Month_name'>"
      ]
     },
     "execution_count": 49,
     "metadata": {},
     "output_type": "execute_result"
    },
    {
     "data": {
      "image/png": "[encoded data removed]",
      "text/plain": [
       "<Figure size 1000x600 with 2 Axes>"
      ]
     },
     "metadata": {},
     "output_type": "display_data"
    }
   ],
   "source": [
    "#correlations\n",
    "plt.figure(figsize=(10,6))\n",
    "sns.heatmap(new_df,fmt='.0f', annot=True,)"
   ]
  },
  {
   "cell_type": "markdown",
   "id": "5b0874b1",
   "metadata": {
    "papermill": {
     "duration": 0.049088,
     "end_time": "2023-07-03T00:15:00.564257",
     "exception": false,
     "start_time": "2023-07-03T00:15:00.515169",
     "status": "completed"
    },
    "tags": []
   },
   "source": [
    "# Feature Engineering (Data Pre-processing)"
   ]
  },
  {
   "cell_type": "markdown",
   "id": "74f15059",
   "metadata": {
    "papermill": {
     "duration": 0.048741,
     "end_time": "2023-07-03T00:15:00.661801",
     "exception": false,
     "start_time": "2023-07-03T00:15:00.613060",
     "status": "completed"
    },
    "tags": []
   },
   "source": [
    "# Data cleaning"
   ]
  },
  {
   "cell_type": "code",
   "execution_count": 50,
   "id": "7518cfd3",
   "metadata": {
    "execution": {
     "iopub.execute_input": "2023-07-03T00:15:00.761974Z",
     "iopub.status.busy": "2023-07-03T00:15:00.761512Z",
     "iopub.status.idle": "2023-07-03T00:15:00.767290Z",
     "shell.execute_reply": "2023-07-03T00:15:00.766516Z"
    },
    "papermill": {
     "duration": 0.05845,
     "end_time": "2023-07-03T00:15:00.769408",
     "exception": false,
     "start_time": "2023-07-03T00:15:00.710958",
     "status": "completed"
    },
    "tags": []
   },
   "outputs": [],
   "source": [
    "df1= df.copy()"
   ]
  },
  {
   "cell_type": "code",
   "execution_count": 51,
   "id": "1cd48f6b",
   "metadata": {
    "execution": {
     "iopub.execute_input": "2023-07-03T00:15:00.870827Z",
     "iopub.status.busy": "2023-07-03T00:15:00.869642Z",
     "iopub.status.idle": "2023-07-03T00:15:00.894237Z",
     "shell.execute_reply": "2023-07-03T00:15:00.893120Z"
    },
    "papermill": {
     "duration": 0.077789,
     "end_time": "2023-07-03T00:15:00.897011",
     "exception": false,
     "start_time": "2023-07-03T00:15:00.819222",
     "status": "completed"
    },
    "tags": []
   },
   "outputs": [
    {
     "data": {
      "text/html": [
       "<div>\n",
       "<style scoped>\n",
       "    .dataframe tbody tr th:only-of-type {\n",
       "        vertical-align: middle;\n",
       "    }\n",
       "\n",
       "    .dataframe tbody tr th {\n",
       "        vertical-align: top;\n",
       "    }\n",
       "\n",
       "    .dataframe thead th {\n",
       "        text-align: right;\n",
       "    }\n",
       "</style>\n",
       "<table border=\"1\" class=\"dataframe\">\n",
       "  <thead>\n",
       "    <tr style=\"text-align: right;\">\n",
       "      <th></th>\n",
       "      <th>season</th>\n",
       "      <th>holiday</th>\n",
       "      <th>workingday</th>\n",
       "      <th>weather</th>\n",
       "      <th>temp</th>\n",
       "      <th>humidity</th>\n",
       "      <th>count</th>\n",
       "      <th>Profit</th>\n",
       "      <th>Month_name</th>\n",
       "      <th>Day_of_week</th>\n",
       "      <th>Hour</th>\n",
       "    </tr>\n",
       "  </thead>\n",
       "  <tbody>\n",
       "    <tr>\n",
       "      <th>0</th>\n",
       "      <td>spring</td>\n",
       "      <td>0</td>\n",
       "      <td>0</td>\n",
       "      <td>Clear</td>\n",
       "      <td>9.84</td>\n",
       "      <td>81</td>\n",
       "      <td>16</td>\n",
       "      <td>107.328767</td>\n",
       "      <td>January</td>\n",
       "      <td>Saturday</td>\n",
       "      <td>0</td>\n",
       "    </tr>\n",
       "    <tr>\n",
       "      <th>1</th>\n",
       "      <td>spring</td>\n",
       "      <td>0</td>\n",
       "      <td>0</td>\n",
       "      <td>Clear</td>\n",
       "      <td>9.02</td>\n",
       "      <td>80</td>\n",
       "      <td>40</td>\n",
       "      <td>275.028767</td>\n",
       "      <td>January</td>\n",
       "      <td>Saturday</td>\n",
       "      <td>1</td>\n",
       "    </tr>\n",
       "    <tr>\n",
       "      <th>2</th>\n",
       "      <td>spring</td>\n",
       "      <td>0</td>\n",
       "      <td>0</td>\n",
       "      <td>Clear</td>\n",
       "      <td>9.02</td>\n",
       "      <td>80</td>\n",
       "      <td>32</td>\n",
       "      <td>201.928767</td>\n",
       "      <td>January</td>\n",
       "      <td>Saturday</td>\n",
       "      <td>2</td>\n",
       "    </tr>\n",
       "    <tr>\n",
       "      <th>3</th>\n",
       "      <td>spring</td>\n",
       "      <td>0</td>\n",
       "      <td>0</td>\n",
       "      <td>Clear</td>\n",
       "      <td>9.84</td>\n",
       "      <td>75</td>\n",
       "      <td>13</td>\n",
       "      <td>94.428767</td>\n",
       "      <td>January</td>\n",
       "      <td>Saturday</td>\n",
       "      <td>3</td>\n",
       "    </tr>\n",
       "    <tr>\n",
       "      <th>4</th>\n",
       "      <td>spring</td>\n",
       "      <td>0</td>\n",
       "      <td>0</td>\n",
       "      <td>Clear</td>\n",
       "      <td>9.84</td>\n",
       "      <td>75</td>\n",
       "      <td>1</td>\n",
       "      <td>4.128767</td>\n",
       "      <td>January</td>\n",
       "      <td>Saturday</td>\n",
       "      <td>4</td>\n",
       "    </tr>\n",
       "    <tr>\n",
       "      <th>...</th>\n",
       "      <td>...</td>\n",
       "      <td>...</td>\n",
       "      <td>...</td>\n",
       "      <td>...</td>\n",
       "      <td>...</td>\n",
       "      <td>...</td>\n",
       "      <td>...</td>\n",
       "      <td>...</td>\n",
       "      <td>...</td>\n",
       "      <td>...</td>\n",
       "      <td>...</td>\n",
       "    </tr>\n",
       "    <tr>\n",
       "      <th>10881</th>\n",
       "      <td>winter</td>\n",
       "      <td>0</td>\n",
       "      <td>1</td>\n",
       "      <td>Clear</td>\n",
       "      <td>15.58</td>\n",
       "      <td>50</td>\n",
       "      <td>336</td>\n",
       "      <td>1534.928767</td>\n",
       "      <td>December</td>\n",
       "      <td>Wednesday</td>\n",
       "      <td>19</td>\n",
       "    </tr>\n",
       "    <tr>\n",
       "      <th>10882</th>\n",
       "      <td>winter</td>\n",
       "      <td>0</td>\n",
       "      <td>1</td>\n",
       "      <td>Clear</td>\n",
       "      <td>14.76</td>\n",
       "      <td>57</td>\n",
       "      <td>241</td>\n",
       "      <td>1165.128767</td>\n",
       "      <td>December</td>\n",
       "      <td>Wednesday</td>\n",
       "      <td>20</td>\n",
       "    </tr>\n",
       "    <tr>\n",
       "      <th>10883</th>\n",
       "      <td>winter</td>\n",
       "      <td>0</td>\n",
       "      <td>1</td>\n",
       "      <td>Clear</td>\n",
       "      <td>13.94</td>\n",
       "      <td>61</td>\n",
       "      <td>168</td>\n",
       "      <td>773.828767</td>\n",
       "      <td>December</td>\n",
       "      <td>Wednesday</td>\n",
       "      <td>21</td>\n",
       "    </tr>\n",
       "    <tr>\n",
       "      <th>10884</th>\n",
       "      <td>winter</td>\n",
       "      <td>0</td>\n",
       "      <td>1</td>\n",
       "      <td>Clear</td>\n",
       "      <td>13.94</td>\n",
       "      <td>61</td>\n",
       "      <td>129</td>\n",
       "      <td>709.328767</td>\n",
       "      <td>December</td>\n",
       "      <td>Wednesday</td>\n",
       "      <td>22</td>\n",
       "    </tr>\n",
       "    <tr>\n",
       "      <th>10885</th>\n",
       "      <td>winter</td>\n",
       "      <td>0</td>\n",
       "      <td>1</td>\n",
       "      <td>Clear</td>\n",
       "      <td>13.12</td>\n",
       "      <td>66</td>\n",
       "      <td>88</td>\n",
       "      <td>429.828767</td>\n",
       "      <td>December</td>\n",
       "      <td>Wednesday</td>\n",
       "      <td>23</td>\n",
       "    </tr>\n",
       "  </tbody>\n",
       "</table>\n",
       "<p>10886 rows × 11 columns</p>\n",
       "</div>"
      ],
      "text/plain": [
       "       season  holiday  workingday weather   temp  humidity  count  \\\n",
       "0      spring        0           0   Clear   9.84        81     16   \n",
       "1      spring        0           0   Clear   9.02        80     40   \n",
       "2      spring        0           0   Clear   9.02        80     32   \n",
       "3      spring        0           0   Clear   9.84        75     13   \n",
       "4      spring        0           0   Clear   9.84        75      1   \n",
       "...       ...      ...         ...     ...    ...       ...    ...   \n",
       "10881  winter        0           1   Clear  15.58        50    336   \n",
       "10882  winter        0           1   Clear  14.76        57    241   \n",
       "10883  winter        0           1   Clear  13.94        61    168   \n",
       "10884  winter        0           1   Clear  13.94        61    129   \n",
       "10885  winter        0           1   Clear  13.12        66     88   \n",
       "\n",
       "            Profit Month_name Day_of_week  Hour  \n",
       "0       107.328767    January    Saturday     0  \n",
       "1       275.028767    January    Saturday     1  \n",
       "2       201.928767    January    Saturday     2  \n",
       "3        94.428767    January    Saturday     3  \n",
       "4         4.128767    January    Saturday     4  \n",
       "...            ...        ...         ...   ...  \n",
       "10881  1534.928767   December   Wednesday    19  \n",
       "10882  1165.128767   December   Wednesday    20  \n",
       "10883   773.828767   December   Wednesday    21  \n",
       "10884   709.328767   December   Wednesday    22  \n",
       "10885   429.828767   December   Wednesday    23  \n",
       "\n",
       "[10886 rows x 11 columns]"
      ]
     },
     "execution_count": 51,
     "metadata": {},
     "output_type": "execute_result"
    }
   ],
   "source": [
    "df1= df1[['season','holiday','workingday','weather','temp','humidity','count','Profit','Month_name','Day_of_week','Hour']]\n",
    "df1"
   ]
  },
  {
   "cell_type": "code",
   "execution_count": 52,
   "id": "48cc0312",
   "metadata": {
    "execution": {
     "iopub.execute_input": "2023-07-03T00:15:00.998460Z",
     "iopub.status.busy": "2023-07-03T00:15:00.997706Z",
     "iopub.status.idle": "2023-07-03T00:15:01.025098Z",
     "shell.execute_reply": "2023-07-03T00:15:01.023290Z"
    },
    "papermill": {
     "duration": 0.080893,
     "end_time": "2023-07-03T00:15:01.027457",
     "exception": false,
     "start_time": "2023-07-03T00:15:00.946564",
     "status": "completed"
    },
    "tags": []
   },
   "outputs": [
    {
     "name": "stdout",
     "output_type": "stream",
     "text": [
      "<class 'pandas.core.frame.DataFrame'>\n",
      "RangeIndex: 10886 entries, 0 to 10885\n",
      "Data columns (total 11 columns):\n",
      " #   Column       Non-Null Count  Dtype  \n",
      "---  ------       --------------  -----  \n",
      " 0   season       10886 non-null  object \n",
      " 1   holiday      10886 non-null  int64  \n",
      " 2   workingday   10886 non-null  int64  \n",
      " 3   weather      10886 non-null  object \n",
      " 4   temp         10886 non-null  float64\n",
      " 5   humidity     10886 non-null  int64  \n",
      " 6   count        10886 non-null  int64  \n",
      " 7   Profit       10886 non-null  float64\n",
      " 8   Month_name   10886 non-null  object \n",
      " 9   Day_of_week  10886 non-null  object \n",
      " 10  Hour         10886 non-null  int32  \n",
      "dtypes: float64(2), int32(1), int64(4), object(4)\n",
      "memory usage: 893.1+ KB\n"
     ]
    }
   ],
   "source": [
    "df1.info()"
   ]
  },
  {
   "cell_type": "code",
   "execution_count": 53,
   "id": "3d0d2177",
   "metadata": {
    "execution": {
     "iopub.execute_input": "2023-07-03T00:15:01.129219Z",
     "iopub.status.busy": "2023-07-03T00:15:01.128417Z",
     "iopub.status.idle": "2023-07-03T00:15:01.135795Z",
     "shell.execute_reply": "2023-07-03T00:15:01.135015Z"
    },
    "papermill": {
     "duration": 0.060888,
     "end_time": "2023-07-03T00:15:01.137995",
     "exception": false,
     "start_time": "2023-07-03T00:15:01.077107",
     "status": "completed"
    },
    "tags": []
   },
   "outputs": [
    {
     "data": {
      "text/plain": [
       "Index(['season', 'holiday', 'workingday', 'weather', 'temp', 'humidity',\n",
       "       'count', 'Profit', 'Month_name', 'Day_of_week', 'Hour'],\n",
       "      dtype='object')"
      ]
     },
     "execution_count": 53,
     "metadata": {},
     "output_type": "execute_result"
    }
   ],
   "source": [
    "df1.columns"
   ]
  },
  {
   "cell_type": "code",
   "execution_count": 54,
   "id": "eac9d55c",
   "metadata": {
    "execution": {
     "iopub.execute_input": "2023-07-03T00:15:01.239872Z",
     "iopub.status.busy": "2023-07-03T00:15:01.239423Z",
     "iopub.status.idle": "2023-07-03T00:15:01.246831Z",
     "shell.execute_reply": "2023-07-03T00:15:01.245999Z"
    },
    "papermill": {
     "duration": 0.06068,
     "end_time": "2023-07-03T00:15:01.249040",
     "exception": false,
     "start_time": "2023-07-03T00:15:01.188360",
     "status": "completed"
    },
    "tags": []
   },
   "outputs": [],
   "source": [
    "# make sure columns are numeric -----\n",
    "# use describe to make sure values is true\n",
    "for col in ['temp', 'humidity','count', 'Profit'] :\n",
    "    df1[col] = pd.to_numeric(df[col],errors='coerce')"
   ]
  },
  {
   "cell_type": "code",
   "execution_count": 55,
   "id": "a9c1db1f",
   "metadata": {
    "execution": {
     "iopub.execute_input": "2023-07-03T00:15:01.352658Z",
     "iopub.status.busy": "2023-07-03T00:15:01.351519Z",
     "iopub.status.idle": "2023-07-03T00:15:01.379745Z",
     "shell.execute_reply": "2023-07-03T00:15:01.377792Z"
    },
    "papermill": {
     "duration": 0.082936,
     "end_time": "2023-07-03T00:15:01.382602",
     "exception": false,
     "start_time": "2023-07-03T00:15:01.299666",
     "status": "completed"
    },
    "tags": []
   },
   "outputs": [
    {
     "name": "stdout",
     "output_type": "stream",
     "text": [
      "<class 'pandas.core.frame.DataFrame'>\n",
      "RangeIndex: 10886 entries, 0 to 10885\n",
      "Data columns (total 11 columns):\n",
      " #   Column       Non-Null Count  Dtype  \n",
      "---  ------       --------------  -----  \n",
      " 0   season       10886 non-null  object \n",
      " 1   holiday      10886 non-null  int64  \n",
      " 2   workingday   10886 non-null  int64  \n",
      " 3   weather      10886 non-null  object \n",
      " 4   temp         10886 non-null  float64\n",
      " 5   humidity     10886 non-null  int64  \n",
      " 6   count        10886 non-null  int64  \n",
      " 7   Profit       10886 non-null  float64\n",
      " 8   Month_name   10886 non-null  object \n",
      " 9   Day_of_week  10886 non-null  object \n",
      " 10  Hour         10886 non-null  int32  \n",
      "dtypes: float64(2), int32(1), int64(4), object(4)\n",
      "memory usage: 893.1+ KB\n"
     ]
    }
   ],
   "source": [
    "df1.info()"
   ]
  },
  {
   "cell_type": "code",
   "execution_count": 56,
   "id": "db1fd5dd",
   "metadata": {
    "execution": {
     "iopub.execute_input": "2023-07-03T00:15:01.485724Z",
     "iopub.status.busy": "2023-07-03T00:15:01.485295Z",
     "iopub.status.idle": "2023-07-03T00:15:01.524160Z",
     "shell.execute_reply": "2023-07-03T00:15:01.523024Z"
    },
    "papermill": {
     "duration": 0.093707,
     "end_time": "2023-07-03T00:15:01.526524",
     "exception": false,
     "start_time": "2023-07-03T00:15:01.432817",
     "status": "completed"
    },
    "tags": []
   },
   "outputs": [
    {
     "data": {
      "text/html": [
       "<div>\n",
       "<style scoped>\n",
       "    .dataframe tbody tr th:only-of-type {\n",
       "        vertical-align: middle;\n",
       "    }\n",
       "\n",
       "    .dataframe tbody tr th {\n",
       "        vertical-align: top;\n",
       "    }\n",
       "\n",
       "    .dataframe thead th {\n",
       "        text-align: right;\n",
       "    }\n",
       "</style>\n",
       "<table border=\"1\" class=\"dataframe\">\n",
       "  <thead>\n",
       "    <tr style=\"text-align: right;\">\n",
       "      <th></th>\n",
       "      <th>holiday</th>\n",
       "      <th>workingday</th>\n",
       "      <th>temp</th>\n",
       "      <th>humidity</th>\n",
       "      <th>count</th>\n",
       "      <th>Profit</th>\n",
       "      <th>Hour</th>\n",
       "    </tr>\n",
       "  </thead>\n",
       "  <tbody>\n",
       "    <tr>\n",
       "      <th>count</th>\n",
       "      <td>10886.000000</td>\n",
       "      <td>10886.000000</td>\n",
       "      <td>10886.00000</td>\n",
       "      <td>10886.000000</td>\n",
       "      <td>10886.000000</td>\n",
       "      <td>10886.000000</td>\n",
       "      <td>10886.000000</td>\n",
       "    </tr>\n",
       "    <tr>\n",
       "      <th>mean</th>\n",
       "      <td>0.028569</td>\n",
       "      <td>0.680875</td>\n",
       "      <td>20.23086</td>\n",
       "      <td>61.886460</td>\n",
       "      <td>191.574132</td>\n",
       "      <td>1288.280751</td>\n",
       "      <td>11.541613</td>\n",
       "    </tr>\n",
       "    <tr>\n",
       "      <th>std</th>\n",
       "      <td>0.166599</td>\n",
       "      <td>0.466159</td>\n",
       "      <td>7.79159</td>\n",
       "      <td>19.245033</td>\n",
       "      <td>181.144454</td>\n",
       "      <td>1309.683400</td>\n",
       "      <td>6.915838</td>\n",
       "    </tr>\n",
       "    <tr>\n",
       "      <th>min</th>\n",
       "      <td>0.000000</td>\n",
       "      <td>0.000000</td>\n",
       "      <td>0.82000</td>\n",
       "      <td>0.000000</td>\n",
       "      <td>1.000000</td>\n",
       "      <td>4.128767</td>\n",
       "      <td>0.000000</td>\n",
       "    </tr>\n",
       "    <tr>\n",
       "      <th>25%</th>\n",
       "      <td>0.000000</td>\n",
       "      <td>0.000000</td>\n",
       "      <td>13.94000</td>\n",
       "      <td>47.000000</td>\n",
       "      <td>42.000000</td>\n",
       "      <td>253.528767</td>\n",
       "      <td>6.000000</td>\n",
       "    </tr>\n",
       "    <tr>\n",
       "      <th>50%</th>\n",
       "      <td>0.000000</td>\n",
       "      <td>1.000000</td>\n",
       "      <td>20.50000</td>\n",
       "      <td>62.000000</td>\n",
       "      <td>145.000000</td>\n",
       "      <td>889.928767</td>\n",
       "      <td>12.000000</td>\n",
       "    </tr>\n",
       "    <tr>\n",
       "      <th>75%</th>\n",
       "      <td>0.000000</td>\n",
       "      <td>1.000000</td>\n",
       "      <td>26.24000</td>\n",
       "      <td>77.000000</td>\n",
       "      <td>284.000000</td>\n",
       "      <td>1891.828767</td>\n",
       "      <td>18.000000</td>\n",
       "    </tr>\n",
       "    <tr>\n",
       "      <th>max</th>\n",
       "      <td>1.000000</td>\n",
       "      <td>1.000000</td>\n",
       "      <td>41.00000</td>\n",
       "      <td>100.000000</td>\n",
       "      <td>977.000000</td>\n",
       "      <td>7881.728767</td>\n",
       "      <td>23.000000</td>\n",
       "    </tr>\n",
       "  </tbody>\n",
       "</table>\n",
       "</div>"
      ],
      "text/plain": [
       "            holiday    workingday         temp      humidity         count  \\\n",
       "count  10886.000000  10886.000000  10886.00000  10886.000000  10886.000000   \n",
       "mean       0.028569      0.680875     20.23086     61.886460    191.574132   \n",
       "std        0.166599      0.466159      7.79159     19.245033    181.144454   \n",
       "min        0.000000      0.000000      0.82000      0.000000      1.000000   \n",
       "25%        0.000000      0.000000     13.94000     47.000000     42.000000   \n",
       "50%        0.000000      1.000000     20.50000     62.000000    145.000000   \n",
       "75%        0.000000      1.000000     26.24000     77.000000    284.000000   \n",
       "max        1.000000      1.000000     41.00000    100.000000    977.000000   \n",
       "\n",
       "             Profit          Hour  \n",
       "count  10886.000000  10886.000000  \n",
       "mean    1288.280751     11.541613  \n",
       "std     1309.683400      6.915838  \n",
       "min        4.128767      0.000000  \n",
       "25%      253.528767      6.000000  \n",
       "50%      889.928767     12.000000  \n",
       "75%     1891.828767     18.000000  \n",
       "max     7881.728767     23.000000  "
      ]
     },
     "execution_count": 56,
     "metadata": {},
     "output_type": "execute_result"
    }
   ],
   "source": [
    "df1.describe()"
   ]
  },
  {
   "cell_type": "markdown",
   "id": "9941da69",
   "metadata": {
    "papermill": {
     "duration": 0.050095,
     "end_time": "2023-07-03T00:15:01.627132",
     "exception": false,
     "start_time": "2023-07-03T00:15:01.577037",
     "status": "completed"
    },
    "tags": []
   },
   "source": [
    "# Categorical Feature cleaning"
   ]
  },
  {
   "cell_type": "markdown",
   "id": "577bbd9d",
   "metadata": {
    "papermill": {
     "duration": 0.049934,
     "end_time": "2023-07-03T00:15:01.727437",
     "exception": false,
     "start_time": "2023-07-03T00:15:01.677503",
     "status": "completed"
    },
    "tags": []
   },
   "source": [
    "- use unique to check the Categorical Feature values"
   ]
  },
  {
   "cell_type": "code",
   "execution_count": 57,
   "id": "9179aa8a",
   "metadata": {
    "execution": {
     "iopub.execute_input": "2023-07-03T00:15:01.834357Z",
     "iopub.status.busy": "2023-07-03T00:15:01.833924Z",
     "iopub.status.idle": "2023-07-03T00:15:01.841375Z",
     "shell.execute_reply": "2023-07-03T00:15:01.840175Z"
    },
    "papermill": {
     "duration": 0.064928,
     "end_time": "2023-07-03T00:15:01.843764",
     "exception": false,
     "start_time": "2023-07-03T00:15:01.778836",
     "status": "completed"
    },
    "tags": []
   },
   "outputs": [
    {
     "data": {
      "text/plain": [
       "Index(['season', 'holiday', 'workingday', 'weather', 'temp', 'humidity',\n",
       "       'count', 'Profit', 'Month_name', 'Day_of_week', 'Hour'],\n",
       "      dtype='object')"
      ]
     },
     "execution_count": 57,
     "metadata": {},
     "output_type": "execute_result"
    }
   ],
   "source": [
    "df1.columns"
   ]
  },
  {
   "cell_type": "code",
   "execution_count": 58,
   "id": "56d288be",
   "metadata": {
    "execution": {
     "iopub.execute_input": "2023-07-03T00:15:01.948573Z",
     "iopub.status.busy": "2023-07-03T00:15:01.948134Z",
     "iopub.status.idle": "2023-07-03T00:15:01.961114Z",
     "shell.execute_reply": "2023-07-03T00:15:01.959800Z"
    },
    "papermill": {
     "duration": 0.068673,
     "end_time": "2023-07-03T00:15:01.963610",
     "exception": false,
     "start_time": "2023-07-03T00:15:01.894937",
     "status": "completed"
    },
    "tags": []
   },
   "outputs": [
    {
     "name": "stdout",
     "output_type": "stream",
     "text": [
      "-----season------\n",
      "['spring' 'summer' 'fall' 'winter']\n",
      "-----------------\n",
      "-----holiday------\n",
      "[0 1]\n",
      "-----------------\n",
      "-----workingday------\n",
      "[0 1]\n",
      "-----------------\n",
      "-----weather------\n",
      "['Clear' 'Mist' 'Rainy' 'snowy']\n",
      "-----------------\n",
      "-----Month_name------\n",
      "['January' 'February' 'March' 'April' 'May' 'June' 'July' 'August'\n",
      " 'September' 'October' 'November' 'December']\n",
      "-----------------\n",
      "-----Day_of_week------\n",
      "['Saturday' 'Sunday' 'Monday' 'Tuesday' 'Wednesday' 'Thursday' 'Friday']\n",
      "-----------------\n",
      "-----Hour------\n",
      "[ 0  1  2  3  4  5  6  7  8  9 10 11 12 13 14 15 16 17 18 19 20 21 22 23]\n",
      "-----------------\n"
     ]
    }
   ],
   "source": [
    "for col in ['season', 'holiday', 'workingday', 'weather', 'Month_name', 'Day_of_week', 'Hour'] :\n",
    "    \n",
    "    print(f'-----{col}------')\n",
    "    print(df1[col].unique())\n",
    "    print('-----------------')"
   ]
  },
  {
   "cell_type": "code",
   "execution_count": 59,
   "id": "27aa54c6",
   "metadata": {
    "execution": {
     "iopub.execute_input": "2023-07-03T00:15:02.092130Z",
     "iopub.status.busy": "2023-07-03T00:15:02.091690Z",
     "iopub.status.idle": "2023-07-03T00:15:02.115705Z",
     "shell.execute_reply": "2023-07-03T00:15:02.114872Z"
    },
    "papermill": {
     "duration": 0.088029,
     "end_time": "2023-07-03T00:15:02.117827",
     "exception": false,
     "start_time": "2023-07-03T00:15:02.029798",
     "status": "completed"
    },
    "tags": []
   },
   "outputs": [
    {
     "data": {
      "text/plain": [
       "season         0\n",
       "holiday        0\n",
       "workingday     0\n",
       "weather        0\n",
       "temp           0\n",
       "humidity       0\n",
       "count          0\n",
       "Profit         0\n",
       "Month_name     0\n",
       "Day_of_week    0\n",
       "Hour           0\n",
       "dtype: int64"
      ]
     },
     "execution_count": 59,
     "metadata": {},
     "output_type": "execute_result"
    }
   ],
   "source": [
    "# check there are missing val or not \n",
    "df1.isnull().sum()"
   ]
  },
  {
   "cell_type": "markdown",
   "id": "a2e70472",
   "metadata": {
    "papermill": {
     "duration": 0.050952,
     "end_time": "2023-07-03T00:15:02.220632",
     "exception": false,
     "start_time": "2023-07-03T00:15:02.169680",
     "status": "completed"
    },
    "tags": []
   },
   "source": [
    "- no missing values"
   ]
  },
  {
   "cell_type": "markdown",
   "id": "f9503e85",
   "metadata": {
    "papermill": {
     "duration": 0.051173,
     "end_time": "2023-07-03T00:15:02.322752",
     "exception": false,
     "start_time": "2023-07-03T00:15:02.271579",
     "status": "completed"
    },
    "tags": []
   },
   "source": [
    "# Encoding Categorical Features"
   ]
  },
  {
   "cell_type": "code",
   "execution_count": 60,
   "id": "abb63859",
   "metadata": {
    "execution": {
     "iopub.execute_input": "2023-07-03T00:15:02.428068Z",
     "iopub.status.busy": "2023-07-03T00:15:02.427278Z",
     "iopub.status.idle": "2023-07-03T00:15:02.464631Z",
     "shell.execute_reply": "2023-07-03T00:15:02.463470Z"
    },
    "papermill": {
     "duration": 0.092141,
     "end_time": "2023-07-03T00:15:02.467147",
     "exception": false,
     "start_time": "2023-07-03T00:15:02.375006",
     "status": "completed"
    },
    "tags": []
   },
   "outputs": [
    {
     "data": {
      "text/html": [
       "<div>\n",
       "<style scoped>\n",
       "    .dataframe tbody tr th:only-of-type {\n",
       "        vertical-align: middle;\n",
       "    }\n",
       "\n",
       "    .dataframe tbody tr th {\n",
       "        vertical-align: top;\n",
       "    }\n",
       "\n",
       "    .dataframe thead th {\n",
       "        text-align: right;\n",
       "    }\n",
       "</style>\n",
       "<table border=\"1\" class=\"dataframe\">\n",
       "  <thead>\n",
       "    <tr style=\"text-align: right;\">\n",
       "      <th></th>\n",
       "      <th>holiday</th>\n",
       "      <th>workingday</th>\n",
       "      <th>temp</th>\n",
       "      <th>humidity</th>\n",
       "      <th>count</th>\n",
       "      <th>Profit</th>\n",
       "      <th>Month_name</th>\n",
       "      <th>Hour</th>\n",
       "      <th>season_spring</th>\n",
       "      <th>season_summer</th>\n",
       "      <th>season_winter</th>\n",
       "      <th>weather_Mist</th>\n",
       "      <th>weather_Rainy</th>\n",
       "      <th>weather_snowy</th>\n",
       "      <th>Day_of_week_Monday</th>\n",
       "      <th>Day_of_week_Saturday</th>\n",
       "      <th>Day_of_week_Sunday</th>\n",
       "      <th>Day_of_week_Thursday</th>\n",
       "      <th>Day_of_week_Tuesday</th>\n",
       "      <th>Day_of_week_Wednesday</th>\n",
       "    </tr>\n",
       "  </thead>\n",
       "  <tbody>\n",
       "    <tr>\n",
       "      <th>0</th>\n",
       "      <td>0</td>\n",
       "      <td>0</td>\n",
       "      <td>9.84</td>\n",
       "      <td>81</td>\n",
       "      <td>16</td>\n",
       "      <td>107.328767</td>\n",
       "      <td>January</td>\n",
       "      <td>0</td>\n",
       "      <td>True</td>\n",
       "      <td>False</td>\n",
       "      <td>False</td>\n",
       "      <td>False</td>\n",
       "      <td>False</td>\n",
       "      <td>False</td>\n",
       "      <td>False</td>\n",
       "      <td>True</td>\n",
       "      <td>False</td>\n",
       "      <td>False</td>\n",
       "      <td>False</td>\n",
       "      <td>False</td>\n",
       "    </tr>\n",
       "    <tr>\n",
       "      <th>1</th>\n",
       "      <td>0</td>\n",
       "      <td>0</td>\n",
       "      <td>9.02</td>\n",
       "      <td>80</td>\n",
       "      <td>40</td>\n",
       "      <td>275.028767</td>\n",
       "      <td>January</td>\n",
       "      <td>1</td>\n",
       "      <td>True</td>\n",
       "      <td>False</td>\n",
       "      <td>False</td>\n",
       "      <td>False</td>\n",
       "      <td>False</td>\n",
       "      <td>False</td>\n",
       "      <td>False</td>\n",
       "      <td>True</td>\n",
       "      <td>False</td>\n",
       "      <td>False</td>\n",
       "      <td>False</td>\n",
       "      <td>False</td>\n",
       "    </tr>\n",
       "    <tr>\n",
       "      <th>2</th>\n",
       "      <td>0</td>\n",
       "      <td>0</td>\n",
       "      <td>9.02</td>\n",
       "      <td>80</td>\n",
       "      <td>32</td>\n",
       "      <td>201.928767</td>\n",
       "      <td>January</td>\n",
       "      <td>2</td>\n",
       "      <td>True</td>\n",
       "      <td>False</td>\n",
       "      <td>False</td>\n",
       "      <td>False</td>\n",
       "      <td>False</td>\n",
       "      <td>False</td>\n",
       "      <td>False</td>\n",
       "      <td>True</td>\n",
       "      <td>False</td>\n",
       "      <td>False</td>\n",
       "      <td>False</td>\n",
       "      <td>False</td>\n",
       "    </tr>\n",
       "    <tr>\n",
       "      <th>3</th>\n",
       "      <td>0</td>\n",
       "      <td>0</td>\n",
       "      <td>9.84</td>\n",
       "      <td>75</td>\n",
       "      <td>13</td>\n",
       "      <td>94.428767</td>\n",
       "      <td>January</td>\n",
       "      <td>3</td>\n",
       "      <td>True</td>\n",
       "      <td>False</td>\n",
       "      <td>False</td>\n",
       "      <td>False</td>\n",
       "      <td>False</td>\n",
       "      <td>False</td>\n",
       "      <td>False</td>\n",
       "      <td>True</td>\n",
       "      <td>False</td>\n",
       "      <td>False</td>\n",
       "      <td>False</td>\n",
       "      <td>False</td>\n",
       "    </tr>\n",
       "    <tr>\n",
       "      <th>4</th>\n",
       "      <td>0</td>\n",
       "      <td>0</td>\n",
       "      <td>9.84</td>\n",
       "      <td>75</td>\n",
       "      <td>1</td>\n",
       "      <td>4.128767</td>\n",
       "      <td>January</td>\n",
       "      <td>4</td>\n",
       "      <td>True</td>\n",
       "      <td>False</td>\n",
       "      <td>False</td>\n",
       "      <td>False</td>\n",
       "      <td>False</td>\n",
       "      <td>False</td>\n",
       "      <td>False</td>\n",
       "      <td>True</td>\n",
       "      <td>False</td>\n",
       "      <td>False</td>\n",
       "      <td>False</td>\n",
       "      <td>False</td>\n",
       "    </tr>\n",
       "    <tr>\n",
       "      <th>...</th>\n",
       "      <td>...</td>\n",
       "      <td>...</td>\n",
       "      <td>...</td>\n",
       "      <td>...</td>\n",
       "      <td>...</td>\n",
       "      <td>...</td>\n",
       "      <td>...</td>\n",
       "      <td>...</td>\n",
       "      <td>...</td>\n",
       "      <td>...</td>\n",
       "      <td>...</td>\n",
       "      <td>...</td>\n",
       "      <td>...</td>\n",
       "      <td>...</td>\n",
       "      <td>...</td>\n",
       "      <td>...</td>\n",
       "      <td>...</td>\n",
       "      <td>...</td>\n",
       "      <td>...</td>\n",
       "      <td>...</td>\n",
       "    </tr>\n",
       "    <tr>\n",
       "      <th>10881</th>\n",
       "      <td>0</td>\n",
       "      <td>1</td>\n",
       "      <td>15.58</td>\n",
       "      <td>50</td>\n",
       "      <td>336</td>\n",
       "      <td>1534.928767</td>\n",
       "      <td>December</td>\n",
       "      <td>19</td>\n",
       "      <td>False</td>\n",
       "      <td>False</td>\n",
       "      <td>True</td>\n",
       "      <td>False</td>\n",
       "      <td>False</td>\n",
       "      <td>False</td>\n",
       "      <td>False</td>\n",
       "      <td>False</td>\n",
       "      <td>False</td>\n",
       "      <td>False</td>\n",
       "      <td>False</td>\n",
       "      <td>True</td>\n",
       "    </tr>\n",
       "    <tr>\n",
       "      <th>10882</th>\n",
       "      <td>0</td>\n",
       "      <td>1</td>\n",
       "      <td>14.76</td>\n",
       "      <td>57</td>\n",
       "      <td>241</td>\n",
       "      <td>1165.128767</td>\n",
       "      <td>December</td>\n",
       "      <td>20</td>\n",
       "      <td>False</td>\n",
       "      <td>False</td>\n",
       "      <td>True</td>\n",
       "      <td>False</td>\n",
       "      <td>False</td>\n",
       "      <td>False</td>\n",
       "      <td>False</td>\n",
       "      <td>False</td>\n",
       "      <td>False</td>\n",
       "      <td>False</td>\n",
       "      <td>False</td>\n",
       "      <td>True</td>\n",
       "    </tr>\n",
       "    <tr>\n",
       "      <th>10883</th>\n",
       "      <td>0</td>\n",
       "      <td>1</td>\n",
       "      <td>13.94</td>\n",
       "      <td>61</td>\n",
       "      <td>168</td>\n",
       "      <td>773.828767</td>\n",
       "      <td>December</td>\n",
       "      <td>21</td>\n",
       "      <td>False</td>\n",
       "      <td>False</td>\n",
       "      <td>True</td>\n",
       "      <td>False</td>\n",
       "      <td>False</td>\n",
       "      <td>False</td>\n",
       "      <td>False</td>\n",
       "      <td>False</td>\n",
       "      <td>False</td>\n",
       "      <td>False</td>\n",
       "      <td>False</td>\n",
       "      <td>True</td>\n",
       "    </tr>\n",
       "    <tr>\n",
       "      <th>10884</th>\n",
       "      <td>0</td>\n",
       "      <td>1</td>\n",
       "      <td>13.94</td>\n",
       "      <td>61</td>\n",
       "      <td>129</td>\n",
       "      <td>709.328767</td>\n",
       "      <td>December</td>\n",
       "      <td>22</td>\n",
       "      <td>False</td>\n",
       "      <td>False</td>\n",
       "      <td>True</td>\n",
       "      <td>False</td>\n",
       "      <td>False</td>\n",
       "      <td>False</td>\n",
       "      <td>False</td>\n",
       "      <td>False</td>\n",
       "      <td>False</td>\n",
       "      <td>False</td>\n",
       "      <td>False</td>\n",
       "      <td>True</td>\n",
       "    </tr>\n",
       "    <tr>\n",
       "      <th>10885</th>\n",
       "      <td>0</td>\n",
       "      <td>1</td>\n",
       "      <td>13.12</td>\n",
       "      <td>66</td>\n",
       "      <td>88</td>\n",
       "      <td>429.828767</td>\n",
       "      <td>December</td>\n",
       "      <td>23</td>\n",
       "      <td>False</td>\n",
       "      <td>False</td>\n",
       "      <td>True</td>\n",
       "      <td>False</td>\n",
       "      <td>False</td>\n",
       "      <td>False</td>\n",
       "      <td>False</td>\n",
       "      <td>False</td>\n",
       "      <td>False</td>\n",
       "      <td>False</td>\n",
       "      <td>False</td>\n",
       "      <td>True</td>\n",
       "    </tr>\n",
       "  </tbody>\n",
       "</table>\n",
       "<p>10886 rows × 20 columns</p>\n",
       "</div>"
      ],
      "text/plain": [
       "       holiday  workingday   temp  humidity  count       Profit Month_name  \\\n",
       "0            0           0   9.84        81     16   107.328767    January   \n",
       "1            0           0   9.02        80     40   275.028767    January   \n",
       "2            0           0   9.02        80     32   201.928767    January   \n",
       "3            0           0   9.84        75     13    94.428767    January   \n",
       "4            0           0   9.84        75      1     4.128767    January   \n",
       "...        ...         ...    ...       ...    ...          ...        ...   \n",
       "10881        0           1  15.58        50    336  1534.928767   December   \n",
       "10882        0           1  14.76        57    241  1165.128767   December   \n",
       "10883        0           1  13.94        61    168   773.828767   December   \n",
       "10884        0           1  13.94        61    129   709.328767   December   \n",
       "10885        0           1  13.12        66     88   429.828767   December   \n",
       "\n",
       "       Hour  season_spring  season_summer  season_winter  weather_Mist  \\\n",
       "0         0           True          False          False         False   \n",
       "1         1           True          False          False         False   \n",
       "2         2           True          False          False         False   \n",
       "3         3           True          False          False         False   \n",
       "4         4           True          False          False         False   \n",
       "...     ...            ...            ...            ...           ...   \n",
       "10881    19          False          False           True         False   \n",
       "10882    20          False          False           True         False   \n",
       "10883    21          False          False           True         False   \n",
       "10884    22          False          False           True         False   \n",
       "10885    23          False          False           True         False   \n",
       "\n",
       "       weather_Rainy  weather_snowy  Day_of_week_Monday  Day_of_week_Saturday  \\\n",
       "0              False          False               False                  True   \n",
       "1              False          False               False                  True   \n",
       "2              False          False               False                  True   \n",
       "3              False          False               False                  True   \n",
       "4              False          False               False                  True   \n",
       "...              ...            ...                 ...                   ...   \n",
       "10881          False          False               False                 False   \n",
       "10882          False          False               False                 False   \n",
       "10883          False          False               False                 False   \n",
       "10884          False          False               False                 False   \n",
       "10885          False          False               False                 False   \n",
       "\n",
       "       Day_of_week_Sunday  Day_of_week_Thursday  Day_of_week_Tuesday  \\\n",
       "0                   False                 False                False   \n",
       "1                   False                 False                False   \n",
       "2                   False                 False                False   \n",
       "3                   False                 False                False   \n",
       "4                   False                 False                False   \n",
       "...                   ...                   ...                  ...   \n",
       "10881               False                 False                False   \n",
       "10882               False                 False                False   \n",
       "10883               False                 False                False   \n",
       "10884               False                 False                False   \n",
       "10885               False                 False                False   \n",
       "\n",
       "       Day_of_week_Wednesday  \n",
       "0                      False  \n",
       "1                      False  \n",
       "2                      False  \n",
       "3                      False  \n",
       "4                      False  \n",
       "...                      ...  \n",
       "10881                   True  \n",
       "10882                   True  \n",
       "10883                   True  \n",
       "10884                   True  \n",
       "10885                   True  \n",
       "\n",
       "[10886 rows x 20 columns]"
      ]
     },
     "execution_count": 60,
     "metadata": {},
     "output_type": "execute_result"
    }
   ],
   "source": [
    "df1= pd.get_dummies(df1,columns= ['season','weather','Day_of_week'],drop_first= True)\n",
    "df1"
   ]
  },
  {
   "cell_type": "code",
   "execution_count": 61,
   "id": "a630fbcc",
   "metadata": {
    "execution": {
     "iopub.execute_input": "2023-07-03T00:15:02.572398Z",
     "iopub.status.busy": "2023-07-03T00:15:02.571970Z",
     "iopub.status.idle": "2023-07-03T00:15:02.580869Z",
     "shell.execute_reply": "2023-07-03T00:15:02.579682Z"
    },
    "papermill": {
     "duration": 0.064569,
     "end_time": "2023-07-03T00:15:02.583286",
     "exception": false,
     "start_time": "2023-07-03T00:15:02.518717",
     "status": "completed"
    },
    "tags": []
   },
   "outputs": [],
   "source": [
    "df1['Month']= df['datetime'].dt.month\n",
    "df1=df1.drop(['Month_name'],axis=1)"
   ]
  },
  {
   "cell_type": "code",
   "execution_count": 62,
   "id": "30c4a478",
   "metadata": {
    "execution": {
     "iopub.execute_input": "2023-07-03T00:15:02.688319Z",
     "iopub.status.busy": "2023-07-03T00:15:02.687875Z",
     "iopub.status.idle": "2023-07-03T00:15:02.712303Z",
     "shell.execute_reply": "2023-07-03T00:15:02.711106Z"
    },
    "papermill": {
     "duration": 0.07969,
     "end_time": "2023-07-03T00:15:02.714801",
     "exception": false,
     "start_time": "2023-07-03T00:15:02.635111",
     "status": "completed"
    },
    "tags": []
   },
   "outputs": [
    {
     "data": {
      "text/html": [
       "<div>\n",
       "<style scoped>\n",
       "    .dataframe tbody tr th:only-of-type {\n",
       "        vertical-align: middle;\n",
       "    }\n",
       "\n",
       "    .dataframe tbody tr th {\n",
       "        vertical-align: top;\n",
       "    }\n",
       "\n",
       "    .dataframe thead th {\n",
       "        text-align: right;\n",
       "    }\n",
       "</style>\n",
       "<table border=\"1\" class=\"dataframe\">\n",
       "  <thead>\n",
       "    <tr style=\"text-align: right;\">\n",
       "      <th></th>\n",
       "      <th>holiday</th>\n",
       "      <th>workingday</th>\n",
       "      <th>temp</th>\n",
       "      <th>humidity</th>\n",
       "      <th>count</th>\n",
       "      <th>Profit</th>\n",
       "      <th>Hour</th>\n",
       "      <th>season_spring</th>\n",
       "      <th>season_summer</th>\n",
       "      <th>season_winter</th>\n",
       "      <th>weather_Mist</th>\n",
       "      <th>weather_Rainy</th>\n",
       "      <th>weather_snowy</th>\n",
       "      <th>Day_of_week_Monday</th>\n",
       "      <th>Day_of_week_Saturday</th>\n",
       "      <th>Day_of_week_Sunday</th>\n",
       "      <th>Day_of_week_Thursday</th>\n",
       "      <th>Day_of_week_Tuesday</th>\n",
       "      <th>Day_of_week_Wednesday</th>\n",
       "      <th>Month</th>\n",
       "    </tr>\n",
       "  </thead>\n",
       "  <tbody>\n",
       "    <tr>\n",
       "      <th>0</th>\n",
       "      <td>0</td>\n",
       "      <td>0</td>\n",
       "      <td>9.84</td>\n",
       "      <td>81</td>\n",
       "      <td>16</td>\n",
       "      <td>107.328767</td>\n",
       "      <td>0</td>\n",
       "      <td>True</td>\n",
       "      <td>False</td>\n",
       "      <td>False</td>\n",
       "      <td>False</td>\n",
       "      <td>False</td>\n",
       "      <td>False</td>\n",
       "      <td>False</td>\n",
       "      <td>True</td>\n",
       "      <td>False</td>\n",
       "      <td>False</td>\n",
       "      <td>False</td>\n",
       "      <td>False</td>\n",
       "      <td>1</td>\n",
       "    </tr>\n",
       "    <tr>\n",
       "      <th>1</th>\n",
       "      <td>0</td>\n",
       "      <td>0</td>\n",
       "      <td>9.02</td>\n",
       "      <td>80</td>\n",
       "      <td>40</td>\n",
       "      <td>275.028767</td>\n",
       "      <td>1</td>\n",
       "      <td>True</td>\n",
       "      <td>False</td>\n",
       "      <td>False</td>\n",
       "      <td>False</td>\n",
       "      <td>False</td>\n",
       "      <td>False</td>\n",
       "      <td>False</td>\n",
       "      <td>True</td>\n",
       "      <td>False</td>\n",
       "      <td>False</td>\n",
       "      <td>False</td>\n",
       "      <td>False</td>\n",
       "      <td>1</td>\n",
       "    </tr>\n",
       "    <tr>\n",
       "      <th>2</th>\n",
       "      <td>0</td>\n",
       "      <td>0</td>\n",
       "      <td>9.02</td>\n",
       "      <td>80</td>\n",
       "      <td>32</td>\n",
       "      <td>201.928767</td>\n",
       "      <td>2</td>\n",
       "      <td>True</td>\n",
       "      <td>False</td>\n",
       "      <td>False</td>\n",
       "      <td>False</td>\n",
       "      <td>False</td>\n",
       "      <td>False</td>\n",
       "      <td>False</td>\n",
       "      <td>True</td>\n",
       "      <td>False</td>\n",
       "      <td>False</td>\n",
       "      <td>False</td>\n",
       "      <td>False</td>\n",
       "      <td>1</td>\n",
       "    </tr>\n",
       "    <tr>\n",
       "      <th>3</th>\n",
       "      <td>0</td>\n",
       "      <td>0</td>\n",
       "      <td>9.84</td>\n",
       "      <td>75</td>\n",
       "      <td>13</td>\n",
       "      <td>94.428767</td>\n",
       "      <td>3</td>\n",
       "      <td>True</td>\n",
       "      <td>False</td>\n",
       "      <td>False</td>\n",
       "      <td>False</td>\n",
       "      <td>False</td>\n",
       "      <td>False</td>\n",
       "      <td>False</td>\n",
       "      <td>True</td>\n",
       "      <td>False</td>\n",
       "      <td>False</td>\n",
       "      <td>False</td>\n",
       "      <td>False</td>\n",
       "      <td>1</td>\n",
       "    </tr>\n",
       "    <tr>\n",
       "      <th>4</th>\n",
       "      <td>0</td>\n",
       "      <td>0</td>\n",
       "      <td>9.84</td>\n",
       "      <td>75</td>\n",
       "      <td>1</td>\n",
       "      <td>4.128767</td>\n",
       "      <td>4</td>\n",
       "      <td>True</td>\n",
       "      <td>False</td>\n",
       "      <td>False</td>\n",
       "      <td>False</td>\n",
       "      <td>False</td>\n",
       "      <td>False</td>\n",
       "      <td>False</td>\n",
       "      <td>True</td>\n",
       "      <td>False</td>\n",
       "      <td>False</td>\n",
       "      <td>False</td>\n",
       "      <td>False</td>\n",
       "      <td>1</td>\n",
       "    </tr>\n",
       "    <tr>\n",
       "      <th>...</th>\n",
       "      <td>...</td>\n",
       "      <td>...</td>\n",
       "      <td>...</td>\n",
       "      <td>...</td>\n",
       "      <td>...</td>\n",
       "      <td>...</td>\n",
       "      <td>...</td>\n",
       "      <td>...</td>\n",
       "      <td>...</td>\n",
       "      <td>...</td>\n",
       "      <td>...</td>\n",
       "      <td>...</td>\n",
       "      <td>...</td>\n",
       "      <td>...</td>\n",
       "      <td>...</td>\n",
       "      <td>...</td>\n",
       "      <td>...</td>\n",
       "      <td>...</td>\n",
       "      <td>...</td>\n",
       "      <td>...</td>\n",
       "    </tr>\n",
       "    <tr>\n",
       "      <th>10881</th>\n",
       "      <td>0</td>\n",
       "      <td>1</td>\n",
       "      <td>15.58</td>\n",
       "      <td>50</td>\n",
       "      <td>336</td>\n",
       "      <td>1534.928767</td>\n",
       "      <td>19</td>\n",
       "      <td>False</td>\n",
       "      <td>False</td>\n",
       "      <td>True</td>\n",
       "      <td>False</td>\n",
       "      <td>False</td>\n",
       "      <td>False</td>\n",
       "      <td>False</td>\n",
       "      <td>False</td>\n",
       "      <td>False</td>\n",
       "      <td>False</td>\n",
       "      <td>False</td>\n",
       "      <td>True</td>\n",
       "      <td>12</td>\n",
       "    </tr>\n",
       "    <tr>\n",
       "      <th>10882</th>\n",
       "      <td>0</td>\n",
       "      <td>1</td>\n",
       "      <td>14.76</td>\n",
       "      <td>57</td>\n",
       "      <td>241</td>\n",
       "      <td>1165.128767</td>\n",
       "      <td>20</td>\n",
       "      <td>False</td>\n",
       "      <td>False</td>\n",
       "      <td>True</td>\n",
       "      <td>False</td>\n",
       "      <td>False</td>\n",
       "      <td>False</td>\n",
       "      <td>False</td>\n",
       "      <td>False</td>\n",
       "      <td>False</td>\n",
       "      <td>False</td>\n",
       "      <td>False</td>\n",
       "      <td>True</td>\n",
       "      <td>12</td>\n",
       "    </tr>\n",
       "    <tr>\n",
       "      <th>10883</th>\n",
       "      <td>0</td>\n",
       "      <td>1</td>\n",
       "      <td>13.94</td>\n",
       "      <td>61</td>\n",
       "      <td>168</td>\n",
       "      <td>773.828767</td>\n",
       "      <td>21</td>\n",
       "      <td>False</td>\n",
       "      <td>False</td>\n",
       "      <td>True</td>\n",
       "      <td>False</td>\n",
       "      <td>False</td>\n",
       "      <td>False</td>\n",
       "      <td>False</td>\n",
       "      <td>False</td>\n",
       "      <td>False</td>\n",
       "      <td>False</td>\n",
       "      <td>False</td>\n",
       "      <td>True</td>\n",
       "      <td>12</td>\n",
       "    </tr>\n",
       "    <tr>\n",
       "      <th>10884</th>\n",
       "      <td>0</td>\n",
       "      <td>1</td>\n",
       "      <td>13.94</td>\n",
       "      <td>61</td>\n",
       "      <td>129</td>\n",
       "      <td>709.328767</td>\n",
       "      <td>22</td>\n",
       "      <td>False</td>\n",
       "      <td>False</td>\n",
       "      <td>True</td>\n",
       "      <td>False</td>\n",
       "      <td>False</td>\n",
       "      <td>False</td>\n",
       "      <td>False</td>\n",
       "      <td>False</td>\n",
       "      <td>False</td>\n",
       "      <td>False</td>\n",
       "      <td>False</td>\n",
       "      <td>True</td>\n",
       "      <td>12</td>\n",
       "    </tr>\n",
       "    <tr>\n",
       "      <th>10885</th>\n",
       "      <td>0</td>\n",
       "      <td>1</td>\n",
       "      <td>13.12</td>\n",
       "      <td>66</td>\n",
       "      <td>88</td>\n",
       "      <td>429.828767</td>\n",
       "      <td>23</td>\n",
       "      <td>False</td>\n",
       "      <td>False</td>\n",
       "      <td>True</td>\n",
       "      <td>False</td>\n",
       "      <td>False</td>\n",
       "      <td>False</td>\n",
       "      <td>False</td>\n",
       "      <td>False</td>\n",
       "      <td>False</td>\n",
       "      <td>False</td>\n",
       "      <td>False</td>\n",
       "      <td>True</td>\n",
       "      <td>12</td>\n",
       "    </tr>\n",
       "  </tbody>\n",
       "</table>\n",
       "<p>10886 rows × 20 columns</p>\n",
       "</div>"
      ],
      "text/plain": [
       "       holiday  workingday   temp  humidity  count       Profit  Hour  \\\n",
       "0            0           0   9.84        81     16   107.328767     0   \n",
       "1            0           0   9.02        80     40   275.028767     1   \n",
       "2            0           0   9.02        80     32   201.928767     2   \n",
       "3            0           0   9.84        75     13    94.428767     3   \n",
       "4            0           0   9.84        75      1     4.128767     4   \n",
       "...        ...         ...    ...       ...    ...          ...   ...   \n",
       "10881        0           1  15.58        50    336  1534.928767    19   \n",
       "10882        0           1  14.76        57    241  1165.128767    20   \n",
       "10883        0           1  13.94        61    168   773.828767    21   \n",
       "10884        0           1  13.94        61    129   709.328767    22   \n",
       "10885        0           1  13.12        66     88   429.828767    23   \n",
       "\n",
       "       season_spring  season_summer  season_winter  weather_Mist  \\\n",
       "0               True          False          False         False   \n",
       "1               True          False          False         False   \n",
       "2               True          False          False         False   \n",
       "3               True          False          False         False   \n",
       "4               True          False          False         False   \n",
       "...              ...            ...            ...           ...   \n",
       "10881          False          False           True         False   \n",
       "10882          False          False           True         False   \n",
       "10883          False          False           True         False   \n",
       "10884          False          False           True         False   \n",
       "10885          False          False           True         False   \n",
       "\n",
       "       weather_Rainy  weather_snowy  Day_of_week_Monday  Day_of_week_Saturday  \\\n",
       "0              False          False               False                  True   \n",
       "1              False          False               False                  True   \n",
       "2              False          False               False                  True   \n",
       "3              False          False               False                  True   \n",
       "4              False          False               False                  True   \n",
       "...              ...            ...                 ...                   ...   \n",
       "10881          False          False               False                 False   \n",
       "10882          False          False               False                 False   \n",
       "10883          False          False               False                 False   \n",
       "10884          False          False               False                 False   \n",
       "10885          False          False               False                 False   \n",
       "\n",
       "       Day_of_week_Sunday  Day_of_week_Thursday  Day_of_week_Tuesday  \\\n",
       "0                   False                 False                False   \n",
       "1                   False                 False                False   \n",
       "2                   False                 False                False   \n",
       "3                   False                 False                False   \n",
       "4                   False                 False                False   \n",
       "...                   ...                   ...                  ...   \n",
       "10881               False                 False                False   \n",
       "10882               False                 False                False   \n",
       "10883               False                 False                False   \n",
       "10884               False                 False                False   \n",
       "10885               False                 False                False   \n",
       "\n",
       "       Day_of_week_Wednesday  Month  \n",
       "0                      False      1  \n",
       "1                      False      1  \n",
       "2                      False      1  \n",
       "3                      False      1  \n",
       "4                      False      1  \n",
       "...                      ...    ...  \n",
       "10881                   True     12  \n",
       "10882                   True     12  \n",
       "10883                   True     12  \n",
       "10884                   True     12  \n",
       "10885                   True     12  \n",
       "\n",
       "[10886 rows x 20 columns]"
      ]
     },
     "execution_count": 62,
     "metadata": {},
     "output_type": "execute_result"
    }
   ],
   "source": [
    "df1"
   ]
  },
  {
   "cell_type": "markdown",
   "id": "58c68c26",
   "metadata": {
    "papermill": {
     "duration": 0.067213,
     "end_time": "2023-07-03T00:15:02.834394",
     "exception": false,
     "start_time": "2023-07-03T00:15:02.767181",
     "status": "completed"
    },
    "tags": []
   },
   "source": [
    "### check  Outliers"
   ]
  },
  {
   "cell_type": "code",
   "execution_count": 63,
   "id": "7d45a5f8",
   "metadata": {
    "execution": {
     "iopub.execute_input": "2023-07-03T00:15:03.017296Z",
     "iopub.status.busy": "2023-07-03T00:15:03.016275Z",
     "iopub.status.idle": "2023-07-03T00:15:03.406543Z",
     "shell.execute_reply": "2023-07-03T00:15:03.405693Z"
    },
    "papermill": {
     "duration": 0.44755,
     "end_time": "2023-07-03T00:15:03.408683",
     "exception": false,
     "start_time": "2023-07-03T00:15:02.961133",
     "status": "completed"
    },
    "tags": []
   },
   "outputs": [
    {
     "data": {
      "text/plain": [
       "<Axes: ylabel='Frequency'>"
      ]
     },
     "execution_count": 63,
     "metadata": {},
     "output_type": "execute_result"
    },
    {
     "data": {
      "image/png": "[encoded data removed]",
      "text/plain": [
       "<Figure size 640x480 with 1 Axes>"
      ]
     },
     "metadata": {},
     "output_type": "display_data"
    }
   ],
   "source": [
    "df['temp'].plot.hist(bins=10)"
   ]
  },
  {
   "cell_type": "code",
   "execution_count": 64,
   "id": "9e95eca0",
   "metadata": {
    "execution": {
     "iopub.execute_input": "2023-07-03T00:15:03.518885Z",
     "iopub.status.busy": "2023-07-03T00:15:03.518097Z",
     "iopub.status.idle": "2023-07-03T00:15:03.826844Z",
     "shell.execute_reply": "2023-07-03T00:15:03.825639Z"
    },
    "papermill": {
     "duration": 0.366749,
     "end_time": "2023-07-03T00:15:03.829357",
     "exception": false,
     "start_time": "2023-07-03T00:15:03.462608",
     "status": "completed"
    },
    "tags": []
   },
   "outputs": [
    {
     "data": {
      "text/plain": [
       "<Axes: ylabel='Frequency'>"
      ]
     },
     "execution_count": 64,
     "metadata": {},
     "output_type": "execute_result"
    },
    {
     "data": {
      "image/png": "[encoded data removed]",
      "text/plain": [
       "<Figure size 640x480 with 1 Axes>"
      ]
     },
     "metadata": {},
     "output_type": "display_data"
    }
   ],
   "source": [
    "df['count'].plot.hist(bins=10)"
   ]
  },
  {
   "cell_type": "code",
   "execution_count": 65,
   "id": "6731e745",
   "metadata": {
    "execution": {
     "iopub.execute_input": "2023-07-03T00:15:03.939484Z",
     "iopub.status.busy": "2023-07-03T00:15:03.938402Z",
     "iopub.status.idle": "2023-07-03T00:15:04.251364Z",
     "shell.execute_reply": "2023-07-03T00:15:04.250341Z"
    },
    "papermill": {
     "duration": 0.370506,
     "end_time": "2023-07-03T00:15:04.253571",
     "exception": false,
     "start_time": "2023-07-03T00:15:03.883065",
     "status": "completed"
    },
    "tags": []
   },
   "outputs": [
    {
     "data": {
      "text/plain": [
       "<Axes: ylabel='Frequency'>"
      ]
     },
     "execution_count": 65,
     "metadata": {},
     "output_type": "execute_result"
    },
    {
     "data": {
      "image/png": "[encoded data removed]",
      "text/plain": [
       "<Figure size 640x480 with 1 Axes>"
      ]
     },
     "metadata": {},
     "output_type": "display_data"
    }
   ],
   "source": [
    "df['Profit'].plot.hist(bins=10)"
   ]
  },
  {
   "cell_type": "code",
   "execution_count": 66,
   "id": "016a12ed",
   "metadata": {
    "execution": {
     "iopub.execute_input": "2023-07-03T00:15:04.363952Z",
     "iopub.status.busy": "2023-07-03T00:15:04.363475Z",
     "iopub.status.idle": "2023-07-03T00:15:04.612862Z",
     "shell.execute_reply": "2023-07-03T00:15:04.611695Z"
    },
    "papermill": {
     "duration": 0.306889,
     "end_time": "2023-07-03T00:15:04.615307",
     "exception": false,
     "start_time": "2023-07-03T00:15:04.308418",
     "status": "completed"
    },
    "scrolled": true,
    "tags": []
   },
   "outputs": [
    {
     "data": {
      "text/plain": [
       "<Axes: >"
      ]
     },
     "execution_count": 66,
     "metadata": {},
     "output_type": "execute_result"
    },
    {
     "data": {
      "image/png": "[encoded data removed]",
      "text/plain": [
       "<Figure size 640x480 with 1 Axes>"
      ]
     },
     "metadata": {},
     "output_type": "display_data"
    }
   ],
   "source": [
    "df['Profit'].plot.box()"
   ]
  },
  {
   "cell_type": "markdown",
   "id": "3a19e0c5",
   "metadata": {
    "papermill": {
     "duration": 0.054331,
     "end_time": "2023-07-03T00:15:04.724618",
     "exception": false,
     "start_time": "2023-07-03T00:15:04.670287",
     "status": "completed"
    },
    "tags": []
   },
   "source": [
    "- i think no outliers, that’s important values"
   ]
  },
  {
   "cell_type": "code",
   "execution_count": 67,
   "id": "91ff14fe",
   "metadata": {
    "execution": {
     "iopub.execute_input": "2023-07-03T00:15:04.837384Z",
     "iopub.status.busy": "2023-07-03T00:15:04.836969Z",
     "iopub.status.idle": "2023-07-03T00:15:05.134968Z",
     "shell.execute_reply": "2023-07-03T00:15:05.133785Z"
    },
    "papermill": {
     "duration": 0.357875,
     "end_time": "2023-07-03T00:15:05.137422",
     "exception": false,
     "start_time": "2023-07-03T00:15:04.779547",
     "status": "completed"
    },
    "tags": []
   },
   "outputs": [
    {
     "data": {
      "text/plain": [
       "<Axes: ylabel='Frequency'>"
      ]
     },
     "execution_count": 67,
     "metadata": {},
     "output_type": "execute_result"
    },
    {
     "data": {
      "image/png": "[encoded data removed]",
      "text/plain": [
       "<Figure size 640x480 with 1 Axes>"
      ]
     },
     "metadata": {},
     "output_type": "display_data"
    }
   ],
   "source": [
    "df['humidity'].plot.hist(bins=10)"
   ]
  },
  {
   "cell_type": "markdown",
   "id": "db7438d6",
   "metadata": {
    "papermill": {
     "duration": 0.053733,
     "end_time": "2023-07-03T00:15:05.246072",
     "exception": false,
     "start_time": "2023-07-03T00:15:05.192339",
     "status": "completed"
    },
    "tags": []
   },
   "source": [
    "- No Outliers"
   ]
  },
  {
   "cell_type": "markdown",
   "id": "f1e3dd1b",
   "metadata": {
    "papermill": {
     "duration": 0.054736,
     "end_time": "2023-07-03T00:15:05.355303",
     "exception": false,
     "start_time": "2023-07-03T00:15:05.300567",
     "status": "completed"
    },
    "tags": []
   },
   "source": [
    "# Splitting & Preprocessing Data"
   ]
  },
  {
   "cell_type": "code",
   "execution_count": 68,
   "id": "14e6c385",
   "metadata": {
    "execution": {
     "iopub.execute_input": "2023-07-03T00:15:05.466515Z",
     "iopub.status.busy": "2023-07-03T00:15:05.466100Z",
     "iopub.status.idle": "2023-07-03T00:15:05.472654Z",
     "shell.execute_reply": "2023-07-03T00:15:05.471598Z"
    },
    "papermill": {
     "duration": 0.06484,
     "end_time": "2023-07-03T00:15:05.474875",
     "exception": false,
     "start_time": "2023-07-03T00:15:05.410035",
     "status": "completed"
    },
    "tags": []
   },
   "outputs": [],
   "source": [
    "X= df1.drop(['Profit'],axis=1)\n",
    "y= df1['Profit']"
   ]
  },
  {
   "cell_type": "code",
   "execution_count": 69,
   "id": "54553557",
   "metadata": {
    "execution": {
     "iopub.execute_input": "2023-07-03T00:15:05.597989Z",
     "iopub.status.busy": "2023-07-03T00:15:05.597548Z",
     "iopub.status.idle": "2023-07-03T00:15:05.848373Z",
     "shell.execute_reply": "2023-07-03T00:15:05.847439Z"
    },
    "papermill": {
     "duration": 0.319192,
     "end_time": "2023-07-03T00:15:05.851065",
     "exception": false,
     "start_time": "2023-07-03T00:15:05.531873",
     "status": "completed"
    },
    "tags": []
   },
   "outputs": [],
   "source": [
    "from sklearn.model_selection import train_test_split\n",
    "X_train, X_test, y_train, y_test = train_test_split(X, y, test_size=0.25)"
   ]
  },
  {
   "cell_type": "markdown",
   "id": "1f4fa45c",
   "metadata": {
    "papermill": {
     "duration": 0.053203,
     "end_time": "2023-07-03T00:15:05.958961",
     "exception": false,
     "start_time": "2023-07-03T00:15:05.905758",
     "status": "completed"
    },
    "tags": []
   },
   "source": [
    "# Normalization"
   ]
  },
  {
   "cell_type": "code",
   "execution_count": 70,
   "id": "1aa0d9f1",
   "metadata": {
    "execution": {
     "iopub.execute_input": "2023-07-03T00:15:06.070068Z",
     "iopub.status.busy": "2023-07-03T00:15:06.069319Z",
     "iopub.status.idle": "2023-07-03T00:15:06.083930Z",
     "shell.execute_reply": "2023-07-03T00:15:06.083037Z"
    },
    "papermill": {
     "duration": 0.07201,
     "end_time": "2023-07-03T00:15:06.086306",
     "exception": false,
     "start_time": "2023-07-03T00:15:06.014296",
     "status": "completed"
    },
    "tags": []
   },
   "outputs": [],
   "source": [
    "from sklearn.preprocessing import StandardScaler\n",
    "\n",
    "sc = StandardScaler()\n",
    "\n",
    "X_train=sc.fit_transform(X_train)\n",
    "\n",
    "X_test=sc.transform(X_test)"
   ]
  },
  {
   "cell_type": "markdown",
   "id": "f7ff858f",
   "metadata": {
    "papermill": {
     "duration": 0.053068,
     "end_time": "2023-07-03T00:15:06.191767",
     "exception": false,
     "start_time": "2023-07-03T00:15:06.138699",
     "status": "completed"
    },
    "tags": []
   },
   "source": [
    "# Model Training & Predicting"
   ]
  },
  {
   "cell_type": "code",
   "execution_count": null,
   "id": "973848a0",
   "metadata": {
    "execution": {
     "iopub.execute_input": "2023-07-03T00:15:06.298966Z",
     "iopub.status.busy": "2023-07-03T00:15:06.298198Z",
     "iopub.status.idle": "2023-07-03T00:15:06.784545Z",
     "shell.execute_reply": "2023-07-03T00:15:06.783587Z"
    },
    "papermill": {
     "duration": 0.543059,
     "end_time": "2023-07-03T00:15:06.787340",
     "exception": false,
     "start_time": "2023-07-03T00:15:06.244281",
     "status": "completed"
    },
    "tags": []
   },
   "outputs": [],
   "source": [
    "\n",
    "\n"
   ]
  },
  {
   "cell_type": "code",
   "execution_count": 78,
   "id": "3af08240",
   "metadata": {
    "execution": {
     "iopub.execute_input": "2023-07-03T00:15:22.525067Z",
     "iopub.status.busy": "2023-07-03T00:15:22.524610Z",
     "iopub.status.idle": "2023-07-03T00:15:25.865044Z",
     "shell.execute_reply": "2023-07-03T00:15:25.864280Z"
    },
    "papermill": {
     "duration": 3.399903,
     "end_time": "2023-07-03T00:15:25.866984",
     "exception": false,
     "start_time": "2023-07-03T00:15:22.467081",
     "status": "completed"
    },
    "tags": []
   },
   "outputs": [
    {
     "data": {
      "text/plain": [
       "array([1002.54576712, 1713.98076712,  647.10776712, ..., 2095.17576712,\n",
       "        859.61376712,  360.21176712])"
      ]
     },
     "execution_count": 78,
     "metadata": {},
     "output_type": "execute_result"
    }
   ],
   "source": [
    "model = RandomForestRegressor()\n",
    "model.fit(X_train,y_train)\n",
    "y_pred = model.predict(X_test)\n",
    "y_pred"
   ]
  },
  {
   "cell_type": "code",
   "execution_count": 79,
   "id": "d5a9e5c2",
   "metadata": {
    "execution": {
     "iopub.execute_input": "2023-07-03T00:15:25.974482Z",
     "iopub.status.busy": "2023-07-03T00:15:25.973959Z",
     "iopub.status.idle": "2023-07-03T00:15:25.980502Z",
     "shell.execute_reply": "2023-07-03T00:15:25.979792Z"
    },
    "papermill": {
     "duration": 0.062762,
     "end_time": "2023-07-03T00:15:25.982517",
     "exception": false,
     "start_time": "2023-07-03T00:15:25.919755",
     "status": "completed"
    },
    "scrolled": true,
    "tags": []
   },
   "outputs": [
    {
     "data": {
      "text/plain": [
       "10571     911.428767\n",
       "5918     1612.328767\n",
       "9554      515.828767\n",
       "2580      928.628767\n",
       "7951     2958.228767\n",
       "            ...     \n",
       "10063    3405.428767\n",
       "3171      103.028767\n",
       "4998     2081.028767\n",
       "5749      812.528767\n",
       "3843      386.828767\n",
       "Name: Profit, Length: 2722, dtype: float64"
      ]
     },
     "execution_count": 79,
     "metadata": {},
     "output_type": "execute_result"
    }
   ],
   "source": [
    "y_test"
   ]
  },
  {
   "cell_type": "markdown",
   "id": "4207ee33",
   "metadata": {
    "papermill": {
     "duration": 0.053793,
     "end_time": "2023-07-03T00:15:26.088998",
     "exception": false,
     "start_time": "2023-07-03T00:15:26.035205",
     "status": "completed"
    },
    "tags": []
   },
   "source": [
    "### Model Evaluation"
   ]
  },
  {
   "cell_type": "code",
   "execution_count": null,
   "id": "257bf49a",
   "metadata": {
    "execution": {
     "iopub.execute_input": "2023-07-03T00:15:26.194151Z",
     "iopub.status.busy": "2023-07-03T00:15:26.193702Z",
     "iopub.status.idle": "2023-07-03T00:15:26.202874Z",
     "shell.execute_reply": "2023-07-03T00:15:26.201864Z"
    },
    "papermill": {
     "duration": 0.064184,
     "end_time": "2023-07-03T00:15:26.204949",
     "exception": false,
     "start_time": "2023-07-03T00:15:26.140765",
     "status": "completed"
    },
    "tags": []
   },
   "outputs": [],
   "source": []
  },
  {
   "cell_type": "markdown",
   "id": "4ab47559",
   "metadata": {
    "papermill": {
     "duration": 0.053625,
     "end_time": "2023-07-03T00:15:26.311094",
     "exception": false,
     "start_time": "2023-07-03T00:15:26.257469",
     "status": "completed"
    },
    "tags": []
   },
   "source": [
    "## Testing  & Save train model"
   ]
  },
  {
   "cell_type": "code",
   "execution_count": 81,
   "id": "8a62a730",
   "metadata": {
    "execution": {
     "iopub.execute_input": "2023-07-03T00:15:26.419341Z",
     "iopub.status.busy": "2023-07-03T00:15:26.418981Z",
     "iopub.status.idle": "2023-07-03T00:15:26.423653Z",
     "shell.execute_reply": "2023-07-03T00:15:26.422741Z"
    },
    "papermill": {
     "duration": 0.061417,
     "end_time": "2023-07-03T00:15:26.425560",
     "exception": false,
     "start_time": "2023-07-03T00:15:26.364143",
     "status": "completed"
    },
    "tags": []
   },
   "outputs": [],
   "source": [
    "import pickle"
   ]
  },
  {
   "cell_type": "code",
   "execution_count": 82,
   "id": "a4f3a97d",
   "metadata": {
    "execution": {
     "iopub.execute_input": "2023-07-03T00:15:26.530868Z",
     "iopub.status.busy": "2023-07-03T00:15:26.530154Z",
     "iopub.status.idle": "2023-07-03T00:15:26.637579Z",
     "shell.execute_reply": "2023-07-03T00:15:26.636861Z"
    },
    "papermill": {
     "duration": 0.1627,
     "end_time": "2023-07-03T00:15:26.639869",
     "exception": false,
     "start_time": "2023-07-03T00:15:26.477169",
     "status": "completed"
    },
    "tags": []
   },
   "outputs": [],
   "source": [
    "model_name= 'trained model.sav'\n",
    "pickle.dump(model,open(model_name,'wb'))\n",
    "scaler_name= 'trained Scaler.sav'\n",
    "pickle.dump(sc,open(scaler_name,'wb'))"
   ]
  },
  {
   "cell_type": "code",
   "execution_count": 83,
   "id": "715824cc",
   "metadata": {
    "execution": {
     "iopub.execute_input": "2023-07-03T00:15:26.747857Z",
     "iopub.status.busy": "2023-07-03T00:15:26.747471Z",
     "iopub.status.idle": "2023-07-03T00:15:26.857645Z",
     "shell.execute_reply": "2023-07-03T00:15:26.856769Z"
    },
    "papermill": {
     "duration": 0.167267,
     "end_time": "2023-07-03T00:15:26.859991",
     "exception": false,
     "start_time": "2023-07-03T00:15:26.692724",
     "status": "completed"
    },
    "tags": []
   },
   "outputs": [],
   "source": [
    "loaded_model= pickle.load(open('trained model.sav','rb'))\n",
    "loaded_model= pickle.load(open('trained Scaler.sav','rb'))"
   ]
  },
  {
   "cell_type": "code",
   "execution_count": 84,
   "id": "c124f989",
   "metadata": {
    "execution": {
     "iopub.execute_input": "2023-07-03T00:15:26.963665Z",
     "iopub.status.busy": "2023-07-03T00:15:26.963335Z",
     "iopub.status.idle": "2023-07-03T00:15:26.968574Z",
     "shell.execute_reply": "2023-07-03T00:15:26.967978Z"
    },
    "papermill": {
     "duration": 0.058594,
     "end_time": "2023-07-03T00:15:26.970340",
     "exception": false,
     "start_time": "2023-07-03T00:15:26.911746",
     "status": "completed"
    },
    "tags": []
   },
   "outputs": [
    {
     "data": {
      "text/plain": [
       "Index(['holiday', 'workingday', 'temp', 'humidity', 'count', 'Hour',\n",
       "       'season_spring', 'season_summer', 'season_winter', 'weather_Mist',\n",
       "       'weather_Rainy', 'weather_snowy', 'Day_of_week_Monday',\n",
       "       'Day_of_week_Saturday', 'Day_of_week_Sunday', 'Day_of_week_Thursday',\n",
       "       'Day_of_week_Tuesday', 'Day_of_week_Wednesday', 'Month'],\n",
       "      dtype='object')"
      ]
     },
     "execution_count": 84,
     "metadata": {},
     "output_type": "execute_result"
    }
   ],
   "source": [
    "X.columns"
   ]
  },
  {
   "cell_type": "code",
   "execution_count": 85,
   "id": "61b5aba4",
   "metadata": {
    "execution": {
     "iopub.execute_input": "2023-07-03T00:15:27.072664Z",
     "iopub.status.busy": "2023-07-03T00:15:27.072297Z",
     "iopub.status.idle": "2023-07-03T00:15:27.090680Z",
     "shell.execute_reply": "2023-07-03T00:15:27.089774Z"
    },
    "papermill": {
     "duration": 0.073089,
     "end_time": "2023-07-03T00:15:27.092987",
     "exception": false,
     "start_time": "2023-07-03T00:15:27.019898",
     "status": "completed"
    },
    "tags": []
   },
   "outputs": [
    {
     "name": "stderr",
     "output_type": "stream",
     "text": [
      "/Users/tanayparikh/Library/Python/3.9/lib/python/site-packages/sklearn/base.py:465: UserWarning: X does not have valid feature names, but StandardScaler was fitted with feature names\n",
      "  warnings.warn(\n"
     ]
    },
    {
     "data": {
      "text/plain": [
       "array([956.49276712])"
      ]
     },
     "execution_count": 85,
     "metadata": {},
     "output_type": "execute_result"
    }
   ],
   "source": [
    "input_data= [1, 0, 24, 60, 126, 8, 1, 0, 0, 0, 1, 0, 0, 0, 0, 0, 0, 1, 5]\n",
    "input_data = sc.transform([input_data])\n",
    "model.predict(input_data)"
   ]
  },
  {
   "cell_type": "code",
   "execution_count": null,
   "id": "db84b4fe",
   "metadata": {
    "papermill": {
     "duration": 0.051743,
     "end_time": "2023-07-03T00:15:27.195316",
     "exception": false,
     "start_time": "2023-07-03T00:15:27.143573",
     "status": "completed"
    },
    "tags": []
   },
   "outputs": [],
   "source": []
  },
  {
   "cell_type": "code",
   "execution_count": null,
   "id": "7b07f2c0",
   "metadata": {
    "papermill": {
     "duration": 0.051593,
     "end_time": "2023-07-03T00:15:27.298359",
     "exception": false,
     "start_time": "2023-07-03T00:15:27.246766",
     "status": "completed"
    },
    "tags": []
   },
   "outputs": [],
   "source": []
  }
 ],
 "metadata": {
  "kernelspec": {
   "display_name": "Python 3",
   "language": "python",
   "name": "python3"
  },
  "language_info": {
   "codemirror_mode": {
    "name": "ipython",
    "version": 3
   },
   "file_extension": ".py",
   "mimetype": "text/x-python",
   "name": "python",
   "nbconvert_exporter": "python",
   "pygments_lexer": "ipython3",
   "version": "3.9.6"
  },
  "papermill": {
   "default_parameters": {},
   "duration": 55.365246,
   "end_time": "2023-07-03T00:15:28.372677",
   "environment_variables": {},
   "exception": null,
   "input_path": "__notebook__.ipynb",
   "output_path": "__notebook__.ipynb",
   "parameters": {},
   "start_time": "2023-07-03T00:14:33.007431",
   "version": "2.4.0"
  }
 },
 "nbformat": 4,
 "nbformat_minor": 5
}
